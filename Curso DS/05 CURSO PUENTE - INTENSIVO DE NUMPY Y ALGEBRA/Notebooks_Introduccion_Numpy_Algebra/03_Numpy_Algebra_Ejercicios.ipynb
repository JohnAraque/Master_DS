{
 "cells": [
  {
   "cell_type": "markdown",
   "metadata": {},
   "source": [
    "# INTENSIVOS DE NUMPY Y ALGEBRA: EJERCICIOS"
   ]
  },
  {
   "cell_type": "markdown",
   "metadata": {},
   "source": [
    "Estos ejercicios te permitirán repasar y consolidar lo que has aprendido en los intensivos de Numpy y Álgebra.\n",
    "\n",
    "No hagas los ejercicios hasta que hayas estudiado y memorizado el contenido de sus notebooks.\n",
    "\n",
    "Instrucciones:\n",
    "\n",
    "* Crea una copia de este notebook antes de escribir nada. De esa forma respetarás el original para volver a hacerlo\n",
    "* Cada ejercicio tiene unas instrucciones de lo que debes hacer en él\n",
    "* Bajo las instrucciones estará una celda vacía, aquí es donde tú debes escribir la solución\n",
    "* Y bajo esta última celda verás que hay otras dos celdas. La primera está vacía y no la debes tocar. Es para que tengas siempre a mano la solución al ejercicio, ya que esta no va a cambiar"
   ]
  },
  {
   "cell_type": "markdown",
   "metadata": {},
   "source": [
    "## Ejercicio:\n",
    "\n",
    "Importa numpy como np"
   ]
  },
  {
   "cell_type": "code",
   "execution_count": 45,
   "metadata": {},
   "outputs": [],
   "source": []
  },
  {
   "cell_type": "markdown",
   "metadata": {},
   "source": [
    "## Ejercicio:\n",
    "\n",
    "Crea una lista de Python con los números del 1 a l0. Y después suma 5 a cada uno de sus elementos."
   ]
  },
  {
   "cell_type": "code",
   "execution_count": null,
   "metadata": {},
   "outputs": [],
   "source": []
  },
  {
   "cell_type": "code",
   "execution_count": 46,
   "metadata": {},
   "outputs": [
    {
     "data": {
      "text/plain": [
       "[6, 7, 8, 9, 10, 11, 12, 13, 14, 15]"
      ]
     },
     "execution_count": 46,
     "metadata": {},
     "output_type": "execute_result"
    }
   ],
   "source": [
    "#No tocar, es para que veas la solución"
   ]
  },
  {
   "cell_type": "markdown",
   "metadata": {},
   "source": [
    "## Ejercicio:\n",
    "\n",
    "Haz lo mismo pero ahora usando numpy (primero crea un vector a partir de lista)."
   ]
  },
  {
   "cell_type": "code",
   "execution_count": null,
   "metadata": {},
   "outputs": [],
   "source": []
  },
  {
   "cell_type": "code",
   "execution_count": 48,
   "metadata": {},
   "outputs": [
    {
     "data": {
      "text/plain": [
       "array([ 6,  7,  8,  9, 10, 11, 12, 13, 14, 15])"
      ]
     },
     "execution_count": 48,
     "metadata": {},
     "output_type": "execute_result"
    }
   ],
   "source": [
    "#No tocar, es para que veas la solución"
   ]
  },
  {
   "cell_type": "markdown",
   "metadata": {},
   "source": [
    "## Ejercicio:\n",
    "\n",
    "Crea un array directamente desde un rango, desde el 100 al 200 de 10 en 10."
   ]
  },
  {
   "cell_type": "code",
   "execution_count": null,
   "metadata": {},
   "outputs": [],
   "source": []
  },
  {
   "cell_type": "code",
   "execution_count": 49,
   "metadata": {},
   "outputs": [
    {
     "data": {
      "text/plain": [
       "array([100, 110, 120, 130, 140, 150, 160, 170, 180, 190, 200])"
      ]
     },
     "execution_count": 49,
     "metadata": {},
     "output_type": "execute_result"
    }
   ],
   "source": [
    "#No tocar, es para que veas la solución"
   ]
  },
  {
   "cell_type": "markdown",
   "metadata": {},
   "source": [
    "## Ejercicio:\n",
    "\n",
    "Crea una array de 20 elementos interpolados desde el 100 al 200."
   ]
  },
  {
   "cell_type": "code",
   "execution_count": null,
   "metadata": {},
   "outputs": [],
   "source": []
  },
  {
   "cell_type": "code",
   "execution_count": 50,
   "metadata": {
    "scrolled": true
   },
   "outputs": [
    {
     "data": {
      "text/plain": [
       "array([100.        , 105.26315789, 110.52631579, 115.78947368,\n",
       "       121.05263158, 126.31578947, 131.57894737, 136.84210526,\n",
       "       142.10526316, 147.36842105, 152.63157895, 157.89473684,\n",
       "       163.15789474, 168.42105263, 173.68421053, 178.94736842,\n",
       "       184.21052632, 189.47368421, 194.73684211, 200.        ])"
      ]
     },
     "execution_count": 50,
     "metadata": {},
     "output_type": "execute_result"
    }
   ],
   "source": [
    "#No tocar, es para que veas la solución"
   ]
  },
  {
   "cell_type": "markdown",
   "metadata": {},
   "source": [
    "## Ejercicio:\n",
    "\n",
    "Crea una matriz de 4 filas y 6 columnas rellena con ceros."
   ]
  },
  {
   "cell_type": "code",
   "execution_count": null,
   "metadata": {},
   "outputs": [],
   "source": []
  },
  {
   "cell_type": "code",
   "execution_count": 51,
   "metadata": {},
   "outputs": [
    {
     "data": {
      "text/plain": [
       "array([[0., 0., 0., 0., 0., 0.],\n",
       "       [0., 0., 0., 0., 0., 0.],\n",
       "       [0., 0., 0., 0., 0., 0.],\n",
       "       [0., 0., 0., 0., 0., 0.]])"
      ]
     },
     "execution_count": 51,
     "metadata": {},
     "output_type": "execute_result"
    }
   ],
   "source": [
    "#No tocar, es para que veas la solución"
   ]
  },
  {
   "cell_type": "markdown",
   "metadata": {},
   "source": [
    "## Ejercicio:\n",
    "\n",
    "Crea una matriz identidad de 4 filas y 4 columnas."
   ]
  },
  {
   "cell_type": "code",
   "execution_count": null,
   "metadata": {},
   "outputs": [],
   "source": []
  },
  {
   "cell_type": "code",
   "execution_count": 67,
   "metadata": {},
   "outputs": [
    {
     "data": {
      "text/plain": [
       "array([[1., 0., 0., 0.],\n",
       "       [0., 1., 0., 0.],\n",
       "       [0., 0., 1., 0.],\n",
       "       [0., 0., 0., 1.]])"
      ]
     },
     "execution_count": 67,
     "metadata": {},
     "output_type": "execute_result"
    }
   ],
   "source": [
    "#No tocar, es para que veas la solución"
   ]
  },
  {
   "cell_type": "markdown",
   "metadata": {},
   "source": [
    "## Ejercicio:\n",
    "\n",
    "Crea una matriz de 6 filas y 3 columnas rellena con números aleatorios entre 0 y 1."
   ]
  },
  {
   "cell_type": "code",
   "execution_count": null,
   "metadata": {},
   "outputs": [],
   "source": []
  },
  {
   "cell_type": "code",
   "execution_count": 53,
   "metadata": {},
   "outputs": [
    {
     "data": {
      "text/plain": [
       "array([[0.09451382, 0.16584694, 0.2529427 ],\n",
       "       [0.28996585, 0.46437665, 0.43470393],\n",
       "       [0.46521979, 0.27674738, 0.07856732],\n",
       "       [0.13936708, 0.82925581, 0.39132827],\n",
       "       [0.43577272, 0.32297518, 0.06138335],\n",
       "       [0.27166362, 0.54577411, 0.28245301]])"
      ]
     },
     "execution_count": 53,
     "metadata": {},
     "output_type": "execute_result"
    }
   ],
   "source": [
    "#No tocar, es para que veas la solución"
   ]
  },
  {
   "cell_type": "markdown",
   "metadata": {},
   "source": [
    "## Ejercicio:\n",
    "\n",
    "Crea un vector aleatorio de 100 elementos que tenga una distribución normal."
   ]
  },
  {
   "cell_type": "code",
   "execution_count": null,
   "metadata": {},
   "outputs": [],
   "source": []
  },
  {
   "cell_type": "code",
   "execution_count": 54,
   "metadata": {},
   "outputs": [
    {
     "data": {
      "text/plain": [
       "array([ 0.12834816,  0.42524468,  0.21095275,  0.7218104 ,  0.09394681,\n",
       "        0.4642257 , -0.11891562,  0.61751569,  0.75489449, -2.30931096,\n",
       "       -1.75704714,  0.89818773,  0.15026191, -1.06121246, -0.39216193,\n",
       "       -1.26625334, -0.64986291, -1.48819816,  0.02671956,  0.09407852,\n",
       "       -0.38231459,  0.20115651, -0.03886299,  0.6251126 ,  0.80682781,\n",
       "       -1.19814968, -0.50837248,  0.68435471,  0.71324418,  1.74594028,\n",
       "        0.78351515, -1.50249539, -0.55837808,  0.61603342, -0.79127258,\n",
       "        0.30382751, -0.45963241, -0.76974453, -0.45983724, -0.93955482,\n",
       "        0.84061529,  0.95448884, -0.83919377,  0.52608214,  3.31969621,\n",
       "       -0.768641  , -0.13039133,  0.31945984,  0.98480205, -0.41329785,\n",
       "       -0.86605547,  1.86406004, -1.1478997 ,  2.46526731, -1.49621034,\n",
       "        0.01154948,  1.64698209,  1.29050885,  1.12787419,  2.14417859,\n",
       "       -1.91519325,  0.60085336, -0.66306722, -0.26413746,  0.03949464,\n",
       "        0.7090535 , -0.21414052,  0.55457442, -0.35212701, -0.04521234,\n",
       "        1.10325213, -1.17100427,  0.24712849,  0.29264046, -0.81451885,\n",
       "        2.35411216, -0.67790035, -1.31458784, -1.02067448,  0.08417335,\n",
       "        2.10617362,  0.91360029, -0.36452606,  0.8948383 , -0.31088983,\n",
       "       -1.3595482 , -1.7689971 , -0.04635292,  0.8215378 , -0.6086671 ,\n",
       "        0.97958821, -0.45031162, -0.43203875,  1.57961267, -0.38254992,\n",
       "       -0.39133306, -2.28696988,  1.86855813, -0.83737734, -0.02799622])"
      ]
     },
     "execution_count": 54,
     "metadata": {},
     "output_type": "execute_result"
    }
   ],
   "source": [
    "#No tocar, es para que veas la solución"
   ]
  },
  {
   "cell_type": "markdown",
   "metadata": {},
   "source": [
    "## Ejercicio:\n",
    "\n",
    "Crea un vector aleatorio de 100 elementos que vayan entre el 1 y el 100."
   ]
  },
  {
   "cell_type": "code",
   "execution_count": null,
   "metadata": {},
   "outputs": [],
   "source": []
  },
  {
   "cell_type": "code",
   "execution_count": 55,
   "metadata": {
    "scrolled": true
   },
   "outputs": [
    {
     "data": {
      "text/plain": [
       "array([ 13,  90,  91,  42,   3,  61,  81,  65,  66,  81,  36,  81,  28,\n",
       "        50,  46,  69,  35,  95,  96,  21,  48,  96,   7,  40,  18,  12,\n",
       "        25,  12,  38,  72,  91,  34,  66,  51,  95,   7,   1,  92,   6,\n",
       "        28,  92,  15,  48,  18,  58,  24,  15,  21,  93,  28,  70,  71,\n",
       "         8,  22,  54,  35,  46,  49,  78,  28,  94,  46,  73,  28,  94,\n",
       "        21,  17,  54,  77,  39,  66,  51,  40,  35, 100,  90,  60,  46,\n",
       "        23,  59,  56,  26,  30,  72,  86,  99,  33,  92,  50, 100,  91,\n",
       "        35,  58,  96,  37,   8,  35,  54,  24,  31])"
      ]
     },
     "execution_count": 55,
     "metadata": {},
     "output_type": "execute_result"
    }
   ],
   "source": [
    "#No tocar, es para que veas la solución"
   ]
  },
  {
   "cell_type": "markdown",
   "metadata": {},
   "source": [
    "## Ejercicio:\n",
    "\n",
    "Crea un vector llamado vector, como el anterior pero ordénalo."
   ]
  },
  {
   "cell_type": "code",
   "execution_count": null,
   "metadata": {},
   "outputs": [],
   "source": []
  },
  {
   "cell_type": "code",
   "execution_count": 56,
   "metadata": {
    "scrolled": false
   },
   "outputs": [
    {
     "data": {
      "text/plain": [
       "array([ 1,  1,  1,  2,  2,  3,  3,  5,  5,  7,  8,  9, 11, 12, 17, 17, 19,\n",
       "       19, 20, 20, 23, 24, 26, 26, 26, 27, 27, 28, 29, 32, 32, 33, 34, 35,\n",
       "       35, 36, 40, 40, 40, 40, 45, 46, 50, 52, 53, 53, 55, 55, 55, 56, 56,\n",
       "       57, 57, 57, 58, 59, 60, 61, 62, 63, 65, 66, 66, 66, 67, 68, 70, 71,\n",
       "       71, 72, 73, 74, 74, 78, 78, 79, 79, 81, 81, 82, 82, 85, 85, 85, 85,\n",
       "       86, 86, 87, 87, 88, 89, 91, 92, 93, 94, 95, 95, 95, 96, 98])"
      ]
     },
     "execution_count": 56,
     "metadata": {},
     "output_type": "execute_result"
    }
   ],
   "source": [
    "#No tocar, es para que veas la solución"
   ]
  },
  {
   "cell_type": "markdown",
   "metadata": {},
   "source": [
    "## Ejercicio:\n",
    "\n",
    "Sobre vector cacula la media, mediana, desv típica, varianza, máximo y mínimo."
   ]
  },
  {
   "cell_type": "code",
   "execution_count": null,
   "metadata": {},
   "outputs": [],
   "source": []
  },
  {
   "cell_type": "code",
   "execution_count": 57,
   "metadata": {
    "scrolled": false
   },
   "outputs": [
    {
     "name": "stdout",
     "output_type": "stream",
     "text": [
      "51.8\n",
      "56.0\n",
      "29.27422074112307\n",
      "856.9800000000001\n",
      "98\n",
      "1\n"
     ]
    }
   ],
   "source": [
    "#No tocar, es para que veas la solución"
   ]
  },
  {
   "cell_type": "markdown",
   "metadata": {},
   "source": [
    "## Ejercicio:\n",
    "\n",
    "Extrae de vector los elementos que están entre el sexto y el octavo ambos incluidos."
   ]
  },
  {
   "cell_type": "code",
   "execution_count": null,
   "metadata": {},
   "outputs": [],
   "source": []
  },
  {
   "cell_type": "code",
   "execution_count": 58,
   "metadata": {
    "scrolled": true
   },
   "outputs": [
    {
     "data": {
      "text/plain": [
       "array([3, 3, 5])"
      ]
     },
     "execution_count": 58,
     "metadata": {},
     "output_type": "execute_result"
    }
   ],
   "source": [
    "#No tocar, es para que veas la solución"
   ]
  },
  {
   "cell_type": "markdown",
   "metadata": {},
   "source": [
    "## Ejercicio:\n",
    "\n",
    "Extrae de vector los elementos que son pares. Pista: puedes apoyarte en el operador módulo %"
   ]
  },
  {
   "cell_type": "code",
   "execution_count": null,
   "metadata": {},
   "outputs": [],
   "source": []
  },
  {
   "cell_type": "code",
   "execution_count": 59,
   "metadata": {
    "scrolled": true
   },
   "outputs": [
    {
     "data": {
      "text/plain": [
       "array([ 2,  2,  8, 12, 20, 20, 24, 26, 26, 26, 28, 32, 32, 34, 36, 40, 40,\n",
       "       40, 40, 46, 50, 52, 56, 56, 58, 60, 62, 66, 66, 66, 68, 70, 72, 74,\n",
       "       74, 78, 78, 82, 82, 86, 86, 88, 92, 94, 96, 98])"
      ]
     },
     "execution_count": 59,
     "metadata": {},
     "output_type": "execute_result"
    }
   ],
   "source": [
    "#No tocar, es para que veas la solución"
   ]
  },
  {
   "cell_type": "markdown",
   "metadata": {},
   "source": [
    "## Ejercicio:\n",
    "\n",
    "Crea dos vectores de enteros llamados v1 y v2, cada uno de 5 elementos aleatorios entre 1 y 10 y súmalos."
   ]
  },
  {
   "cell_type": "code",
   "execution_count": null,
   "metadata": {},
   "outputs": [],
   "source": []
  },
  {
   "cell_type": "code",
   "execution_count": 60,
   "metadata": {
    "scrolled": true
   },
   "outputs": [
    {
     "data": {
      "text/plain": [
       "array([10, 17, 10, 16, 15])"
      ]
     },
     "execution_count": 60,
     "metadata": {},
     "output_type": "execute_result"
    }
   ],
   "source": [
    "#No tocar, es para que veas la solución"
   ]
  },
  {
   "cell_type": "markdown",
   "metadata": {},
   "source": [
    "## Ejercicio:\n",
    "\n",
    "Multiplícalos usando el producto escalar."
   ]
  },
  {
   "cell_type": "code",
   "execution_count": null,
   "metadata": {},
   "outputs": [],
   "source": []
  },
  {
   "cell_type": "code",
   "execution_count": 61,
   "metadata": {
    "scrolled": true
   },
   "outputs": [
    {
     "data": {
      "text/plain": [
       "215"
      ]
     },
     "execution_count": 61,
     "metadata": {},
     "output_type": "execute_result"
    }
   ],
   "source": [
    "#No tocar, es para que veas la solución"
   ]
  },
  {
   "cell_type": "markdown",
   "metadata": {},
   "source": [
    "## Ejercicio:\n",
    "\n",
    "Transforma el vector que creaste antes llamado vector en una matriz de 10 x 10 y llámala matriz"
   ]
  },
  {
   "cell_type": "code",
   "execution_count": null,
   "metadata": {},
   "outputs": [],
   "source": []
  },
  {
   "cell_type": "code",
   "execution_count": 62,
   "metadata": {
    "scrolled": true
   },
   "outputs": [
    {
     "data": {
      "text/plain": [
       "array([[ 1,  1,  1,  2,  2,  3,  3,  5,  5,  7],\n",
       "       [ 8,  9, 11, 12, 17, 17, 19, 19, 20, 20],\n",
       "       [23, 24, 26, 26, 26, 27, 27, 28, 29, 32],\n",
       "       [32, 33, 34, 35, 35, 36, 40, 40, 40, 40],\n",
       "       [45, 46, 50, 52, 53, 53, 55, 55, 55, 56],\n",
       "       [56, 57, 57, 57, 58, 59, 60, 61, 62, 63],\n",
       "       [65, 66, 66, 66, 67, 68, 70, 71, 71, 72],\n",
       "       [73, 74, 74, 78, 78, 79, 79, 81, 81, 82],\n",
       "       [82, 85, 85, 85, 85, 86, 86, 87, 87, 88],\n",
       "       [89, 91, 92, 93, 94, 95, 95, 95, 96, 98]])"
      ]
     },
     "execution_count": 62,
     "metadata": {},
     "output_type": "execute_result"
    }
   ],
   "source": [
    "#No tocar, es para que veas la solución"
   ]
  },
  {
   "cell_type": "markdown",
   "metadata": {},
   "source": [
    "## Ejercicio:\n",
    "\n",
    "Multiplica matriz por 8"
   ]
  },
  {
   "cell_type": "code",
   "execution_count": null,
   "metadata": {},
   "outputs": [],
   "source": []
  },
  {
   "cell_type": "code",
   "execution_count": 63,
   "metadata": {
    "scrolled": false
   },
   "outputs": [
    {
     "data": {
      "text/plain": [
       "array([[  8,   8,   8,  16,  16,  24,  24,  40,  40,  56],\n",
       "       [ 64,  72,  88,  96, 136, 136, 152, 152, 160, 160],\n",
       "       [184, 192, 208, 208, 208, 216, 216, 224, 232, 256],\n",
       "       [256, 264, 272, 280, 280, 288, 320, 320, 320, 320],\n",
       "       [360, 368, 400, 416, 424, 424, 440, 440, 440, 448],\n",
       "       [448, 456, 456, 456, 464, 472, 480, 488, 496, 504],\n",
       "       [520, 528, 528, 528, 536, 544, 560, 568, 568, 576],\n",
       "       [584, 592, 592, 624, 624, 632, 632, 648, 648, 656],\n",
       "       [656, 680, 680, 680, 680, 688, 688, 696, 696, 704],\n",
       "       [712, 728, 736, 744, 752, 760, 760, 760, 768, 784]])"
      ]
     },
     "execution_count": 63,
     "metadata": {},
     "output_type": "execute_result"
    }
   ],
   "source": [
    "#No tocar, es para que veas la solución"
   ]
  }
 ],
 "metadata": {
  "kernelspec": {
   "display_name": "Python 3",
   "language": "python",
   "name": "python3"
  },
  "language_info": {
   "codemirror_mode": {
    "name": "ipython",
    "version": 3
   },
   "file_extension": ".py",
   "mimetype": "text/x-python",
   "name": "python",
   "nbconvert_exporter": "python",
   "pygments_lexer": "ipython3",
   "version": "3.8.5"
  },
  "toc": {
   "base_numbering": 1,
   "nav_menu": {},
   "number_sections": true,
   "sideBar": true,
   "skip_h1_title": false,
   "title_cell": "Table of Contents",
   "title_sidebar": "Contents",
   "toc_cell": false,
   "toc_position": {},
   "toc_section_display": true,
   "toc_window_display": true
  },
  "varInspector": {
   "cols": {
    "lenName": 16,
    "lenType": 16,
    "lenVar": 40
   },
   "kernels_config": {
    "python": {
     "delete_cmd_postfix": "",
     "delete_cmd_prefix": "del ",
     "library": "var_list.py",
     "varRefreshCmd": "print(var_dic_list())"
    },
    "r": {
     "delete_cmd_postfix": ") ",
     "delete_cmd_prefix": "rm(",
     "library": "var_list.r",
     "varRefreshCmd": "cat(var_dic_list()) "
    }
   },
   "position": {
    "height": "559.85px",
    "left": "1774px",
    "right": "20px",
    "top": "120px",
    "width": "350px"
   },
   "types_to_exclude": [
    "module",
    "function",
    "builtin_function_or_method",
    "instance",
    "_Feature"
   ],
   "window_display": true
  }
 },
 "nbformat": 4,
 "nbformat_minor": 4
}
