{
 "cells": [
  {
   "cell_type": "markdown",
   "metadata": {},
   "source": [
    "# CURSO INTENSIVO DE INTRODUCCIÓN AL ÁLGEBRA LINEAL"
   ]
  },
  {
   "cell_type": "code",
   "execution_count": 1,
   "metadata": {},
   "outputs": [],
   "source": [
    "import numpy as np"
   ]
  },
  {
   "cell_type": "markdown",
   "metadata": {},
   "source": [
    "## INTRODUCCIÓN AL ÁLGEBRA LINEAL"
   ]
  },
  {
   "cell_type": "markdown",
   "metadata": {},
   "source": [
    "Como decíamos al principio muchos de los algoritmos de machine learning se construyen con operaciones avanzadas sobre estructuras de datos como vectores o matrices.\n",
    "\n",
    "Realmente no es necesario un conocimiento profundo de álgebra para hacer machine learning. Pero si es interesante por lo menos tener una nociones de lo que está pasando por debajo.\n",
    "\n",
    "Y de nuevo el paquete base para hacer todo esto es Numpy, que seguiremos utilizando durante esta explicación."
   ]
  },
  {
   "cell_type": "markdown",
   "metadata": {},
   "source": [
    "**Un poco de teoría: profundizando en la comprensión de las estructuras de datos**\n",
    "\n",
    "Hasta ahora hemos visto 3 estructuras:\n",
    "\n",
    "* Escalares: en la lección de Python los llamábamos \"datos individuales\"\n",
    "* Vectores: secuencias de varios escalares\n",
    "* Matrices: secuencias de varios vectores organizados en dos dimensiones\n",
    "\n",
    "Geométricamente los escalares son simplemente un punto y se dice que tienen dimensión cero.\n",
    "\n",
    "Los vectores son una recta y tienen dimensión 1. De hecho pueden ser representados como matrices de dimensión 1, por ej m x 1 si son verticales o 1 x m si son horizontales.\n",
    "\n",
    "Las matrices son un plano, y tienen dimensión 2, que se denota por m x n.\n",
    "\n",
    "Y podemos seguir extendiendo a los arrays multidimensionales, que son hiperplanos con dimensión n."
   ]
  },
  {
   "cell_type": "code",
   "execution_count": 2,
   "metadata": {},
   "outputs": [
    {
     "data": {
      "text/plain": [
       "array(1)"
      ]
     },
     "execution_count": 2,
     "metadata": {},
     "output_type": "execute_result"
    }
   ],
   "source": [
    "#Ejemplo de escalar con Numpy\n",
    "np.array(1)"
   ]
  },
  {
   "cell_type": "code",
   "execution_count": 3,
   "metadata": {},
   "outputs": [
    {
     "data": {
      "text/plain": [
       "array([1, 2, 3])"
      ]
     },
     "execution_count": 3,
     "metadata": {},
     "output_type": "execute_result"
    }
   ],
   "source": [
    "#Ejemplo de vector con Numpy\n",
    "np.array([1,2,3])"
   ]
  },
  {
   "cell_type": "code",
   "execution_count": 4,
   "metadata": {},
   "outputs": [
    {
     "data": {
      "text/plain": [
       "array([[1, 2, 3],\n",
       "       [4, 5, 6]])"
      ]
     },
     "execution_count": 4,
     "metadata": {},
     "output_type": "execute_result"
    }
   ],
   "source": [
    "#Ejemplo de matriz con Numpy\n",
    "np.array([[1,2,3],[4,5,6]])"
   ]
  },
  {
   "cell_type": "code",
   "execution_count": 5,
   "metadata": {},
   "outputs": [
    {
     "data": {
      "text/plain": [
       "array([[[ 1,  2,  3],\n",
       "        [ 4,  5,  6]],\n",
       "\n",
       "       [[ 7,  8,  9],\n",
       "        [10, 11, 12]]])"
      ]
     },
     "execution_count": 5,
     "metadata": {},
     "output_type": "execute_result"
    }
   ],
   "source": [
    "#Ejemplo de array multidimensional con Numpy\n",
    "np.array([[[1,2,3],[4,5,6]],[[7,8,9],[10,11,12]]])"
   ]
  },
  {
   "cell_type": "markdown",
   "metadata": {},
   "source": [
    "### OPERACIONES CON VECTORES"
   ]
  },
  {
   "cell_type": "markdown",
   "metadata": {},
   "source": [
    "#### SUMAR VECTORES\n",
    "\n",
    "La condición es que tienen que tener la misma longitud"
   ]
  },
  {
   "cell_type": "code",
   "execution_count": 6,
   "metadata": {},
   "outputs": [
    {
     "data": {
      "text/plain": [
       "array([5, 7, 9])"
      ]
     },
     "execution_count": 6,
     "metadata": {},
     "output_type": "execute_result"
    }
   ],
   "source": [
    "v1 = np.array([1,2,3])\n",
    "v2 = np.array([4,5,6])\n",
    "\n",
    "v1 + v2"
   ]
  },
  {
   "cell_type": "markdown",
   "metadata": {},
   "source": [
    "#### RESTAR VECTORES\n",
    "\n",
    "La condición es que tienen que tener la misma longitud"
   ]
  },
  {
   "cell_type": "code",
   "execution_count": 7,
   "metadata": {},
   "outputs": [
    {
     "data": {
      "text/plain": [
       "array([-3, -3, -3])"
      ]
     },
     "execution_count": 7,
     "metadata": {},
     "output_type": "execute_result"
    }
   ],
   "source": [
    "v1 - v2"
   ]
  },
  {
   "cell_type": "markdown",
   "metadata": {},
   "source": [
    "#### MULTIPLICAR UN VECTOR POR UN ESCALAR"
   ]
  },
  {
   "cell_type": "code",
   "execution_count": 8,
   "metadata": {},
   "outputs": [
    {
     "data": {
      "text/plain": [
       "array([10, 20, 30])"
      ]
     },
     "execution_count": 8,
     "metadata": {},
     "output_type": "execute_result"
    }
   ],
   "source": [
    "v1 * 10"
   ]
  },
  {
   "cell_type": "markdown",
   "metadata": {},
   "source": [
    "#### MULTIPLICAR DOS VECTORES\n",
    "\n",
    "La condición es que tienen que tener la misma longitud\n",
    "\n",
    "El tipo de multiplicación más usado es el producto escalar o punto producto: multiplicar uno a uno los correspondientes y luego sumar los resultados."
   ]
  },
  {
   "cell_type": "code",
   "execution_count": 9,
   "metadata": {},
   "outputs": [
    {
     "data": {
      "text/plain": [
       "array([1, 2, 3])"
      ]
     },
     "execution_count": 9,
     "metadata": {},
     "output_type": "execute_result"
    }
   ],
   "source": [
    "v1"
   ]
  },
  {
   "cell_type": "code",
   "execution_count": 10,
   "metadata": {},
   "outputs": [
    {
     "data": {
      "text/plain": [
       "array([4, 5, 6])"
      ]
     },
     "execution_count": 10,
     "metadata": {},
     "output_type": "execute_result"
    }
   ],
   "source": [
    "v2"
   ]
  },
  {
   "cell_type": "code",
   "execution_count": 11,
   "metadata": {
    "scrolled": true
   },
   "outputs": [
    {
     "data": {
      "text/plain": [
       "32"
      ]
     },
     "execution_count": 11,
     "metadata": {},
     "output_type": "execute_result"
    }
   ],
   "source": [
    "np.dot(v1,v2)"
   ]
  },
  {
   "cell_type": "markdown",
   "metadata": {},
   "source": [
    "### OPERACIONES CON MATRICES"
   ]
  },
  {
   "cell_type": "code",
   "execution_count": 13,
   "metadata": {},
   "outputs": [
    {
     "data": {
      "text/plain": [
       "array([[[ 3, -4,  6],\n",
       "        [ 0, -8,  3]],\n",
       "\n",
       "       [[ 6,  5, -4],\n",
       "        [ 9, -1, -2]]])"
      ]
     },
     "execution_count": 13,
     "metadata": {},
     "output_type": "execute_result"
    }
   ],
   "source": [
    "v3d = np.array([[[ 3, -4,  6],[ 0, -8,  3]],\n",
    "             [[ 6, 5,  -4],[ 9, -1,  -2]]])\n",
    "v3d"
   ]
  },
  {
   "cell_type": "code",
   "execution_count": 15,
   "metadata": {},
   "outputs": [
    {
     "data": {
      "text/plain": [
       "-8"
      ]
     },
     "execution_count": 15,
     "metadata": {},
     "output_type": "execute_result"
    }
   ],
   "source": [
    "v3d[0,1,1]"
   ]
  },
  {
   "cell_type": "markdown",
   "metadata": {},
   "source": [
    "#### SUMAR MATRICES\n",
    "\n",
    "La condición es que tienen que tener la misma forma"
   ]
  },
  {
   "cell_type": "code",
   "execution_count": 16,
   "metadata": {},
   "outputs": [
    {
     "data": {
      "text/plain": [
       "array([[  2, -13,  13],\n",
       "       [  4,   0,  -4]])"
      ]
     },
     "execution_count": 16,
     "metadata": {},
     "output_type": "execute_result"
    }
   ],
   "source": [
    "m1 = np.array([[ 3, -4,  6],[ 0, -8,  3]])\n",
    "m2 = np.array([[ -1, -9,  7],[ 4, 8,  -7]])\n",
    "\n",
    "m1 + m2"
   ]
  },
  {
   "cell_type": "markdown",
   "metadata": {},
   "source": [
    "#### RESTAR MATRICES\n",
    "\n",
    "La condición es que tienen que tener la misma forma"
   ]
  },
  {
   "cell_type": "code",
   "execution_count": 17,
   "metadata": {},
   "outputs": [
    {
     "data": {
      "text/plain": [
       "array([[  4,   5,  -1],\n",
       "       [ -4, -16,  10]])"
      ]
     },
     "execution_count": 17,
     "metadata": {},
     "output_type": "execute_result"
    }
   ],
   "source": [
    "m1 - m2"
   ]
  },
  {
   "cell_type": "markdown",
   "metadata": {},
   "source": [
    "#### MULTIPLICAR UNA MATRIZ POR UN ESCALAR"
   ]
  },
  {
   "cell_type": "code",
   "execution_count": 18,
   "metadata": {},
   "outputs": [
    {
     "data": {
      "text/plain": [
       "array([[ 30, -40,  60],\n",
       "       [  0, -80,  30]])"
      ]
     },
     "execution_count": 18,
     "metadata": {},
     "output_type": "execute_result"
    }
   ],
   "source": [
    "m1 * 10"
   ]
  },
  {
   "cell_type": "markdown",
   "metadata": {},
   "source": [
    "#### MULTIPLICAR DOS MATRICES\n",
    "\n",
    "Usaremos la forma del punto producto.\n",
    "\n",
    "La condición es que el número de columnas de la primera tiene que ser el mismo que el número de filas de la segunda.\n",
    "\n",
    "Más formalmente es multiplicar una m x n por una n x k.\n",
    "\n",
    "Por ejemplo multiplicar una 3x2 por una 2x4.\n",
    "\n",
    "Es así porque lo que hace el punto producto es ir multiplicando cada fila de la primera por cada columna de la segunda.\n",
    "\n",
    "El resultado será una nueva matriz de m x k, ej 3x4.\n",
    "\n",
    "Donde el puntoproducto de fila1 de la primera por columna 1 de la segunda será el resultado de la fila1,columna1 de la tercera."
   ]
  },
  {
   "cell_type": "code",
   "execution_count": 19,
   "metadata": {
    "scrolled": true
   },
   "outputs": [
    {
     "data": {
      "text/plain": [
       "(2, 3)"
      ]
     },
     "execution_count": 19,
     "metadata": {},
     "output_type": "execute_result"
    }
   ],
   "source": [
    "# Veamos la dimensión de m1\n",
    "m1.shape"
   ]
  },
  {
   "cell_type": "code",
   "execution_count": 20,
   "metadata": {},
   "outputs": [
    {
     "data": {
      "text/plain": [
       "array([[ 3, -4,  6],\n",
       "       [ 0, -8,  3]])"
      ]
     },
     "execution_count": 20,
     "metadata": {},
     "output_type": "execute_result"
    }
   ],
   "source": [
    "m1"
   ]
  },
  {
   "cell_type": "code",
   "execution_count": 21,
   "metadata": {},
   "outputs": [
    {
     "data": {
      "text/plain": [
       "(3, 3)"
      ]
     },
     "execution_count": 21,
     "metadata": {},
     "output_type": "execute_result"
    }
   ],
   "source": [
    "# Y creemos por ejemplo otra matriz 3x3\n",
    "m3 = np.array([\n",
    "    [8,6,2],\n",
    "    [6,3,4],\n",
    "    [2,-4,6]\n",
    "])\n",
    "m3.shape"
   ]
  },
  {
   "cell_type": "code",
   "execution_count": 22,
   "metadata": {},
   "outputs": [
    {
     "data": {
      "text/plain": [
       "array([[ 12, -18,  26],\n",
       "       [-42, -36, -14]])"
      ]
     },
     "execution_count": 22,
     "metadata": {},
     "output_type": "execute_result"
    }
   ],
   "source": [
    "#Hacemos la multiplicación punto producto igual que con los vectores\n",
    "np.dot(m1,m3)"
   ]
  },
  {
   "cell_type": "markdown",
   "metadata": {},
   "source": [
    "#### APLANAR UNA MATRIZ\n",
    "\n",
    "Habrá ocasiones en machine learning que aunque tengamos que usar una matriz el formato en el que tenemos que pasarle esa matriz a la clase que la procesará es un array unidimensional.\n",
    "\n",
    "Aplanar una matriz (flatten en inglés) significa eso, pasarla de dimensión 2 a dimensión 1, simplemente concatenando todas sus filas en una sola.\n",
    "\n",
    "Lo hacemos con el método flatten de Numpy."
   ]
  },
  {
   "cell_type": "code",
   "execution_count": 23,
   "metadata": {},
   "outputs": [
    {
     "data": {
      "text/plain": [
       "array([[ 8,  6,  2],\n",
       "       [ 6,  3,  4],\n",
       "       [ 2, -4,  6]])"
      ]
     },
     "execution_count": 23,
     "metadata": {},
     "output_type": "execute_result"
    }
   ],
   "source": [
    "#Recordemos como es la matriz m3\n",
    "m3"
   ]
  },
  {
   "cell_type": "code",
   "execution_count": 24,
   "metadata": {},
   "outputs": [
    {
     "data": {
      "text/plain": [
       "array([ 8,  6,  2,  6,  3,  4,  2, -4,  6])"
      ]
     },
     "execution_count": 24,
     "metadata": {},
     "output_type": "execute_result"
    }
   ],
   "source": [
    "#Así queda al aplanarla\n",
    "m3.flatten()"
   ]
  },
  {
   "cell_type": "markdown",
   "metadata": {},
   "source": [
    "### PARA QUÉ SIRVE TODO ESTO"
   ]
  },
  {
   "cell_type": "markdown",
   "metadata": {},
   "source": [
    "Muchas de las operaciones en ML se pueden hacer mediante álgebra matricial.\n",
    "\n",
    "Y de hecho hacerlas asi es más eficiente computacionalmente.\n",
    "\n",
    "Por lo que los algoritmos ya las hacen asi aunque nosotros no seamos conscientes ni tengamos que hacer nada al respecto."
   ]
  },
  {
   "cell_type": "markdown",
   "metadata": {},
   "source": [
    "**Deep learning:**\n",
    "\n",
    "Deep learning es un subcampo de machine learning basado en la evolución de un algoritmo concreto llamado redes neuronales.\n",
    "\n",
    "Es un campo en si mismo, bastante complejo y que solo se debe abordar una vez que se tengan muy trabajadas las bases generales de todo lo que vemos en este programa. Por tanto no entraremos en él.\n",
    "\n",
    "Pero si más o menos estás en el ámbito seguro que has oído hablar por ejemplo de TensorFlow (el framework de deep learning de Google).\n",
    "\n",
    "Pues bien, se llama así porque los tensores son la base de deep learning.\n",
    "\n",
    "Pero realmente los tensores no son más que la generalización de lo que hemo visto:\n",
    "\n",
    "* Un escalar es un tensor de rango 0\n",
    "* Un vector es un tensor de rango 1\n",
    "* Una matriz es un tensor de rango 2\n",
    "* Puede haber tensores de muchas más dimensiones, por ej uno de rango 3 sería una colección de matrices\n",
    "\n",
    "En Python los tensores se gestionan con nd.arrays."
   ]
  },
  {
   "cell_type": "code",
   "execution_count": 25,
   "metadata": {},
   "outputs": [
    {
     "data": {
      "text/plain": [
       "array([[[ 3, -4,  6],\n",
       "        [ 0, -8,  3]],\n",
       "\n",
       "       [[-1, -9,  7],\n",
       "        [ 4,  8, -7]]])"
      ]
     },
     "execution_count": 25,
     "metadata": {},
     "output_type": "execute_result"
    }
   ],
   "source": [
    "# Ejemplo de tensor de rango 3\n",
    "\n",
    "m1 = np.array([[ 3, -4,  6],[ 0, -8,  3]])\n",
    "m2 = np.array([[ -1, -9,  7],[ 4, 8,  -7]])\n",
    "\n",
    "tensor = np.array([m1,m2])\n",
    "tensor"
   ]
  },
  {
   "cell_type": "code",
   "execution_count": 26,
   "metadata": {},
   "outputs": [
    {
     "data": {
      "text/plain": [
       "array([[[ 3, -4,  6],\n",
       "        [ 0, -8,  3]],\n",
       "\n",
       "       [[-1, -9,  7],\n",
       "        [ 4,  8, -7]]])"
      ]
     },
     "execution_count": 26,
     "metadata": {},
     "output_type": "execute_result"
    }
   ],
   "source": [
    "# También se podría haber creado directamente así\n",
    "\n",
    "tensor = np.array([[[ 3, -4,  6],[ 0, -8,  3]],[[ -1, -9,  7],[ 4, 8,  -7]]])\n",
    "tensor"
   ]
  },
  {
   "cell_type": "code",
   "execution_count": 27,
   "metadata": {},
   "outputs": [
    {
     "data": {
      "text/plain": [
       "(2, 2, 3)"
      ]
     },
     "execution_count": 27,
     "metadata": {},
     "output_type": "execute_result"
    }
   ],
   "source": [
    "# Vemos que retorna una colección de 2 matrices cada una de 2x3\n",
    "tensor.shape"
   ]
  },
  {
   "cell_type": "markdown",
   "metadata": {},
   "source": [
    "Pongamos el ejemplo de **Computer Vision:**\n",
    "\n",
    "Especialmente en Deep Learning se trabaja mucho con imágenes. Pero un ordenador no ve las imágenes como nosotros.\n",
    "\n",
    "Cada imagen es en realidad un conjunto de pixeles, por ej de 1000x1000, es decir una matriz, o un tensor de rango 2.\n",
    "\n",
    "En una imagen en blanco y negro cada celda sería un número entre 0 y 255 que denota la escala de gris. Siendo 0 blanco puro y 255 negro puro.\n",
    "\n",
    "Una forma de incluir color es usar las escalas RGB, donde cualquier color se puede representar como una combinación de esos 3 colores.\n",
    "\n",
    "Por tanto tendríamos una matriz de 1000x1000 por cada uno de esos 3 canales, es decir 1000x1000x3 o un tensor de rango 3.\n",
    "\n",
    "Y así es como podemos representar una imagen con álgebra matricial y aplicarle machine learning.\n",
    "\n",
    "Por ejemplo vamos a poner un caso simplificado donde la imagen fuera solo de 5x5 pixeles.\n",
    "\n",
    "Usando una función de numpy para generar aleatorios entre 0 y 255 así es como el ordendador \"vería\" esa imagen."
   ]
  },
  {
   "cell_type": "code",
   "execution_count": 28,
   "metadata": {
    "scrolled": true
   },
   "outputs": [
    {
     "data": {
      "text/plain": [
       "array([[[156, 159, 252,   0,  57],\n",
       "        [ 11,  25, 241, 220,  22],\n",
       "        [147,   5, 245,  54,  19],\n",
       "        [197, 176,  72, 139,  59],\n",
       "        [ 26, 240,  37,  13,  14]],\n",
       "\n",
       "       [[144,  38,  60, 162,   4],\n",
       "        [ 97,  25,   0, 180,   7],\n",
       "        [216, 187, 219,  41,  81],\n",
       "        [151,  10, 240,   7, 194],\n",
       "        [212, 181, 127,   0, 198]],\n",
       "\n",
       "       [[ 35, 180, 232, 172, 233],\n",
       "        [  8,  61,  32,  13,  84],\n",
       "        [144, 183, 228, 204,  13],\n",
       "        [252, 245, 186,  88, 184],\n",
       "        [143,  71, 100,  24,  33]]])"
      ]
     },
     "execution_count": 28,
     "metadata": {},
     "output_type": "execute_result"
    }
   ],
   "source": [
    "R = np.random.randint(0,255,(5,5))\n",
    "G = np.random.randint(0,255,(5,5))\n",
    "B = np.random.randint(0,255,(5,5))\n",
    "\n",
    "imagen = np.array([R,G,B])\n",
    "imagen"
   ]
  },
  {
   "cell_type": "code",
   "execution_count": 29,
   "metadata": {},
   "outputs": [
    {
     "data": {
      "text/plain": [
       "array([[114, 241, 219, 148,  57],\n",
       "       [ 44, 153,  16, 220, 172],\n",
       "       [  1,   8, 174, 115,  83],\n",
       "       [  0,  17,  81, 235,  82],\n",
       "       [130,  72,  58,  42,  44]])"
      ]
     },
     "execution_count": 29,
     "metadata": {},
     "output_type": "execute_result"
    }
   ],
   "source": [
    "R = np.random.randint(0,255,(5,5))\n",
    "R"
   ]
  },
  {
   "cell_type": "code",
   "execution_count": 30,
   "metadata": {},
   "outputs": [
    {
     "data": {
      "text/plain": [
       "array([[115, 173,  14, 227,  48],\n",
       "       [221,  76, 111, 227, 247],\n",
       "       [ 35,  59,  71,  93, 213],\n",
       "       [132,  51, 151,  72, 190],\n",
       "       [ 72, 250, 228, 211, 222]])"
      ]
     },
     "execution_count": 30,
     "metadata": {},
     "output_type": "execute_result"
    }
   ],
   "source": [
    "G = np.random.randint(0,255,(5,5))\n",
    "G"
   ]
  },
  {
   "cell_type": "code",
   "execution_count": 31,
   "metadata": {},
   "outputs": [
    {
     "data": {
      "text/plain": [
       "array([[ 71,  18, 222, 155, 205],\n",
       "       [170,  29, 252, 119, 139],\n",
       "       [167, 123, 237, 170, 198],\n",
       "       [ 36,  86, 254,  77, 219],\n",
       "       [172,   5, 226,  89, 222]])"
      ]
     },
     "execution_count": 31,
     "metadata": {},
     "output_type": "execute_result"
    }
   ],
   "source": [
    "B = np.random.randint(0,255,(5,5))\n",
    "B"
   ]
  },
  {
   "cell_type": "markdown",
   "metadata": {},
   "source": [
    "## PARA SABER MÁS"
   ]
  },
  {
   "cell_type": "markdown",
   "metadata": {},
   "source": [
    "Como lectura complementaria (y voluntaria no necesaria) para consolidar y complementar lo que hemos aprendido te recomiendo el siguiente post:\n",
    "\n",
    "https://medium.com/better-programming/numpy-illustrated-the-visual-guide-to-numpy-3b1d4976de1d\n",
    "\n",
    "En el cual se refuerzan estos conceptos de una forma muy gráfica que puede ayudar a su consolidación."
   ]
  }
 ],
 "metadata": {
  "kernelspec": {
   "display_name": "Python 3 (ipykernel)",
   "language": "python",
   "name": "python3"
  },
  "language_info": {
   "codemirror_mode": {
    "name": "ipython",
    "version": 3
   },
   "file_extension": ".py",
   "mimetype": "text/x-python",
   "name": "python",
   "nbconvert_exporter": "python",
   "pygments_lexer": "ipython3",
   "version": "3.9.7"
  },
  "toc": {
   "base_numbering": "3",
   "nav_menu": {},
   "number_sections": true,
   "sideBar": true,
   "skip_h1_title": false,
   "title_cell": "Table of Contents",
   "title_sidebar": "Contents",
   "toc_cell": false,
   "toc_position": {
    "height": "calc(100% - 180px)",
    "left": "10px",
    "top": "150px",
    "width": "428.8px"
   },
   "toc_section_display": true,
   "toc_window_display": true
  },
  "varInspector": {
   "cols": {
    "lenName": 16,
    "lenType": 16,
    "lenVar": 40
   },
   "kernels_config": {
    "python": {
     "delete_cmd_postfix": "",
     "delete_cmd_prefix": "del ",
     "library": "var_list.py",
     "varRefreshCmd": "print(var_dic_list())"
    },
    "r": {
     "delete_cmd_postfix": ") ",
     "delete_cmd_prefix": "rm(",
     "library": "var_list.r",
     "varRefreshCmd": "cat(var_dic_list()) "
    }
   },
   "position": {
    "height": "326.85px",
    "left": "1390px",
    "right": "20px",
    "top": "120px",
    "width": "350px"
   },
   "types_to_exclude": [
    "module",
    "function",
    "builtin_function_or_method",
    "instance",
    "_Feature"
   ],
   "window_display": false
  }
 },
 "nbformat": 4,
 "nbformat_minor": 4
}
