{
 "cells": [
  {
   "cell_type": "markdown",
   "metadata": {},
   "source": [
    "# INTENSIVOS DE NUMPY Y ALGEBRA: EJERCICIOS"
   ]
  },
  {
   "cell_type": "markdown",
   "metadata": {},
   "source": [
    "Estos ejercicios te permitirán repasar y consolidar lo que has aprendido en los intensivos de Numpy y Álgebra.\n",
    "\n",
    "No hagas los ejercicios hasta que hayas estudiado y memorizado el contenido de sus notebooks.\n",
    "\n",
    "Instrucciones:\n",
    "\n",
    "* Crea una copia de este notebook antes de escribir nada. De esa forma respetarás el original para volver a hacerlo\n",
    "* Cada ejercicio tiene unas instrucciones de lo que debes hacer en él\n",
    "* Bajo las instrucciones estará una celda vacía, aquí es donde tú debes escribir la solución\n",
    "* Y bajo esta última celda verás que hay otras dos celdas. La primera está vacía y no la debes tocar. Es para que tengas siempre a mano la solución al ejercicio, ya que esta no va a cambiar"
   ]
  },
  {
   "cell_type": "markdown",
   "metadata": {},
   "source": [
    "## Ejercicio:\n",
    "\n",
    "Importa numpy como np"
   ]
  },
  {
   "cell_type": "code",
   "execution_count": 1,
   "metadata": {},
   "outputs": [],
   "source": [
    "import numpy as np"
   ]
  },
  {
   "cell_type": "markdown",
   "metadata": {},
   "source": [
    "## Ejercicio:\n",
    "\n",
    "Crea una lista de Python con los números del 1 a l0. Y después suma 5 a cada uno de sus elementos."
   ]
  },
  {
   "cell_type": "code",
   "execution_count": 2,
   "metadata": {},
   "outputs": [
    {
     "data": {
      "text/plain": [
       "[6, 7, 8, 9, 10, 11, 12, 13, 14, 15]"
      ]
     },
     "execution_count": 2,
     "metadata": {},
     "output_type": "execute_result"
    }
   ],
   "source": [
    "lista = list(range(1,11))\n",
    "[cada + 5 for cada in lista]"
   ]
  },
  {
   "cell_type": "markdown",
   "metadata": {},
   "source": [
    "## Ejercicio:\n",
    "\n",
    "Haz lo mismo pero ahora usando numpy (primero crea un vector a partir de lista)."
   ]
  },
  {
   "cell_type": "code",
   "execution_count": 3,
   "metadata": {},
   "outputs": [
    {
     "data": {
      "text/plain": [
       "array([ 6,  7,  8,  9, 10, 11, 12, 13, 14, 15])"
      ]
     },
     "execution_count": 3,
     "metadata": {},
     "output_type": "execute_result"
    }
   ],
   "source": [
    "vector = np.array(lista)\n",
    "vector + 5"
   ]
  },
  {
   "cell_type": "markdown",
   "metadata": {},
   "source": [
    "## Ejercicio:\n",
    "\n",
    "Crea un array directamente desde un rango, desde el 100 al 200 de 10 en 10."
   ]
  },
  {
   "cell_type": "code",
   "execution_count": 4,
   "metadata": {},
   "outputs": [
    {
     "data": {
      "text/plain": [
       "array([100, 110, 120, 130, 140, 150, 160, 170, 180, 190, 200])"
      ]
     },
     "execution_count": 4,
     "metadata": {},
     "output_type": "execute_result"
    }
   ],
   "source": [
    "np.arange(100,201,10)"
   ]
  },
  {
   "cell_type": "markdown",
   "metadata": {},
   "source": [
    "## Ejercicio:\n",
    "\n",
    "Crea una array de 20 elementos interpolados desde el 100 al 200."
   ]
  },
  {
   "cell_type": "code",
   "execution_count": 5,
   "metadata": {},
   "outputs": [
    {
     "data": {
      "text/plain": [
       "array([100.        , 105.26315789, 110.52631579, 115.78947368,\n",
       "       121.05263158, 126.31578947, 131.57894737, 136.84210526,\n",
       "       142.10526316, 147.36842105, 152.63157895, 157.89473684,\n",
       "       163.15789474, 168.42105263, 173.68421053, 178.94736842,\n",
       "       184.21052632, 189.47368421, 194.73684211, 200.        ])"
      ]
     },
     "execution_count": 5,
     "metadata": {},
     "output_type": "execute_result"
    }
   ],
   "source": [
    "np.linspace(100,200,20)"
   ]
  },
  {
   "cell_type": "markdown",
   "metadata": {},
   "source": [
    "## Ejercicio:\n",
    "\n",
    "Crea una matriz de 4 filas y 6 columnas rellena con ceros."
   ]
  },
  {
   "cell_type": "code",
   "execution_count": 6,
   "metadata": {},
   "outputs": [
    {
     "data": {
      "text/plain": [
       "array([[0., 0., 0., 0., 0., 0.],\n",
       "       [0., 0., 0., 0., 0., 0.],\n",
       "       [0., 0., 0., 0., 0., 0.],\n",
       "       [0., 0., 0., 0., 0., 0.]])"
      ]
     },
     "execution_count": 6,
     "metadata": {},
     "output_type": "execute_result"
    }
   ],
   "source": [
    "np.zeros((4,6))"
   ]
  },
  {
   "cell_type": "markdown",
   "metadata": {},
   "source": [
    "## Ejercicio:\n",
    "\n",
    "Crea una matriz identidad de 4 filas y 4 columnas."
   ]
  },
  {
   "cell_type": "code",
   "execution_count": 7,
   "metadata": {},
   "outputs": [
    {
     "data": {
      "text/plain": [
       "array([[1., 0., 0., 0.],\n",
       "       [0., 1., 0., 0.],\n",
       "       [0., 0., 1., 0.],\n",
       "       [0., 0., 0., 1.]])"
      ]
     },
     "execution_count": 7,
     "metadata": {},
     "output_type": "execute_result"
    }
   ],
   "source": [
    "np.eye(4,4)"
   ]
  },
  {
   "cell_type": "markdown",
   "metadata": {},
   "source": [
    "## Ejercicio:\n",
    "\n",
    "Crea una matriz de 6 filas y 3 columnas rellena con números aleatorios entre 0 y 1."
   ]
  },
  {
   "cell_type": "code",
   "execution_count": 8,
   "metadata": {},
   "outputs": [
    {
     "data": {
      "text/plain": [
       "array([[0.36480556, 0.51793893, 0.19796425],\n",
       "       [0.42177389, 0.72465555, 0.43732837],\n",
       "       [0.80987209, 0.82704063, 0.10329042],\n",
       "       [0.75223359, 0.5239469 , 0.10479095],\n",
       "       [0.06794727, 0.18404641, 0.49780298],\n",
       "       [0.05002889, 0.84103171, 0.03683605]])"
      ]
     },
     "execution_count": 8,
     "metadata": {},
     "output_type": "execute_result"
    }
   ],
   "source": [
    "np.random.rand(6,3)"
   ]
  },
  {
   "cell_type": "markdown",
   "metadata": {},
   "source": [
    "## Ejercicio:\n",
    "\n",
    "Crea un vector aleatorio de 100 elementos que tenga una distribución normal."
   ]
  },
  {
   "cell_type": "code",
   "execution_count": 9,
   "metadata": {},
   "outputs": [
    {
     "data": {
      "text/plain": [
       "array([ 0.07232531, -1.07886555, -0.917754  ,  0.79798188, -1.04050315,\n",
       "       -0.85119061, -0.89277057,  1.68564179, -1.04455962, -0.66055992,\n",
       "        0.10875731,  1.75012337, -1.51595515, -1.83451352,  1.09098217,\n",
       "        1.72870998, -0.10997492,  0.09298779, -1.26727837,  0.48527418,\n",
       "       -0.12294441, -0.61123039,  1.58659463, -0.55191429, -0.75045171,\n",
       "        0.3160508 , -0.30545196,  1.18159703, -2.08849867,  0.44378355,\n",
       "       -0.02189341, -0.07446374,  0.66492808, -0.61325833,  0.69568599,\n",
       "       -0.24027158, -1.07408291, -0.81150624, -1.20252345, -1.2493373 ,\n",
       "       -1.09856827,  0.44081291,  0.35658998,  0.082147  ,  0.54320494,\n",
       "        0.31258807,  1.23619628, -0.37829524,  0.49704327, -2.26581627,\n",
       "        0.25727352, -0.0074581 ,  0.16279765, -0.45299675, -1.39020747,\n",
       "        1.05326629,  0.11985793,  0.4201329 ,  0.94860139, -0.84577536,\n",
       "        0.29545651,  1.62972297,  2.53141351, -1.01613536,  1.28184834,\n",
       "       -0.0740821 , -1.49002146, -2.18824057,  0.60825981,  0.80075883,\n",
       "       -0.1953796 , -0.38833334,  0.40151706, -1.88295638,  0.25812664,\n",
       "        0.27646411,  1.04209894,  1.66799688,  0.14632592,  0.35664449,\n",
       "        1.58111104, -1.01354236,  0.44501432,  1.2436609 , -1.66326633,\n",
       "       -0.0094789 , -0.8813873 ,  0.66443843, -0.11864137, -0.73386025,\n",
       "       -0.55015095,  0.19038275,  1.09506504,  0.279009  , -0.18005341,\n",
       "       -1.06757284, -0.27231225,  0.9051153 , -1.34810924, -1.58133669])"
      ]
     },
     "execution_count": 9,
     "metadata": {},
     "output_type": "execute_result"
    }
   ],
   "source": [
    "np.random.randn(100)"
   ]
  },
  {
   "cell_type": "markdown",
   "metadata": {},
   "source": [
    "## Ejercicio:\n",
    "\n",
    "Crea un vector aleatorio de 100 elementos que vayan entre el 1 y el 100."
   ]
  },
  {
   "cell_type": "code",
   "execution_count": 10,
   "metadata": {
    "scrolled": true
   },
   "outputs": [
    {
     "data": {
      "text/plain": [
       "array([25, 15, 43, 58, 22, 57, 41, 24, 67, 71, 55, 67, 50, 34, 36,  4, 23,\n",
       "       24, 25, 54, 83, 40, 25, 60, 37, 41, 37, 91, 82, 34, 67, 27, 32, 19,\n",
       "       39, 57, 78, 95,  1,  3, 81, 38, 83, 88, 16, 14, 43, 26, 18, 24, 77,\n",
       "       13, 90, 92, 55,  4,  3,  2, 85, 83, 39, 24, 79, 20, 54, 44, 44, 63,\n",
       "       18, 40, 94, 56, 32, 62, 74, 61, 63, 34,  1, 55, 66, 46, 39,  8, 26,\n",
       "       49, 15, 36, 97, 78, 74,  2, 83, 78, 59, 13, 83,  7, 91, 52])"
      ]
     },
     "execution_count": 10,
     "metadata": {},
     "output_type": "execute_result"
    }
   ],
   "source": [
    "np.random.randint(1,101,100)"
   ]
  },
  {
   "cell_type": "markdown",
   "metadata": {},
   "source": [
    "## Ejercicio:\n",
    "\n",
    "Crea un vector llamado vector, como el anterior pero ordénalo."
   ]
  },
  {
   "cell_type": "code",
   "execution_count": 11,
   "metadata": {
    "scrolled": true
   },
   "outputs": [
    {
     "data": {
      "text/plain": [
       "array([  2,   3,   3,   5,   5,   7,   7,   7,   8,   9,  10,  10,  11,\n",
       "        12,  13,  20,  22,  23,  23,  24,  25,  25,  25,  27,  29,  29,\n",
       "        30,  30,  33,  33,  35,  37,  38,  40,  41,  41,  42,  43,  44,\n",
       "        44,  44,  45,  45,  46,  46,  46,  47,  48,  49,  50,  50,  51,\n",
       "        51,  51,  52,  53,  54,  55,  56,  56,  57,  60,  60,  61,  62,\n",
       "        63,  64,  67,  68,  69,  70,  71,  72,  73,  73,  73,  74,  75,\n",
       "        76,  77,  77,  79,  79,  83,  83,  85,  87,  88,  91,  93,  94,\n",
       "        94,  94,  96,  97,  98,  98,  98, 100, 100])"
      ]
     },
     "execution_count": 11,
     "metadata": {},
     "output_type": "execute_result"
    }
   ],
   "source": [
    "vector = np.random.randint(1,101,100)\n",
    "vector.sort()\n",
    "vector"
   ]
  },
  {
   "cell_type": "markdown",
   "metadata": {},
   "source": [
    "## Ejercicio:\n",
    "\n",
    "Sobre vector cacula la media, mediana, desv típica, varianza, máximo y mínimo."
   ]
  },
  {
   "cell_type": "code",
   "execution_count": 12,
   "metadata": {
    "scrolled": true
   },
   "outputs": [
    {
     "name": "stdout",
     "output_type": "stream",
     "text": [
      "50.89\n",
      "50.0\n",
      "28.024237723799022\n",
      "785.3579000000001\n",
      "100\n",
      "2\n"
     ]
    }
   ],
   "source": [
    "print(vector.mean())\n",
    "print(np.median(vector))\n",
    "print(np.std(vector))\n",
    "print(vector.var())\n",
    "print(vector.max())\n",
    "print(vector.min())"
   ]
  },
  {
   "cell_type": "markdown",
   "metadata": {},
   "source": [
    "## Ejercicio:\n",
    "\n",
    "Extrae de vector los elementos que están entre el sexto y el octavo ambos incluidos."
   ]
  },
  {
   "cell_type": "code",
   "execution_count": 13,
   "metadata": {
    "scrolled": true
   },
   "outputs": [
    {
     "data": {
      "text/plain": [
       "array([7, 7, 7])"
      ]
     },
     "execution_count": 13,
     "metadata": {},
     "output_type": "execute_result"
    }
   ],
   "source": [
    "vector[5:8]"
   ]
  },
  {
   "cell_type": "markdown",
   "metadata": {},
   "source": [
    "## Ejercicio:\n",
    "\n",
    "Extrae de vector los elementos que son pares. Pista: puedes apoyarte en el operador módulo %"
   ]
  },
  {
   "cell_type": "code",
   "execution_count": 14,
   "metadata": {
    "scrolled": true
   },
   "outputs": [
    {
     "data": {
      "text/plain": [
       "array([  2,   8,  10,  10,  12,  20,  22,  24,  30,  30,  38,  40,  42,\n",
       "        44,  44,  44,  46,  46,  46,  48,  50,  50,  52,  54,  56,  56,\n",
       "        60,  60,  62,  64,  68,  70,  72,  74,  76,  88,  94,  94,  94,\n",
       "        96,  98,  98,  98, 100, 100])"
      ]
     },
     "execution_count": 14,
     "metadata": {},
     "output_type": "execute_result"
    }
   ],
   "source": [
    "vector[vector % 2 == 0]"
   ]
  },
  {
   "cell_type": "markdown",
   "metadata": {},
   "source": [
    "## Ejercicio:\n",
    "\n",
    "Crea dos vectores de enteros llamados v1 y v2, cada uno de 5 elementos aleatorios entre 1 y 10 y súmalos."
   ]
  },
  {
   "cell_type": "code",
   "execution_count": 15,
   "metadata": {
    "scrolled": true
   },
   "outputs": [
    {
     "data": {
      "text/plain": [
       "array([15,  3,  4, 10,  3])"
      ]
     },
     "execution_count": 15,
     "metadata": {},
     "output_type": "execute_result"
    }
   ],
   "source": [
    "v1 = np.random.randint(1,11,5)\n",
    "v2 = np.random.randint(1,11,5)\n",
    "\n",
    "v1 + v2"
   ]
  },
  {
   "cell_type": "markdown",
   "metadata": {},
   "source": [
    "## Ejercicio:\n",
    "\n",
    "Multiplícalos usando el producto escalar."
   ]
  },
  {
   "cell_type": "code",
   "execution_count": 16,
   "metadata": {
    "scrolled": false
   },
   "outputs": [
    {
     "data": {
      "text/plain": [
       "85"
      ]
     },
     "execution_count": 16,
     "metadata": {},
     "output_type": "execute_result"
    }
   ],
   "source": [
    "np.dot(v1,v2)"
   ]
  },
  {
   "cell_type": "markdown",
   "metadata": {},
   "source": [
    "## Ejercicio:\n",
    "\n",
    "Transforma el vector que creaste antes llamado vector en una matriz de 10 x 10 y llámala matriz"
   ]
  },
  {
   "cell_type": "code",
   "execution_count": 17,
   "metadata": {
    "scrolled": false
   },
   "outputs": [
    {
     "data": {
      "text/plain": [
       "array([[  2,   3,   3,   5,   5,   7,   7,   7,   8,   9],\n",
       "       [ 10,  10,  11,  12,  13,  20,  22,  23,  23,  24],\n",
       "       [ 25,  25,  25,  27,  29,  29,  30,  30,  33,  33],\n",
       "       [ 35,  37,  38,  40,  41,  41,  42,  43,  44,  44],\n",
       "       [ 44,  45,  45,  46,  46,  46,  47,  48,  49,  50],\n",
       "       [ 50,  51,  51,  51,  52,  53,  54,  55,  56,  56],\n",
       "       [ 57,  60,  60,  61,  62,  63,  64,  67,  68,  69],\n",
       "       [ 70,  71,  72,  73,  73,  73,  74,  75,  76,  77],\n",
       "       [ 77,  79,  79,  83,  83,  85,  87,  88,  91,  93],\n",
       "       [ 94,  94,  94,  96,  97,  98,  98,  98, 100, 100]])"
      ]
     },
     "execution_count": 17,
     "metadata": {},
     "output_type": "execute_result"
    }
   ],
   "source": [
    "matriz = vector.reshape(10,10)\n",
    "matriz"
   ]
  },
  {
   "cell_type": "markdown",
   "metadata": {},
   "source": [
    "## Ejercicio:\n",
    "\n",
    "Multiplica matriz por 8"
   ]
  },
  {
   "cell_type": "code",
   "execution_count": 18,
   "metadata": {
    "scrolled": false
   },
   "outputs": [
    {
     "data": {
      "text/plain": [
       "array([[ 16,  24,  24,  40,  40,  56,  56,  56,  64,  72],\n",
       "       [ 80,  80,  88,  96, 104, 160, 176, 184, 184, 192],\n",
       "       [200, 200, 200, 216, 232, 232, 240, 240, 264, 264],\n",
       "       [280, 296, 304, 320, 328, 328, 336, 344, 352, 352],\n",
       "       [352, 360, 360, 368, 368, 368, 376, 384, 392, 400],\n",
       "       [400, 408, 408, 408, 416, 424, 432, 440, 448, 448],\n",
       "       [456, 480, 480, 488, 496, 504, 512, 536, 544, 552],\n",
       "       [560, 568, 576, 584, 584, 584, 592, 600, 608, 616],\n",
       "       [616, 632, 632, 664, 664, 680, 696, 704, 728, 744],\n",
       "       [752, 752, 752, 768, 776, 784, 784, 784, 800, 800]])"
      ]
     },
     "execution_count": 18,
     "metadata": {},
     "output_type": "execute_result"
    }
   ],
   "source": [
    "matriz * 8"
   ]
  }
 ],
 "metadata": {
  "kernelspec": {
   "display_name": "Python 3 (ipykernel)",
   "language": "python",
   "name": "python3"
  },
  "language_info": {
   "codemirror_mode": {
    "name": "ipython",
    "version": 3
   },
   "file_extension": ".py",
   "mimetype": "text/x-python",
   "name": "python",
   "nbconvert_exporter": "python",
   "pygments_lexer": "ipython3",
   "version": "3.9.7"
  },
  "toc": {
   "base_numbering": 1,
   "nav_menu": {},
   "number_sections": true,
   "sideBar": true,
   "skip_h1_title": false,
   "title_cell": "Table of Contents",
   "title_sidebar": "Contents",
   "toc_cell": false,
   "toc_position": {},
   "toc_section_display": true,
   "toc_window_display": true
  },
  "varInspector": {
   "cols": {
    "lenName": 16,
    "lenType": 16,
    "lenVar": 40
   },
   "kernels_config": {
    "python": {
     "delete_cmd_postfix": "",
     "delete_cmd_prefix": "del ",
     "library": "var_list.py",
     "varRefreshCmd": "print(var_dic_list())"
    },
    "r": {
     "delete_cmd_postfix": ") ",
     "delete_cmd_prefix": "rm(",
     "library": "var_list.r",
     "varRefreshCmd": "cat(var_dic_list()) "
    }
   },
   "position": {
    "height": "559.85px",
    "left": "1774px",
    "right": "20px",
    "top": "120px",
    "width": "350px"
   },
   "types_to_exclude": [
    "module",
    "function",
    "builtin_function_or_method",
    "instance",
    "_Feature"
   ],
   "window_display": true
  }
 },
 "nbformat": 4,
 "nbformat_minor": 4
}
