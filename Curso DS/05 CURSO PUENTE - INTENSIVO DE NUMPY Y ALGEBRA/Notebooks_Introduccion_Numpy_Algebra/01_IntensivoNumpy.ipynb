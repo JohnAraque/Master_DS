{
 "cells": [
  {
   "cell_type": "markdown",
   "metadata": {},
   "source": [
    "# CURSO INTENSIVO DE NUMPY"
   ]
  },
  {
   "cell_type": "markdown",
   "metadata": {},
   "source": [
    "## INSTALACIÓN"
   ]
  },
  {
   "cell_type": "markdown",
   "metadata": {},
   "source": [
    "Se instala con conda install numpy"
   ]
  },
  {
   "cell_type": "markdown",
   "metadata": {},
   "source": [
    "## INTRODUCCIÓN E IMPORTACIÓN"
   ]
  },
  {
   "cell_type": "markdown",
   "metadata": {},
   "source": [
    "Es un paquete de computación eficiente muy enfocado al álgebra lineal.\n",
    "\n",
    "Muy rápido porque usa muchas librerías de C.\n",
    "\n",
    "El resto de paquetes de ML están basados en él.\n",
    "\n",
    "Dos estructuras básicas vectores (array de una dimensión) y matrices (array de 2 dimensiones).\n",
    "\n",
    "Como término que unifica ambos usaremos array."
   ]
  },
  {
   "cell_type": "code",
   "execution_count": 1,
   "metadata": {},
   "outputs": [],
   "source": [
    "import numpy as np"
   ]
  },
  {
   "cell_type": "markdown",
   "metadata": {},
   "source": [
    "**¿Por qué Numpy?**\n",
    "\n",
    "Ahora que ya conocemos las estructuras de datos de Python vemos que no tiene realmente ninguna realmente orientada a trabajar con cálculos de manera masiva.\n",
    "\n",
    "Están más orientadas a almacenar y recuperar información, pero no a procesarla en grandes cantidades y de forma eficiente.\n",
    "\n",
    "Por otro lado casi todos los métodos de análisis y de machine learning se basan en el concepto de vector.\n",
    "\n",
    "Lo más parecido que tiene Python a un vector podría ser una lista. Pero esta carece de lo que se llaman \"operaciones vectorizadas\", es decir, aplicar el mismo cálculo a todos los componentes del vector, y que es clave en data science."
   ]
  },
  {
   "cell_type": "code",
   "execution_count": 2,
   "metadata": {},
   "outputs": [
    {
     "data": {
      "text/plain": [
       "[1, 2, 3, 1, 2, 3]"
      ]
     },
     "execution_count": 2,
     "metadata": {},
     "output_type": "execute_result"
    }
   ],
   "source": [
    "# Por ejemplo si creamos una lista y la multiplicamos por dos\n",
    "# No conseguimos el efecto que seguramente estábamos esperando\n",
    "lista = [1,2,3]\n",
    "lista * 2"
   ]
  },
  {
   "cell_type": "code",
   "execution_count": 3,
   "metadata": {},
   "outputs": [
    {
     "data": {
      "text/plain": [
       "[2, 4, 6]"
      ]
     },
     "execution_count": 3,
     "metadata": {},
     "output_type": "execute_result"
    }
   ],
   "source": [
    "# Necesitaríamos usar list comprehension (o un for) para hacerlo\n",
    "[elemento * 2 for elemento in lista]"
   ]
  },
  {
   "cell_type": "code",
   "execution_count": 4,
   "metadata": {},
   "outputs": [
    {
     "data": {
      "text/plain": [
       "array([2, 4, 6])"
      ]
     },
     "execution_count": 4,
     "metadata": {},
     "output_type": "execute_result"
    }
   ],
   "source": [
    "# Sin embargo si la pasamos a un vector de Numpy sí\n",
    "lista_vec = np.array([1,2,3])\n",
    "lista_vec * 2"
   ]
  },
  {
   "cell_type": "markdown",
   "metadata": {},
   "source": [
    "A nivel de estructura de datos Numpy utiliza el array multidimensional (array de n dimensiones)"
   ]
  },
  {
   "cell_type": "code",
   "execution_count": 5,
   "metadata": {},
   "outputs": [
    {
     "data": {
      "text/plain": [
       "numpy.ndarray"
      ]
     },
     "execution_count": 5,
     "metadata": {},
     "output_type": "execute_result"
    }
   ],
   "source": [
    "v = np.array([1,2,3])\n",
    "type(v)"
   ]
  },
  {
   "cell_type": "markdown",
   "metadata": {},
   "source": [
    "A nivel de tipo de dato es importante ver cómo lo define: con el tipo de dato (por ejemplo entero) más el número de bits que usa (16, 32, 64, etc.).\n",
    "\n",
    "Es importante porque en Pandas veremos que usa la misma notación."
   ]
  },
  {
   "cell_type": "code",
   "execution_count": 6,
   "metadata": {},
   "outputs": [
    {
     "data": {
      "text/plain": [
       "dtype('int32')"
      ]
     },
     "execution_count": 6,
     "metadata": {},
     "output_type": "execute_result"
    }
   ],
   "source": [
    "v.dtype"
   ]
  },
  {
   "cell_type": "markdown",
   "metadata": {},
   "source": [
    "Que no nos confunda que Numpy sea una librería numérica. También puede haber arrays no numéricos.\n",
    "\n",
    "Pero eso sí, **todos los componentes del array tienen que ser del mismo tipo** (que será una de las cosas que nos llevará a Pandas)."
   ]
  },
  {
   "cell_type": "code",
   "execution_count": 7,
   "metadata": {},
   "outputs": [
    {
     "data": {
      "text/plain": [
       "numpy.ndarray"
      ]
     },
     "execution_count": 7,
     "metadata": {},
     "output_type": "execute_result"
    }
   ],
   "source": [
    "v = np.array(['a','b','c'])\n",
    "type(v)"
   ]
  },
  {
   "cell_type": "code",
   "execution_count": 8,
   "metadata": {},
   "outputs": [
    {
     "data": {
      "text/plain": [
       "array(['a', '2', 'c'], dtype='<U11')"
      ]
     },
     "execution_count": 8,
     "metadata": {},
     "output_type": "execute_result"
    }
   ],
   "source": [
    "#Si ponemos de diferentes tipos vemos que los convierte para que sean del mismo tipo\n",
    "v = np.array(['a',2,'c'])\n",
    "v"
   ]
  },
  {
   "cell_type": "markdown",
   "metadata": {},
   "source": [
    "## COMO CREAR UN ARRAY"
   ]
  },
  {
   "cell_type": "markdown",
   "metadata": {},
   "source": [
    "### A PARTIR DE UNA LISTA"
   ]
  },
  {
   "cell_type": "code",
   "execution_count": 9,
   "metadata": {},
   "outputs": [
    {
     "data": {
      "text/plain": [
       "array([1, 2, 3])"
      ]
     },
     "execution_count": 9,
     "metadata": {},
     "output_type": "execute_result"
    }
   ],
   "source": [
    "#Crear un vector a partir una lista\n",
    "v = np.array([1,2,3])\n",
    "v"
   ]
  },
  {
   "cell_type": "code",
   "execution_count": 10,
   "metadata": {
    "scrolled": true
   },
   "outputs": [
    {
     "data": {
      "text/plain": [
       "array([[1, 2, 3],\n",
       "       [4, 5, 6]])"
      ]
     },
     "execution_count": 10,
     "metadata": {},
     "output_type": "execute_result"
    }
   ],
   "source": [
    "#Crear una matriz a partir de una lista de listas\n",
    "m = np.array([[1,2,3],[4,5,6]])\n",
    "m"
   ]
  },
  {
   "cell_type": "markdown",
   "metadata": {},
   "source": [
    "### A PARTIR DE UN RANGO"
   ]
  },
  {
   "cell_type": "code",
   "execution_count": 11,
   "metadata": {},
   "outputs": [
    {
     "data": {
      "text/plain": [
       "array([1, 3, 5, 7, 9])"
      ]
     },
     "execution_count": 11,
     "metadata": {},
     "output_type": "execute_result"
    }
   ],
   "source": [
    "#Crear un vector a partir de un rango\n",
    "np.arange(1,10,2)"
   ]
  },
  {
   "cell_type": "code",
   "execution_count": 12,
   "metadata": {
    "scrolled": true
   },
   "outputs": [
    {
     "data": {
      "text/plain": [
       "array([ 1.        ,  1.47368421,  1.94736842,  2.42105263,  2.89473684,\n",
       "        3.36842105,  3.84210526,  4.31578947,  4.78947368,  5.26315789,\n",
       "        5.73684211,  6.21052632,  6.68421053,  7.15789474,  7.63157895,\n",
       "        8.10526316,  8.57894737,  9.05263158,  9.52631579, 10.        ])"
      ]
     },
     "execution_count": 12,
     "metadata": {},
     "output_type": "execute_result"
    }
   ],
   "source": [
    "#Crear un vector interpolando entre dos números\n",
    "np.linspace(1,10,20)"
   ]
  },
  {
   "cell_type": "markdown",
   "metadata": {},
   "source": [
    "### CREAR UN ARRAY PREDEFINIDO"
   ]
  },
  {
   "cell_type": "code",
   "execution_count": 13,
   "metadata": {},
   "outputs": [
    {
     "data": {
      "text/plain": [
       "array([[0., 0., 0.],\n",
       "       [0., 0., 0.],\n",
       "       [0., 0., 0.],\n",
       "       [0., 0., 0.]])"
      ]
     },
     "execution_count": 13,
     "metadata": {},
     "output_type": "execute_result"
    }
   ],
   "source": [
    "#Crear un array de ceros (el parámetro es una tupla con filas, columnas)\n",
    "np.zeros((4,3))"
   ]
  },
  {
   "cell_type": "code",
   "execution_count": 14,
   "metadata": {
    "scrolled": true
   },
   "outputs": [
    {
     "data": {
      "text/plain": [
       "array([[1., 0., 0., 0., 0.],\n",
       "       [0., 1., 0., 0., 0.],\n",
       "       [0., 0., 1., 0., 0.],\n",
       "       [0., 0., 0., 1., 0.],\n",
       "       [0., 0., 0., 0., 1.]])"
      ]
     },
     "execution_count": 14,
     "metadata": {},
     "output_type": "execute_result"
    }
   ],
   "source": [
    "#Crear una matriz de identidad\n",
    "np.eye(5)"
   ]
  },
  {
   "cell_type": "markdown",
   "metadata": {},
   "source": [
    "### CREAR UN ARRAY ALEATORIO"
   ]
  },
  {
   "cell_type": "markdown",
   "metadata": {},
   "source": [
    "Con los aletorios de Python que hemos visto solamente podíamos extraer uno de cada vez.\n",
    "\n",
    "Teniendo que hacer list comprehension para obtener toda una lista."
   ]
  },
  {
   "cell_type": "code",
   "execution_count": 15,
   "metadata": {},
   "outputs": [
    {
     "data": {
      "text/plain": [
       "9"
      ]
     },
     "execution_count": 15,
     "metadata": {},
     "output_type": "execute_result"
    }
   ],
   "source": [
    "#Esto nos devuelve solo un valor\n",
    "import random as rd\n",
    "rd.randint(1,10)"
   ]
  },
  {
   "cell_type": "code",
   "execution_count": 16,
   "metadata": {},
   "outputs": [
    {
     "data": {
      "text/plain": [
       "[6, 5, 10, 10, 8, 5, 6, 8, 3, 3]"
      ]
     },
     "execution_count": 16,
     "metadata": {},
     "output_type": "execute_result"
    }
   ],
   "source": [
    "#Si quierámos por ejemplo 10\n",
    "[rd.randint(1,10) for cada in range(10)]"
   ]
  },
  {
   "cell_type": "markdown",
   "metadata": {},
   "source": [
    "Sin embargo vamos a ver cómo con Numpy generamos directamente vectores (que podrán ser variables) que es normalmente lo que queremos."
   ]
  },
  {
   "cell_type": "code",
   "execution_count": 17,
   "metadata": {},
   "outputs": [
    {
     "data": {
      "text/plain": [
       "array([[1.16711279e-01, 1.42615554e-01, 8.96208067e-01, 9.06170077e-01,\n",
       "        9.62347281e-02, 7.25779705e-01, 2.77871673e-01, 5.05776010e-02,\n",
       "        1.45201461e-01, 2.40130231e-02],\n",
       "       [2.20174245e-01, 9.99922917e-01, 8.00776878e-01, 4.45752126e-02,\n",
       "        1.09613772e-01, 6.98704002e-01, 4.66036416e-01, 8.46650803e-01,\n",
       "        4.37703362e-01, 4.30281205e-01],\n",
       "       [5.88349299e-01, 9.96590225e-01, 6.50133484e-01, 1.50820208e-01,\n",
       "        4.98463377e-01, 6.87317023e-01, 8.13464939e-01, 2.19088374e-01,\n",
       "        2.10485975e-01, 2.93750701e-01],\n",
       "       [9.30198693e-01, 4.64033349e-01, 2.20654395e-01, 8.69002930e-01,\n",
       "        6.02901328e-01, 7.06774819e-01, 4.63612278e-01, 7.54197622e-04,\n",
       "        8.82605067e-01, 7.27373285e-01],\n",
       "       [7.86485473e-01, 8.80053658e-02, 7.53692278e-02, 2.62635129e-01,\n",
       "        1.37336224e-01, 7.26690817e-01, 5.81118220e-01, 6.38751357e-01,\n",
       "        9.36600102e-01, 6.17770025e-01]])"
      ]
     },
     "execution_count": 17,
     "metadata": {},
     "output_type": "execute_result"
    }
   ],
   "source": [
    "#Aleatorios de 0-1 con distribución uniforme\n",
    "np.random.rand(5,10)"
   ]
  },
  {
   "cell_type": "code",
   "execution_count": 18,
   "metadata": {},
   "outputs": [
    {
     "data": {
      "text/plain": [
       "array([ 9.92794904e-01, -7.06509859e-01, -9.47746801e-01, -5.76626007e-01,\n",
       "       -1.21849499e+00,  7.03567378e-02, -1.03300207e-03, -1.59234156e+00,\n",
       "       -2.10493899e+00, -1.51952656e-01,  7.59446595e-01,  7.41896442e-01,\n",
       "       -1.42924873e+00,  5.39183018e-02,  4.33830130e-01, -1.30590853e+00,\n",
       "        2.44564812e+00,  1.28621666e+00, -1.21112531e+00, -2.50792946e+00])"
      ]
     },
     "execution_count": 18,
     "metadata": {},
     "output_type": "execute_result"
    }
   ],
   "source": [
    "#Aleatorios de distribución normal con media cero\n",
    "np.random.randn(20)"
   ]
  },
  {
   "cell_type": "code",
   "execution_count": 19,
   "metadata": {
    "scrolled": true
   },
   "outputs": [
    {
     "data": {
      "text/plain": [
       "array([3, 5, 4, 9, 2, 1, 4, 3, 6, 4, 8, 5, 4, 9, 7, 9, 5, 4, 6, 9])"
      ]
     },
     "execution_count": 19,
     "metadata": {},
     "output_type": "execute_result"
    }
   ],
   "source": [
    "#Aleatorios entre dos enteros (inferior, superior, tamaño)\n",
    "np.random.randint(1,11,20)"
   ]
  },
  {
   "cell_type": "code",
   "execution_count": 20,
   "metadata": {},
   "outputs": [],
   "source": [
    "#También es muy útil establecer una semilla\n",
    "np.random.seed(1234)"
   ]
  },
  {
   "cell_type": "markdown",
   "metadata": {},
   "source": [
    "## COMO TRANSFORMAR UN ARRAY"
   ]
  },
  {
   "cell_type": "markdown",
   "metadata": {},
   "source": [
    "### CAMBIAR LA FORMA Y ORDENAR"
   ]
  },
  {
   "cell_type": "code",
   "execution_count": 21,
   "metadata": {},
   "outputs": [
    {
     "data": {
      "text/plain": [
       "(3,)"
      ]
     },
     "execution_count": 21,
     "metadata": {},
     "output_type": "execute_result"
    }
   ],
   "source": [
    "#Ver la forma de una array\n",
    "v = np.array([1,2,3])\n",
    "v.shape"
   ]
  },
  {
   "cell_type": "code",
   "execution_count": 22,
   "metadata": {},
   "outputs": [
    {
     "name": "stdout",
     "output_type": "stream",
     "text": [
      "[ 0  1  2  3  4  5  6  7  8  9 10 11 12 13 14 15 16 17 18 19]\n"
     ]
    }
   ],
   "source": [
    "#Cambiar la forma de un array\n",
    "v = np.arange(20)\n",
    "print(v)"
   ]
  },
  {
   "cell_type": "code",
   "execution_count": 23,
   "metadata": {},
   "outputs": [
    {
     "data": {
      "text/plain": [
       "(20,)"
      ]
     },
     "execution_count": 23,
     "metadata": {},
     "output_type": "execute_result"
    }
   ],
   "source": [
    "v.shape"
   ]
  },
  {
   "cell_type": "code",
   "execution_count": 24,
   "metadata": {},
   "outputs": [
    {
     "data": {
      "text/plain": [
       "(2, 10)"
      ]
     },
     "execution_count": 24,
     "metadata": {},
     "output_type": "execute_result"
    }
   ],
   "source": [
    "v2= v.reshape(2,10)\n",
    "v2.shape"
   ]
  },
  {
   "cell_type": "code",
   "execution_count": 25,
   "metadata": {
    "scrolled": true
   },
   "outputs": [
    {
     "name": "stdout",
     "output_type": "stream",
     "text": [
      "[0.19151945 0.62210877 0.43772774 0.78535858 0.77997581 0.27259261\n",
      " 0.27646426 0.80187218 0.95813935 0.87593263]\n"
     ]
    }
   ],
   "source": [
    "#Ordenar\n",
    "v = np.random.rand(10)\n",
    "print(v)"
   ]
  },
  {
   "cell_type": "code",
   "execution_count": 26,
   "metadata": {},
   "outputs": [
    {
     "data": {
      "text/plain": [
       "array([0.19151945, 0.27259261, 0.27646426, 0.43772774, 0.62210877,\n",
       "       0.77997581, 0.78535858, 0.80187218, 0.87593263, 0.95813935])"
      ]
     },
     "execution_count": 26,
     "metadata": {},
     "output_type": "execute_result"
    }
   ],
   "source": [
    "v.sort()\n",
    "v"
   ]
  },
  {
   "cell_type": "markdown",
   "metadata": {},
   "source": [
    "### ESTADÍSTICOS BÁSICOS SOBRE UN ARRAY"
   ]
  },
  {
   "cell_type": "code",
   "execution_count": 27,
   "metadata": {},
   "outputs": [
    {
     "name": "stdout",
     "output_type": "stream",
     "text": [
      "9.5\n",
      "9.5\n",
      "5.766281297335398\n",
      "33.25\n",
      "19\n",
      "0\n",
      "[[1. 1.]\n",
      " [1. 1.]]\n"
     ]
    }
   ],
   "source": [
    "#Estadísticos\n",
    "v = np.arange(20)\n",
    "print(v.mean())\n",
    "print(np.median(v))\n",
    "print(np.std(v))\n",
    "print(v.var())\n",
    "print(v.max())\n",
    "print(v.min())\n",
    "print(np.corrcoef(v,v))"
   ]
  },
  {
   "cell_type": "code",
   "execution_count": 28,
   "metadata": {
    "scrolled": true
   },
   "outputs": [
    {
     "name": "stdout",
     "output_type": "stream",
     "text": [
      "[ 9  1  6  1 10  7  3  1  6  3]\n",
      "4\n"
     ]
    },
    {
     "data": {
      "text/plain": [
       "10"
      ]
     },
     "execution_count": 28,
     "metadata": {},
     "output_type": "execute_result"
    }
   ],
   "source": [
    "#Localizar los índices de los estadísticos\n",
    "v = np.random.randint(1,11,10)\n",
    "print(v)\n",
    "print(v.argmax())\n",
    "v[v.argmax()]"
   ]
  },
  {
   "cell_type": "markdown",
   "metadata": {},
   "source": [
    "### CREAR COPIAS"
   ]
  },
  {
   "cell_type": "code",
   "execution_count": 29,
   "metadata": {},
   "outputs": [
    {
     "name": "stdout",
     "output_type": "stream",
     "text": [
      "[0 1 2 3 4]\n"
     ]
    }
   ],
   "source": [
    "v1 = np.arange(5)\n",
    "print(v1)"
   ]
  },
  {
   "cell_type": "code",
   "execution_count": 30,
   "metadata": {},
   "outputs": [
    {
     "data": {
      "text/plain": [
       "array([0, 1, 2, 3, 4])"
      ]
     },
     "execution_count": 30,
     "metadata": {},
     "output_type": "execute_result"
    }
   ],
   "source": [
    "v2 = v1\n",
    "v2"
   ]
  },
  {
   "cell_type": "code",
   "execution_count": 31,
   "metadata": {},
   "outputs": [],
   "source": [
    "v2[:] = 5"
   ]
  },
  {
   "cell_type": "code",
   "execution_count": 32,
   "metadata": {},
   "outputs": [
    {
     "data": {
      "text/plain": [
       "array([5, 5, 5, 5, 5])"
      ]
     },
     "execution_count": 32,
     "metadata": {},
     "output_type": "execute_result"
    }
   ],
   "source": [
    "v2"
   ]
  },
  {
   "cell_type": "code",
   "execution_count": 33,
   "metadata": {},
   "outputs": [
    {
     "data": {
      "text/plain": [
       "array([5, 5, 5, 5, 5])"
      ]
     },
     "execution_count": 33,
     "metadata": {},
     "output_type": "execute_result"
    }
   ],
   "source": [
    "v1"
   ]
  },
  {
   "cell_type": "code",
   "execution_count": 34,
   "metadata": {},
   "outputs": [
    {
     "name": "stdout",
     "output_type": "stream",
     "text": [
      "[0 1 2 3 4]\n",
      "[5 5 5 5 5]\n",
      "[5 5 5 5 5]\n"
     ]
    }
   ],
   "source": [
    "#Cuidado con las copias porque modificar una copia puede modificar también el original\n",
    "v1 = np.arange(5)\n",
    "print(v1)\n",
    "v2 = v1\n",
    "v2[:] = 5\n",
    "print(v2)\n",
    "print(v1)"
   ]
  },
  {
   "cell_type": "code",
   "execution_count": 35,
   "metadata": {
    "scrolled": true
   },
   "outputs": [
    {
     "name": "stdout",
     "output_type": "stream",
     "text": [
      "[0 1 2 3 4]\n",
      "[5 5 5 5 5]\n",
      "[0 1 2 3 4]\n"
     ]
    }
   ],
   "source": [
    "#Para que no modifique el original hay que decir explícitamente que quieres una copia\n",
    "#Si no lo entenderá como un puntero al original (parar ahorrar memoria) y lo podrá modificar\n",
    "v1 = np.arange(5)\n",
    "print(v1)\n",
    "v2 = v1.copy()\n",
    "v2[:] = 5\n",
    "print(v2)\n",
    "print(v1)"
   ]
  },
  {
   "cell_type": "markdown",
   "metadata": {},
   "source": [
    "## COMO INDEXAR UN ARRAY"
   ]
  },
  {
   "cell_type": "code",
   "execution_count": 36,
   "metadata": {},
   "outputs": [
    {
     "name": "stdout",
     "output_type": "stream",
     "text": [
      "2\n",
      "[2 3 4]\n"
     ]
    }
   ],
   "source": [
    "#Indexar vectores\n",
    "v = np.arange(11) \n",
    "print(v[2])\n",
    "print(v[2:5])"
   ]
  },
  {
   "cell_type": "code",
   "execution_count": 37,
   "metadata": {},
   "outputs": [
    {
     "name": "stdout",
     "output_type": "stream",
     "text": [
      "[[0.29072855 0.24639444 0.73828677 0.88922613]\n",
      " [0.9871393  0.11744339 0.39378235 0.45272981]\n",
      " [0.53814784 0.7906221  0.46583634 0.43533225]]\n"
     ]
    }
   ],
   "source": [
    "#Indexar matrices\n",
    "#Creamos la matriz\n",
    "m = np.random.rand(3,4)\n",
    "print(m)"
   ]
  },
  {
   "cell_type": "code",
   "execution_count": 38,
   "metadata": {},
   "outputs": [
    {
     "name": "stdout",
     "output_type": "stream",
     "text": [
      "0.2907285532552092\n",
      "0.2907285532552092\n"
     ]
    }
   ],
   "source": [
    "#Indexar matrices\n",
    "#Indexar celdas\n",
    "\n",
    "#Opción 1: con dos corchetes, el primero para las filas y el segundo para las columnas\n",
    "print(m[0][0])\n",
    "\n",
    "#Opción 2: con un solo corchete pero filas y columnas separadas por comas\n",
    "print(m[0,0])"
   ]
  },
  {
   "cell_type": "code",
   "execution_count": 39,
   "metadata": {},
   "outputs": [
    {
     "name": "stdout",
     "output_type": "stream",
     "text": [
      "[0.29072855 0.24639444 0.73828677 0.88922613]\n",
      "[0.29072855 0.9871393  0.53814784]\n"
     ]
    }
   ],
   "source": [
    "#Indexar matrices\n",
    "#Indexar filas o columnas\n",
    "\n",
    "#Filas\n",
    "print(m[0,:])\n",
    "\n",
    "#Columnas\n",
    "print(m[:,0])"
   ]
  },
  {
   "cell_type": "code",
   "execution_count": 40,
   "metadata": {},
   "outputs": [
    {
     "name": "stdout",
     "output_type": "stream",
     "text": [
      "[0.29072855 0.24639444]\n",
      "[0.29072855]\n"
     ]
    }
   ],
   "source": [
    "#Indexar matrices\n",
    "#Indexar parcialmente filas o columnas\n",
    "\n",
    "#Filas\n",
    "print(m[0,0:2])\n",
    "\n",
    "#Columnas\n",
    "print(m[0:1,0])"
   ]
  },
  {
   "cell_type": "code",
   "execution_count": 41,
   "metadata": {},
   "outputs": [
    {
     "name": "stdout",
     "output_type": "stream",
     "text": [
      "[0.56947866 0.969259   0.04055615 0.54811957 0.4625766  0.37647223\n",
      " 0.32791208 0.81352893 0.64655232 0.04742648]\n",
      "[False False  True False  True  True  True False False  True]\n"
     ]
    }
   ],
   "source": [
    "#Indexar mediante vectores booleanos\n",
    "#Las condiciones generan vectores booleanos\n",
    "v = np.random.rand(10)\n",
    "print(v)\n",
    "print(v < 0.5)"
   ]
  },
  {
   "cell_type": "code",
   "execution_count": 42,
   "metadata": {},
   "outputs": [
    {
     "name": "stdout",
     "output_type": "stream",
     "text": [
      "[0.99495757 0.68923564 0.92954594 0.91811655 0.97530172 0.39700197\n",
      " 0.26262609 0.43015136 0.76453077 0.59973081]\n"
     ]
    },
    {
     "data": {
      "text/plain": [
       "array([0.39700197, 0.26262609, 0.43015136])"
      ]
     },
     "execution_count": 42,
     "metadata": {},
     "output_type": "execute_result"
    }
   ],
   "source": [
    "#Indexar mediante vectores booleanos\n",
    "#Usar una condición como índice filtrará directamente el vector\n",
    "v = np.random.rand(10)\n",
    "print(v)\n",
    "v[v < 0.5]"
   ]
  },
  {
   "cell_type": "code",
   "execution_count": 43,
   "metadata": {},
   "outputs": [
    {
     "data": {
      "text/plain": [
       "array([0.08094696, 0.70454447, 0.16401332, 0.03234935, 0.32815036,\n",
       "       0.47386   , 0.06808472, 0.3827107 , 0.11855414, 0.89632852])"
      ]
     },
     "execution_count": 43,
     "metadata": {},
     "output_type": "execute_result"
    }
   ],
   "source": [
    "v = np.random.rand(10)\n",
    "v"
   ]
  },
  {
   "cell_type": "code",
   "execution_count": 44,
   "metadata": {},
   "outputs": [],
   "source": [
    "v_f = v < 0.5"
   ]
  },
  {
   "cell_type": "code",
   "execution_count": 45,
   "metadata": {},
   "outputs": [
    {
     "data": {
      "text/plain": [
       "array([0.08094696, 0.16401332, 0.03234935, 0.32815036, 0.47386   ,\n",
       "       0.06808472, 0.3827107 , 0.11855414])"
      ]
     },
     "execution_count": 45,
     "metadata": {},
     "output_type": "execute_result"
    }
   ],
   "source": [
    "v[v_f]"
   ]
  },
  {
   "cell_type": "markdown",
   "metadata": {},
   "source": [
    "## REPASO Y A RECORDAR"
   ]
  },
  {
   "cell_type": "markdown",
   "metadata": {},
   "source": [
    "* Numpy es la base del análisis de datos masivo y eficiente con Python\n",
    "* Y la base de paquetes posteriores como Pandas\n",
    "* Sobre todo hay que conocer su estructura base: el array multidimensional\n",
    "* Podemos crear arrays a partir de listas, rangos, estructuras predefinidas, distribuciones aleatorias, etc\n",
    "* Los indexamos con los mismos recursos que ya conocemos, poniendo énfasis en el tema de las copias"
   ]
  },
  {
   "cell_type": "markdown",
   "metadata": {},
   "source": [
    "Como lectura complementaria (y voluntaria no necesaria) para consolidar y complementar lo que hemos aprendido te recomiendo el siguiente post:\n",
    "\n",
    "https://medium.com/better-programming/numpy-illustrated-the-visual-guide-to-numpy-3b1d4976de1d\n",
    "\n",
    "En el cual se refuerzan estos conceptos de una forma muy gráfica que puede ayudar a su consolidación."
   ]
  }
 ],
 "metadata": {
  "kernelspec": {
   "display_name": "Python 3 (ipykernel)",
   "language": "python",
   "name": "python3"
  },
  "language_info": {
   "codemirror_mode": {
    "name": "ipython",
    "version": 3
   },
   "file_extension": ".py",
   "mimetype": "text/x-python",
   "name": "python",
   "nbconvert_exporter": "python",
   "pygments_lexer": "ipython3",
   "version": "3.9.7"
  },
  "toc": {
   "base_numbering": "2",
   "nav_menu": {},
   "number_sections": true,
   "sideBar": true,
   "skip_h1_title": false,
   "title_cell": "Table of Contents",
   "title_sidebar": "Contents",
   "toc_cell": false,
   "toc_position": {
    "height": "calc(100% - 180px)",
    "left": "10px",
    "top": "150px",
    "width": "428.8px"
   },
   "toc_section_display": true,
   "toc_window_display": true
  },
  "varInspector": {
   "cols": {
    "lenName": 16,
    "lenType": 16,
    "lenVar": 40
   },
   "kernels_config": {
    "python": {
     "delete_cmd_postfix": "",
     "delete_cmd_prefix": "del ",
     "library": "var_list.py",
     "varRefreshCmd": "print(var_dic_list())"
    },
    "r": {
     "delete_cmd_postfix": ") ",
     "delete_cmd_prefix": "rm(",
     "library": "var_list.r",
     "varRefreshCmd": "cat(var_dic_list()) "
    }
   },
   "types_to_exclude": [
    "module",
    "function",
    "builtin_function_or_method",
    "instance",
    "_Feature"
   ],
   "window_display": false
  }
 },
 "nbformat": 4,
 "nbformat_minor": 4
}
