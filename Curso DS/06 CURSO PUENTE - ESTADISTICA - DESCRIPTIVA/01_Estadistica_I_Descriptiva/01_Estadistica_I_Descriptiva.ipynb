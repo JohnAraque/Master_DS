{
 "cells": [
  {
   "cell_type": "markdown",
   "metadata": {
    "toc": true
   },
   "source": [
    "<h1>Contenido<span class=\"tocSkip\"></span></h1>\n",
    "<div class=\"toc\"><ul class=\"toc-item\"><li><span><a href=\"#ESTADÍSTICA-I-PARA-DATA-SCIENCE:-DESCRIPTIVA\" data-toc-modified-id=\"ESTADÍSTICA-I-PARA-DATA-SCIENCE:-DESCRIPTIVA-1\"><span class=\"toc-item-num\">1&nbsp;&nbsp;</span>ESTADÍSTICA I PARA DATA SCIENCE: DESCRIPTIVA</a></span><ul class=\"toc-item\"><li><span><a href=\"#INSTALACIÓN\" data-toc-modified-id=\"INSTALACIÓN-1.1\"><span class=\"toc-item-num\">1.1&nbsp;&nbsp;</span>INSTALACIÓN</a></span></li><li><span><a href=\"#PREPARACION\" data-toc-modified-id=\"PREPARACION-1.2\"><span class=\"toc-item-num\">1.2&nbsp;&nbsp;</span>PREPARACION</a></span></li><li><span><a href=\"#CONCEPTOS-BÁSICOS\" data-toc-modified-id=\"CONCEPTOS-BÁSICOS-1.3\"><span class=\"toc-item-num\">1.3&nbsp;&nbsp;</span>CONCEPTOS BÁSICOS</a></span><ul class=\"toc-item\"><li><span><a href=\"#Descriptiva-Vs-Inferencial\" data-toc-modified-id=\"Descriptiva-Vs-Inferencial-1.3.1\"><span class=\"toc-item-num\">1.3.1&nbsp;&nbsp;</span>Descriptiva Vs Inferencial</a></span></li><li><span><a href=\"#Población-Vs-Muestra\" data-toc-modified-id=\"Población-Vs-Muestra-1.3.2\"><span class=\"toc-item-num\">1.3.2&nbsp;&nbsp;</span>Población Vs Muestra</a></span></li><li><span><a href=\"#Escalas-de-medida-y-tipos-de-variables\" data-toc-modified-id=\"Escalas-de-medida-y-tipos-de-variables-1.3.3\"><span class=\"toc-item-num\">1.3.3&nbsp;&nbsp;</span>Escalas de medida y tipos de variables</a></span></li></ul></li><li><span><a href=\"#ESTADÍSTICA-DESCRIPTIVA\" data-toc-modified-id=\"ESTADÍSTICA-DESCRIPTIVA-1.4\"><span class=\"toc-item-num\">1.4&nbsp;&nbsp;</span>ESTADÍSTICA DESCRIPTIVA</a></span><ul class=\"toc-item\"><li><span><a href=\"#Análisis-de-variables-categóricas\" data-toc-modified-id=\"Análisis-de-variables-categóricas-1.4.1\"><span class=\"toc-item-num\">1.4.1&nbsp;&nbsp;</span>Análisis de variables categóricas</a></span><ul class=\"toc-item\"><li><span><a href=\"#Con-cálculos\" data-toc-modified-id=\"Con-cálculos-1.4.1.1\"><span class=\"toc-item-num\">1.4.1.1&nbsp;&nbsp;</span>Con cálculos</a></span></li><li><span><a href=\"#Con-gráficos\" data-toc-modified-id=\"Con-gráficos-1.4.1.2\"><span class=\"toc-item-num\">1.4.1.2&nbsp;&nbsp;</span>Con gráficos</a></span></li></ul></li><li><span><a href=\"#Análisis-de-variables-cuantitativas\" data-toc-modified-id=\"Análisis-de-variables-cuantitativas-1.4.2\"><span class=\"toc-item-num\">1.4.2&nbsp;&nbsp;</span>Análisis de variables cuantitativas</a></span><ul class=\"toc-item\"><li><span><a href=\"#Con-cálculos\" data-toc-modified-id=\"Con-cálculos-1.4.2.1\"><span class=\"toc-item-num\">1.4.2.1&nbsp;&nbsp;</span>Con cálculos</a></span></li><li><span><a href=\"#Con-gráficos\" data-toc-modified-id=\"Con-gráficos-1.4.2.2\"><span class=\"toc-item-num\">1.4.2.2&nbsp;&nbsp;</span>Con gráficos</a></span></li></ul></li><li><span><a href=\"#¿Para-qué-usamos-todo-esto-en-Data-Science?\" data-toc-modified-id=\"¿Para-qué-usamos-todo-esto-en-Data-Science?-1.4.3\"><span class=\"toc-item-num\">1.4.3&nbsp;&nbsp;</span>¿Para qué usamos todo esto en Data Science?</a></span></li></ul></li></ul></li></ul></div>"
   ]
  },
  {
   "cell_type": "markdown",
   "metadata": {},
   "source": [
    "# ESTADÍSTICA I PARA DATA SCIENCE: DESCRIPTIVA"
   ]
  },
  {
   "cell_type": "markdown",
   "metadata": {},
   "source": [
    "## INSTALACIÓN"
   ]
  },
  {
   "cell_type": "markdown",
   "metadata": {},
   "source": [
    "Vamos a instalar los paquetes que todavía no tenemos.\n",
    "\n",
    "Este paso sólo tendrás que hacerlo la primera vez.\n",
    "\n",
    "Después te dejo que lo dejes comentado."
   ]
  },
  {
   "cell_type": "code",
   "execution_count": 5,
   "metadata": {},
   "outputs": [],
   "source": [
    "# conda install pandas\n",
    "# conda install scipy\n",
    "# conda install seaborn\n",
    "# conda install -c conda-forge statsmodels"
   ]
  },
  {
   "cell_type": "markdown",
   "metadata": {},
   "source": [
    "## PREPARACION"
   ]
  },
  {
   "cell_type": "code",
   "execution_count": 1,
   "metadata": {},
   "outputs": [],
   "source": [
    "#Carga de paquetes y datos\n",
    "import pandas as pd\n",
    "import numpy as np\n",
    "import statistics\n",
    "import scipy as sp\n",
    "import seaborn as sns\n",
    "import random\n",
    "import math\n",
    "from statsmodels.stats.proportion import proportions_ztest\n",
    "\n",
    "df = sns.load_dataset('tips')"
   ]
  },
  {
   "cell_type": "code",
   "execution_count": 3,
   "metadata": {},
   "outputs": [
    {
     "name": "stdout",
     "output_type": "stream",
     "text": [
      "<class 'pandas.core.frame.DataFrame'>\n",
      "RangeIndex: 244 entries, 0 to 243\n",
      "Data columns (total 7 columns):\n",
      " #   Column      Non-Null Count  Dtype   \n",
      "---  ------      --------------  -----   \n",
      " 0   total_bill  244 non-null    float64 \n",
      " 1   tip         244 non-null    float64 \n",
      " 2   sex         244 non-null    category\n",
      " 3   smoker      244 non-null    category\n",
      " 4   day         244 non-null    category\n",
      " 5   time        244 non-null    category\n",
      " 6   size        244 non-null    int64   \n",
      "dtypes: category(4), float64(2), int64(1)\n",
      "memory usage: 7.4 KB\n"
     ]
    }
   ],
   "source": [
    "df.info()"
   ]
  },
  {
   "cell_type": "code",
   "execution_count": 7,
   "metadata": {},
   "outputs": [
    {
     "data": {
      "text/html": [
       "<div>\n",
       "<style scoped>\n",
       "    .dataframe tbody tr th:only-of-type {\n",
       "        vertical-align: middle;\n",
       "    }\n",
       "\n",
       "    .dataframe tbody tr th {\n",
       "        vertical-align: top;\n",
       "    }\n",
       "\n",
       "    .dataframe thead th {\n",
       "        text-align: right;\n",
       "    }\n",
       "</style>\n",
       "<table border=\"1\" class=\"dataframe\">\n",
       "  <thead>\n",
       "    <tr style=\"text-align: right;\">\n",
       "      <th></th>\n",
       "      <th>total_bill</th>\n",
       "      <th>tip</th>\n",
       "      <th>sex</th>\n",
       "      <th>smoker</th>\n",
       "      <th>day</th>\n",
       "      <th>time</th>\n",
       "      <th>size</th>\n",
       "    </tr>\n",
       "  </thead>\n",
       "  <tbody>\n",
       "    <tr>\n",
       "      <th>0</th>\n",
       "      <td>16.99</td>\n",
       "      <td>1.01</td>\n",
       "      <td>Female</td>\n",
       "      <td>No</td>\n",
       "      <td>Sun</td>\n",
       "      <td>Dinner</td>\n",
       "      <td>2</td>\n",
       "    </tr>\n",
       "    <tr>\n",
       "      <th>1</th>\n",
       "      <td>10.34</td>\n",
       "      <td>1.66</td>\n",
       "      <td>Male</td>\n",
       "      <td>No</td>\n",
       "      <td>Sun</td>\n",
       "      <td>Dinner</td>\n",
       "      <td>3</td>\n",
       "    </tr>\n",
       "    <tr>\n",
       "      <th>2</th>\n",
       "      <td>21.01</td>\n",
       "      <td>3.50</td>\n",
       "      <td>Male</td>\n",
       "      <td>No</td>\n",
       "      <td>Sun</td>\n",
       "      <td>Dinner</td>\n",
       "      <td>3</td>\n",
       "    </tr>\n",
       "    <tr>\n",
       "      <th>3</th>\n",
       "      <td>23.68</td>\n",
       "      <td>3.31</td>\n",
       "      <td>Male</td>\n",
       "      <td>No</td>\n",
       "      <td>Sun</td>\n",
       "      <td>Dinner</td>\n",
       "      <td>2</td>\n",
       "    </tr>\n",
       "    <tr>\n",
       "      <th>4</th>\n",
       "      <td>24.59</td>\n",
       "      <td>3.61</td>\n",
       "      <td>Female</td>\n",
       "      <td>No</td>\n",
       "      <td>Sun</td>\n",
       "      <td>Dinner</td>\n",
       "      <td>4</td>\n",
       "    </tr>\n",
       "  </tbody>\n",
       "</table>\n",
       "</div>"
      ],
      "text/plain": [
       "   total_bill   tip     sex smoker  day    time  size\n",
       "0       16.99  1.01  Female     No  Sun  Dinner     2\n",
       "1       10.34  1.66    Male     No  Sun  Dinner     3\n",
       "2       21.01  3.50    Male     No  Sun  Dinner     3\n",
       "3       23.68  3.31    Male     No  Sun  Dinner     2\n",
       "4       24.59  3.61  Female     No  Sun  Dinner     4"
      ]
     },
     "execution_count": 7,
     "metadata": {},
     "output_type": "execute_result"
    }
   ],
   "source": [
    "df.head()"
   ]
  },
  {
   "cell_type": "markdown",
   "metadata": {},
   "source": [
    "## CONCEPTOS BÁSICOS"
   ]
  },
  {
   "cell_type": "markdown",
   "metadata": {},
   "source": [
    "### Descriptiva Vs Inferencial"
   ]
  },
  {
   "cell_type": "markdown",
   "metadata": {},
   "source": [
    "Son las 2 grandes ramas de la estadística.\n",
    "\n",
    "Y por tanto así también vamos a organizar este módulo.\n",
    "\n",
    "La **DESCRIPTIVA** se centra en describir  los datos que estamos analizando. Resumirlos, visualizarlos y sacar conclusiones.\n",
    "\n",
    "Es la que más se usa en la práctica, y son el tipo de operaciones más básicas e imprescindibles que vamos a estar haciendo en Data Science.\n",
    "\n",
    "Simplemente usando las técnicas que vamos a aprender en este apartado ya podremos hacer el 80% de los análisis que normalmente se hacen en contextos empresariales.\n",
    "\n",
    "La **INFERENCIAL** se pregunta \"vale, pero ¿esas conclusiones que hemos detectado en la descriptiva realmente son robustas y estables y pueden ser extrapoladas?\".\n",
    "\n",
    "Parte del concepto teórico de que realmente siempre vamos a estar analizando muestras, y no toda la población (más sobre esto en el siguiente apartado). \n",
    "\n",
    "Por lo que son necesarias técnicas que nos garanticen estadísticamente que esas conclusiones no son fruto del azar o de nuestra muestra en concreto.\n",
    "\n",
    "Esta parte está muy infrautilizada en la práctica del día a día, ya que pocas veces se usan estas técnicas para contrastar si los resultados de un análisis, estudio o informe son realmente estadísticamente significativos.\n",
    "\n",
    "Sin embargo como Data Scientist, conocerlas te va a servir tanto para garantizar que la calidad de tu trabajo es la correcta como para poder identificar falsas conclusiones que te intenten \"colar\".\n",
    "\n",
    "Ahora bien, debes saber un hecho importante que afecta a todo lo que veamos en la parte inferencial.\n",
    "\n",
    "Todas las técnicas y herramientas que veremos están basadas en que la muestra ha sido obtenida ALEATORIAMENTE y sin ningún tipo de sesgo.\n",
    "\n",
    "Para garantizar esto la teoría nos dice que debemos hacer un correcto \"diseño de experimento\" que en la empresa lógicamente no se puede hacer casi nunca.\n",
    "\n",
    "Así te corresponde como analista el evaluar el grado de \"aleatoridad\" y no sesgo que tienen tus datos y hasta qué punto puedes apoyarte en los recursos de la estadística inferencial."
   ]
  },
  {
   "cell_type": "markdown",
   "metadata": {},
   "source": [
    "### Población Vs Muestra"
   ]
  },
  {
   "cell_type": "markdown",
   "metadata": {},
   "source": [
    "**Población**:\n",
    "\n",
    "Cuando trabajamos con todos los elementos de interés.\n",
    "\n",
    "Se denota por N.\n",
    "\n",
    "Los números que la describen se llaman parámetros."
   ]
  },
  {
   "cell_type": "markdown",
   "metadata": {},
   "source": [
    "**Muestra**:\n",
    "\n",
    "Cuando trabajamos con algunos de los elementos de interés.\n",
    "\n",
    "Se denota por n.\n",
    "\n",
    "Los números que la describen se llaman estadísticos o estimadores."
   ]
  },
  {
   "cell_type": "markdown",
   "metadata": {},
   "source": [
    "### Escalas de medida y tipos de variables"
   ]
  },
  {
   "cell_type": "markdown",
   "metadata": {},
   "source": [
    "Este es uno de los puntos más importantes que debes conocer y sin embargo pocas veces es tratado en las formaciones de Data Science.\n",
    "\n",
    "La estadística nos dice que hay 4 grandes escalas de medida:\n",
    "\n",
    "1. **Nominal**: Tiene la propiedad de identidad (igual/diferente) pero NO la de orden. Ejemplos: sexo, colores, ...\n",
    "2. **Ordinal**: Añade la propiedad de orden, pero NO tiene una igual distancia entre elementos. Ejemplos: clase social, nivel formativo, ...\n",
    "3. **Intervalo (o discreta)**: Añade la propiedad de igualdad de distancias, pero no permite infinitos valores entre sus elementos. Ejemplos: número de hijos, número de siniestros, ...\n",
    "4. **Razón (o continua)**: Puede tener (teóricamente) infinitos valores entre sus elementos. Ejemplos: precio de un producto, distancias, ...\n",
    "\n",
    "A partir de las escalas se derivan los tipos de variables, que pueden ser diferente en cada implementación (por ej en cada lenguaje de programación), pero casi siempre podremos hacer una asignación aproximada a una escala.\n",
    "\n",
    "Por ejemplo los enteros serían variables discretas, los reales continuas, los objetos categóricas, etc.\n",
    "\n",
    "A un nivel más elevado podemos agruparlos en dos grupos que son super relevantes, ya que estos dos grupos van a determinar qué técnicas analíticas o qué gráficos podemos aplicar en cada uno de ellos:\n",
    "\n",
    "* **Categóricas (o cualitativas)**: incluyen nominales y ordinales\n",
    "* **Numéricas (o cuantitativas)**: incluyen discretas y razón\n",
    "\n",
    "Como este curso tiene un caracter eminentemente aplicado vamos a usar esta división para ver qué tipo de análisis podemos hacer en cada una."
   ]
  },
  {
   "cell_type": "markdown",
   "metadata": {},
   "source": [
    "## ESTADÍSTICA DESCRIPTIVA"
   ]
  },
  {
   "cell_type": "markdown",
   "metadata": {},
   "source": [
    "Como ya habíamos anticipado la misión de la descriptiva es resumir, graficar y analizar los datos para intentar encontrar patrones de interés.\n",
    "\n",
    "A grandes rasgos tenemos dos tipos de técnicas a nuestra disposición:\n",
    "\n",
    "* **Cálculos**: aplicar algún tipo de estadístico o análisis y obtener uno o varios resultados numéricos (indicadores, tablas, porcentajes, etc.)\n",
    "* **Gráficos**: resumir y mostrar la información de forma gráfica para detectar los patrones más fácilmente\n",
    "\n",
    "Y también como decíamos más arriba el tipo de cálculos y gráficos que podemos hacer van a depender directamente del tipo de variable. Así que los vamos a dividir entre los de variables categóricas y los de variables cuantitativas."
   ]
  },
  {
   "cell_type": "markdown",
   "metadata": {},
   "source": [
    "### Análisis de variables categóricas"
   ]
  },
  {
   "cell_type": "markdown",
   "metadata": {},
   "source": [
    "#### Con cálculos"
   ]
  },
  {
   "cell_type": "markdown",
   "metadata": {},
   "source": [
    "##### Conteos y frecuencias"
   ]
  },
  {
   "cell_type": "markdown",
   "metadata": {},
   "source": [
    "Se entiende por frecuencia el conteo del valor de cada variable."
   ]
  },
  {
   "cell_type": "code",
   "execution_count": 4,
   "metadata": {},
   "outputs": [
    {
     "data": {
      "text/plain": [
       "No     151\n",
       "Yes     93\n",
       "Name: smoker, dtype: int64"
      ]
     },
     "execution_count": 4,
     "metadata": {},
     "output_type": "execute_result"
    }
   ],
   "source": [
    "df.smoker.value_counts()"
   ]
  },
  {
   "cell_type": "markdown",
   "metadata": {},
   "source": [
    "##### Moda"
   ]
  },
  {
   "cell_type": "markdown",
   "metadata": {},
   "source": [
    "Es el valor más frecuente de una variable."
   ]
  },
  {
   "cell_type": "code",
   "execution_count": 6,
   "metadata": {},
   "outputs": [
    {
     "name": "stdout",
     "output_type": "stream",
     "text": [
      "7     104\n",
      "0     101\n",
      "5      97\n",
      "8      95\n",
      "9      94\n",
      "3      88\n",
      "4      87\n",
      "10     87\n",
      "2      84\n",
      "1      83\n",
      "6      80\n",
      "dtype: int64\n"
     ]
    },
    {
     "data": {
      "text/plain": [
       "7"
      ]
     },
     "execution_count": 6,
     "metadata": {},
     "output_type": "execute_result"
    }
   ],
   "source": [
    "#Moda\n",
    "numeros = np.random.randint(0,11,1000)\n",
    "print(pd.Series(numeros).value_counts())\n",
    "statistics.mode(numeros)"
   ]
  },
  {
   "cell_type": "markdown",
   "metadata": {},
   "source": [
    "##### Tablas cruzadas"
   ]
  },
  {
   "cell_type": "markdown",
   "metadata": {},
   "source": [
    "Consiste en cruzar dos o más variables para analizar la frecuencia.\n",
    "\n",
    "Suelen usarse o en absoluto o en porcentaje."
   ]
  },
  {
   "cell_type": "code",
   "execution_count": 7,
   "metadata": {},
   "outputs": [
    {
     "data": {
      "text/html": [
       "<div>\n",
       "<style scoped>\n",
       "    .dataframe tbody tr th:only-of-type {\n",
       "        vertical-align: middle;\n",
       "    }\n",
       "\n",
       "    .dataframe tbody tr th {\n",
       "        vertical-align: top;\n",
       "    }\n",
       "\n",
       "    .dataframe thead th {\n",
       "        text-align: right;\n",
       "    }\n",
       "</style>\n",
       "<table border=\"1\" class=\"dataframe\">\n",
       "  <thead>\n",
       "    <tr style=\"text-align: right;\">\n",
       "      <th>smoker</th>\n",
       "      <th>Yes</th>\n",
       "      <th>No</th>\n",
       "      <th>All</th>\n",
       "    </tr>\n",
       "    <tr>\n",
       "      <th>sex</th>\n",
       "      <th></th>\n",
       "      <th></th>\n",
       "      <th></th>\n",
       "    </tr>\n",
       "  </thead>\n",
       "  <tbody>\n",
       "    <tr>\n",
       "      <th>Male</th>\n",
       "      <td>60</td>\n",
       "      <td>97</td>\n",
       "      <td>157</td>\n",
       "    </tr>\n",
       "    <tr>\n",
       "      <th>Female</th>\n",
       "      <td>33</td>\n",
       "      <td>54</td>\n",
       "      <td>87</td>\n",
       "    </tr>\n",
       "    <tr>\n",
       "      <th>All</th>\n",
       "      <td>93</td>\n",
       "      <td>151</td>\n",
       "      <td>244</td>\n",
       "    </tr>\n",
       "  </tbody>\n",
       "</table>\n",
       "</div>"
      ],
      "text/plain": [
       "smoker  Yes   No  All\n",
       "sex                  \n",
       "Male     60   97  157\n",
       "Female   33   54   87\n",
       "All      93  151  244"
      ]
     },
     "execution_count": 7,
     "metadata": {},
     "output_type": "execute_result"
    }
   ],
   "source": [
    "#En absoluto\n",
    "pd.crosstab(df.sex,df.smoker,margins = True)"
   ]
  },
  {
   "cell_type": "code",
   "execution_count": 11,
   "metadata": {
    "scrolled": false
   },
   "outputs": [
    {
     "data": {
      "text/html": [
       "<div>\n",
       "<style scoped>\n",
       "    .dataframe tbody tr th:only-of-type {\n",
       "        vertical-align: middle;\n",
       "    }\n",
       "\n",
       "    .dataframe tbody tr th {\n",
       "        vertical-align: top;\n",
       "    }\n",
       "\n",
       "    .dataframe thead th {\n",
       "        text-align: right;\n",
       "    }\n",
       "</style>\n",
       "<table border=\"1\" class=\"dataframe\">\n",
       "  <thead>\n",
       "    <tr style=\"text-align: right;\">\n",
       "      <th>smoker</th>\n",
       "      <th>Yes</th>\n",
       "      <th>No</th>\n",
       "      <th>All</th>\n",
       "    </tr>\n",
       "    <tr>\n",
       "      <th>sex</th>\n",
       "      <th></th>\n",
       "      <th></th>\n",
       "      <th></th>\n",
       "    </tr>\n",
       "  </thead>\n",
       "  <tbody>\n",
       "    <tr>\n",
       "      <th>Male</th>\n",
       "      <td>0.245902</td>\n",
       "      <td>0.397541</td>\n",
       "      <td>0.643443</td>\n",
       "    </tr>\n",
       "    <tr>\n",
       "      <th>Female</th>\n",
       "      <td>0.135246</td>\n",
       "      <td>0.221311</td>\n",
       "      <td>0.356557</td>\n",
       "    </tr>\n",
       "    <tr>\n",
       "      <th>All</th>\n",
       "      <td>0.381148</td>\n",
       "      <td>0.618852</td>\n",
       "      <td>1.000000</td>\n",
       "    </tr>\n",
       "  </tbody>\n",
       "</table>\n",
       "</div>"
      ],
      "text/plain": [
       "smoker       Yes        No       All\n",
       "sex                                 \n",
       "Male    0.245902  0.397541  0.643443\n",
       "Female  0.135246  0.221311  0.356557\n",
       "All     0.381148  0.618852  1.000000"
      ]
     },
     "execution_count": 11,
     "metadata": {},
     "output_type": "execute_result"
    }
   ],
   "source": [
    "#En porcentaje\n",
    "pd.crosstab(df.sex,df.smoker,margins = True,normalize = 'all')"
   ]
  },
  {
   "cell_type": "markdown",
   "metadata": {},
   "source": [
    "##### Chi Cuadrado"
   ]
  },
  {
   "cell_type": "markdown",
   "metadata": {},
   "source": [
    "Al hacer la tabla cruzada hemos visto que hay diferencias en si es fumador o no en base a si es hombre o mujer.\n",
    "\n",
    "Pero, ¿estas diferencias son suficientes para tomar el resultado como una conclusión?. O quizá están dentro del margen esperable por efecto del muestreo y por tanto no podemos concluir nada.\n",
    "\n",
    "Es lo que se llama ver si una conclusión es estadísticamente significativa. Y veremos el concepto en profunididad en la parte de estadística inferencial.\n",
    "\n",
    "Pero en un análisis de tablas cruzadas como este podemos hacerlo con el estadístico chi-cuadrado.\n",
    "\n",
    "Que parte de una hipótesis nula de que no hay relación entre las variables, es decir que son independientes y por tanto fumar o no, no depende del sexo, y la contrasta contra los datos obtenidos.\n",
    "\n",
    "Si el pvalor es menor o igual que 0.05 entonces rechaza esa hipótesis nula, y significa que los datos si apoyan que hay diferencias significativas y por tanto podemos concluir que sí hay diferencias en cuanto al fumar entre hombres y mujeres."
   ]
  },
  {
   "cell_type": "code",
   "execution_count": 8,
   "metadata": {},
   "outputs": [
    {
     "name": "stdout",
     "output_type": "stream",
     "text": [
      "0.008763290531773594\n",
      "0.925417020494423\n"
     ]
    }
   ],
   "source": [
    "#Chi-cuadrado\n",
    "tabla = pd.crosstab(df.sex,df.smoker)\n",
    "chi, pvalor, gl, experado = sp.stats.chi2_contingency(tabla)\n",
    "print(chi)\n",
    "print(pvalor)\n",
    "#En este caso el valor es mayor que 0.05, por tanto no podemos rechazar la hipótesis nula, \n",
    "#y por tanto no hay diferencias significativas entre hombres y mujeres"
   ]
  },
  {
   "cell_type": "markdown",
   "metadata": {},
   "source": [
    "#### Con gráficos"
   ]
  },
  {
   "cell_type": "markdown",
   "metadata": {},
   "source": [
    "Los gráficos más frecuentes que podremos hacer con variables categóricas son:\n",
    "\n",
    "* Gráficos de barras: en vertical, horizonal, apilados, etc.\n",
    "* Gráficos de sectores (o de tarta)"
   ]
  },
  {
   "cell_type": "code",
   "execution_count": 13,
   "metadata": {
    "scrolled": true
   },
   "outputs": [
    {
     "data": {
      "image/png": "[encoded data removed]",
      "text/plain": [
       "<Figure size 432x288 with 1 Axes>"
      ]
     },
     "metadata": {
      "needs_background": "light"
     },
     "output_type": "display_data"
    }
   ],
   "source": [
    "#Ejemplo de gráfico de barras\n",
    "df.smoker.value_counts().plot(kind = 'bar');"
   ]
  },
  {
   "cell_type": "code",
   "execution_count": 14,
   "metadata": {},
   "outputs": [
    {
     "data": {
      "image/png": "[encoded data removed]",
      "text/plain": [
       "<Figure size 432x288 with 1 Axes>"
      ]
     },
     "metadata": {},
     "output_type": "display_data"
    }
   ],
   "source": [
    "#Ejemplo de gráfico de sectores\n",
    "df.smoker.value_counts().plot(kind = 'pie');"
   ]
  },
  {
   "cell_type": "markdown",
   "metadata": {},
   "source": [
    "### Análisis de variables cuantitativas"
   ]
  },
  {
   "cell_type": "markdown",
   "metadata": {},
   "source": [
    "#### Con cálculos"
   ]
  },
  {
   "cell_type": "markdown",
   "metadata": {},
   "source": [
    "Se diferencian dos tipos de medida:\n",
    "\n",
    "* De **centralización**: que intentan resumir la información de la variable en un sólo dato que pueda ser lo más representativo posible. Aquí están medidas como las medias, mediana o moda.\n",
    "\n",
    "* De **dispersión**: que representan el grado de variabilidad existente en la variable. Normalmente cuanto más baja sea la medida de dispersión más representativa será la medida de centralización. Aquí entran métricas como la varianza, la desviación típica o el coeficiente de variación.\n",
    "\n",
    "También veremos las métricas para cuantificar la relación existente entre dos variables cuantitativas: las correlaciones."
   ]
  },
  {
   "cell_type": "markdown",
   "metadata": {},
   "source": [
    "##### Medias"
   ]
  },
  {
   "cell_type": "markdown",
   "metadata": {},
   "source": [
    "La media normal se llama **media aritmétrica**, y será la que usaremos en la mayoría de los casos.\n",
    "\n",
    "La **media winsorizada** se usa cuando hay valores atípicos que pueden sesgar el valor de la media.\n",
    "\n",
    "Para hacer la media de porcentajes o tasas hay que usar la **media geométrica**.\n",
    "\n",
    "Para hacer la media de medias hay que usar la **media armónica**."
   ]
  },
  {
   "cell_type": "code",
   "execution_count": 21,
   "metadata": {},
   "outputs": [
    {
     "data": {
      "text/plain": [
       "4"
      ]
     },
     "execution_count": 21,
     "metadata": {},
     "output_type": "execute_result"
    }
   ],
   "source": [
    "#Media arimética\n",
    "statistics.mean([3,4,5])"
   ]
  },
  {
   "cell_type": "code",
   "execution_count": 17,
   "metadata": {},
   "outputs": [
    {
     "name": "stdout",
     "output_type": "stream",
     "text": [
      "[     3      4      5      6 999997]\n",
      "200003.0\n",
      "[3 4 5 6 6]\n",
      "4.8\n"
     ]
    }
   ],
   "source": [
    "#Media winsorizada\n",
    "numeros = np.array([3,4,5,6,999997])\n",
    "print(numeros)\n",
    "print(numeros.mean())\n",
    "\n",
    "#Winsorizar sustituye los valores fuera de los límites por el último valor\n",
    "winsorizados = sp.stats.mstats.winsorize(numeros, limits = [0, 0.2])\n",
    "print(winsorizados)\n",
    "print(winsorizados.mean())"
   ]
  },
  {
   "cell_type": "code",
   "execution_count": 23,
   "metadata": {},
   "outputs": [
    {
     "data": {
      "text/plain": [
       "0.3914867641168864"
      ]
     },
     "execution_count": 23,
     "metadata": {},
     "output_type": "execute_result"
    }
   ],
   "source": [
    "#Media geométrica (para porcentajes)\n",
    "statistics.geometric_mean([0.3,0.4,0.5])"
   ]
  },
  {
   "cell_type": "code",
   "execution_count": 24,
   "metadata": {},
   "outputs": [
    {
     "data": {
      "text/plain": [
       "0.4"
      ]
     },
     "execution_count": 24,
     "metadata": {},
     "output_type": "execute_result"
    }
   ],
   "source": [
    "#Comparamos con lo que hubiera salido en una media arimética\n",
    "statistics.mean([0.3,0.4,0.5])"
   ]
  },
  {
   "cell_type": "code",
   "execution_count": 25,
   "metadata": {},
   "outputs": [
    {
     "data": {
      "text/plain": [
       "38.72307605739473"
      ]
     },
     "execution_count": 25,
     "metadata": {},
     "output_type": "execute_result"
    }
   ],
   "source": [
    "#Media armónica (para media de medias)\n",
    "#Suponemos que los datos de esta lista son medias, ej velocidad media de coches en 3 calles\n",
    "statistics.harmonic_mean([30.3,40.8,50.1])"
   ]
  },
  {
   "cell_type": "code",
   "execution_count": 26,
   "metadata": {},
   "outputs": [
    {
     "data": {
      "text/plain": [
       "40.4"
      ]
     },
     "execution_count": 26,
     "metadata": {},
     "output_type": "execute_result"
    }
   ],
   "source": [
    "#Comparamos con lo que hubiera salido en una media arimética\n",
    "statistics.mean([30.3,40.8,50.1])"
   ]
  },
  {
   "cell_type": "markdown",
   "metadata": {},
   "source": [
    "##### Mediana"
   ]
  },
  {
   "cell_type": "markdown",
   "metadata": {},
   "source": [
    "Si se ordenan todos los valores de la variable en orden ascendente o descendente la medianta es el valor de la variable correpondiente al elemento que ocupa la posición central, es decir, el que está en el 50%.\n",
    "\n",
    "La mediana es una medida de centralización más recomendable que la media cuando tenemos distribuciones que no son normales (más sobre esto cuando veamos la inferencial), o cuando tenemos atípicos."
   ]
  },
  {
   "cell_type": "code",
   "execution_count": 29,
   "metadata": {
    "scrolled": false
   },
   "outputs": [
    {
     "name": "stdout",
     "output_type": "stream",
     "text": [
      "[ 1  2  2  4  4  5  6  6  7  7 10]\n",
      "5\n"
     ]
    }
   ],
   "source": [
    "#Mediana\n",
    "numeros = np.random.randint(0,11,11)\n",
    "numeros_ord = np.sort(numeros)\n",
    "print(numeros_ord)\n",
    "print(statistics.median(numeros_ord))"
   ]
  },
  {
   "cell_type": "markdown",
   "metadata": {},
   "source": [
    "##### Varianza"
   ]
  },
  {
   "cell_type": "markdown",
   "metadata": {},
   "source": [
    "La varianza es el resultado de restar la media a cada valor de la variable, elevarlo al cuadrado (para evitar los negativos), sumarlo todo, y dividir el resultado por el número de datos.\n",
    "\n",
    "Es una medida de dispersión, porque será mayor cuanto más lejos estén el global de los valores con respecto a la media."
   ]
  },
  {
   "cell_type": "code",
   "execution_count": 2,
   "metadata": {},
   "outputs": [
    {
     "name": "stdout",
     "output_type": "stream",
     "text": [
      "[ 3  8  2  4  0 10  4  1  5 10  1  8  6  7  1  1  5  0 10  6]\n",
      "4.6\n",
      "224.79999999999998\n",
      "11.239999999999998\n"
     ]
    }
   ],
   "source": [
    "#Vamos a calcularla manualmente para entenderla\n",
    "var1 = np.random.randint(0,11,20)\n",
    "print(var1)\n",
    "media = var1.mean()\n",
    "print(media)\n",
    "suma_cuadrados = sum((var1 - media) ** 2)\n",
    "print(suma_cuadrados)\n",
    "varianza = suma_cuadrados / (len(var1))\n",
    "print(varianza)"
   ]
  },
  {
   "cell_type": "code",
   "execution_count": 39,
   "metadata": {},
   "outputs": [
    {
     "data": {
      "text/plain": [
       "9.790000000000003"
      ]
     },
     "execution_count": 39,
     "metadata": {},
     "output_type": "execute_result"
    }
   ],
   "source": [
    "#En la práctica usaremos una función para calcularla directamente\n",
    "var1.var()"
   ]
  },
  {
   "cell_type": "markdown",
   "metadata": {},
   "source": [
    "##### Desviación típica"
   ]
  },
  {
   "cell_type": "markdown",
   "metadata": {},
   "source": [
    "El problema con la varianza es que hemos tenido que elevar al cuadrado para quitarnos los negativos.\n",
    "\n",
    "Entonces el dato obtenido ya no está en la misma escala que la media por ejemplo para poder compararlos.\n",
    "\n",
    "Como solución se hace la raiz cuadrada a la varianza para volver a traerla a la escala, y es lo que se llama desviación típica."
   ]
  },
  {
   "cell_type": "code",
   "execution_count": 42,
   "metadata": {
    "scrolled": false
   },
   "outputs": [
    {
     "data": {
      "text/plain": [
       "3.1288975694324037"
      ]
     },
     "execution_count": 42,
     "metadata": {},
     "output_type": "execute_result"
    }
   ],
   "source": [
    "#Desviación típica\n",
    "var1.std()"
   ]
  },
  {
   "cell_type": "markdown",
   "metadata": {},
   "source": [
    "##### Coeficiente de variación"
   ]
  },
  {
   "cell_type": "markdown",
   "metadata": {},
   "source": [
    "Como decíamos más arriba cuando más baja sea la dispersión con respecto a la media será mejor porque nos indica que esa media es más representativa del total de los datos de la variable.\n",
    "\n",
    "Ahora que ya tenemos una medida, la desviación típica, que sí está en la misma escala que la media, podemos compararlas.\n",
    "\n",
    "Es lo que se llama el coeficiente de variación, y consiste en dividir la desviación típica por la media. Normalmente se pone en porcentaje.\n",
    "\n",
    "Permite comparar entre variables de diferentes escalas, por ejemplo: ¿en qué somos más variables las personas: en la altura o en el peso?"
   ]
  },
  {
   "cell_type": "code",
   "execution_count": 43,
   "metadata": {
    "scrolled": false
   },
   "outputs": [
    {
     "data": {
      "text/plain": [
       "63.85505243739599"
      ]
     },
     "execution_count": 43,
     "metadata": {},
     "output_type": "execute_result"
    }
   ],
   "source": [
    "#Coeficiente de variación\n",
    "var1.std() / var1.mean() * 100"
   ]
  },
  {
   "cell_type": "markdown",
   "metadata": {},
   "source": [
    "##### Correlación de Pearson"
   ]
  },
  {
   "cell_type": "markdown",
   "metadata": {},
   "source": [
    "Cuando la gente habla de correlación para medir la relación entre dos variables se está refiriendo a Pearson.\n",
    "\n",
    "Sólo sería técnicamente correcto usar Pearson con variables contínuas y linealmente relacionadas, y si estas tienen una distribución normal.\n",
    "\n",
    "Pero si las variables no son contínuas o normalmente distribuídas, o su relación es no lineal usar Pearson no es lo más correcto. Podríamos usar Spearman como veremos más abajo.\n",
    "\n",
    "Además la correlación de Pearson es una medida lineal, y por tanto no válida para medir relaciones no lineales.\n",
    "\n",
    "Ello significa que si dos variables aparecen como correlacionadas según Pearson efectivamente tendrán relación. Pero lo contrario no es siempre cierto, ya que podría haber relación pero ser no lineal.\n",
    "\n",
    "La forma más fácil para identificar correlaciones no lineales es usar un gráfico de dispersión como veremos más adelante.\n",
    "\n",
    "La correlación de Pearson se interpreta así:\n",
    "\n",
    "* +1 o -1: es una correlación perfecta (siempre que sube una la otra también o siempre que sube una la otra baja)\n",
    "* 0: no hay relación entre las variables\n",
    "* Si el pvalor está por debajo de 0.05 la relación sí es significativa (se recomienda considerarlo sólo para más de 500 datos)"
   ]
  },
  {
   "cell_type": "code",
   "execution_count": 44,
   "metadata": {},
   "outputs": [
    {
     "data": {
      "text/plain": [
       "(-0.021503831721390886, 0.4969865011347734)"
      ]
     },
     "execution_count": 44,
     "metadata": {},
     "output_type": "execute_result"
    }
   ],
   "source": [
    "#Correlación de Pearson\n",
    "#Esta implementación de scipy devuelve la correlación como primer valor y el pvalor como el segundo\n",
    "var1 = np.random.randint(1,21,1000)\n",
    "var2 = np.random.randint(1,21,1000)\n",
    "\n",
    "sp.stats.pearsonr(var1,var2)"
   ]
  },
  {
   "cell_type": "markdown",
   "metadata": {},
   "source": [
    "##### R cuadrado"
   ]
  },
  {
   "cell_type": "markdown",
   "metadata": {},
   "source": [
    "R cuadrado es simplemente el cuadrado de la correlación de Pearson.\n",
    "\n",
    "Pero sin embargo es una métrica muy útil en modelización, ya que se puede entender como el porcentaje de una variable que podemos explicar a partir de otra (o combinación de otras como en los modelos lineales).\n",
    "\n",
    "Por tanto será frecuente verla en modelos como las regresiones, donde el software nos reportará por ejemplo un R cuadrado de 0.6 y eso significa que con nuestro modelo estamos siendo capaces de explicar el 60% de la variable objetivo, y por tanto nos queda un 40% que no sabemos explicar.\n",
    "\n",
    "Al igual que la correlación de Pearson es una medida lineal, por tanto si cuando estamos modelizando con una técnica lineal nos sale un R cuadrado bajo puede ser interesante probar una técnica no lineal para ver si hay relaciones no lineales que no estaban siendo capturadas.\n",
    "\n",
    "Veremos todo esto en la parte de modelización del programa."
   ]
  },
  {
   "cell_type": "code",
   "execution_count": 46,
   "metadata": {},
   "outputs": [
    {
     "data": {
      "text/plain": [
       "0.04624147787018969"
      ]
     },
     "execution_count": 46,
     "metadata": {},
     "output_type": "execute_result"
    }
   ],
   "source": [
    "#R cuadrado\n",
    "#Esta implementación de scipy devuelve la correlación como primer valor y el pvalor como el segundo\n",
    "(sp.stats.pearsonr(var1,var2)[0] ** 2) * 100"
   ]
  },
  {
   "cell_type": "markdown",
   "metadata": {},
   "source": [
    "##### Correlación de Spearman"
   ]
  },
  {
   "cell_type": "markdown",
   "metadata": {},
   "source": [
    "La mayoría de la gente conoce la correlación de Pearson para medir la relación entre dos variables.\n",
    "\n",
    "Pero realmente sólo es correcto usar Pearson con variables contínuas, linealmente relacionadas y si estas tienen una distribución normal.\n",
    "\n",
    "Pero si las variables no son contínuas o no son normalmente distribuídas usar Pearson no es lo más correcto.\n",
    "\n",
    "La **Rho de Spearman** proporciona una solución para hacer la correlación cuando:\n",
    "\n",
    "* las variables son contínuas pero no se distribuyen según la normal\n",
    "* las variables son rankings\n",
    "* la relación es no lineal\n",
    "* las variables son discretas pero con menos de 30 valores distintos\n",
    "\n",
    "Se interpreta así:\n",
    "\n",
    "* +1 o -1: es una relación perfectamente monotónica (siempre que sube una la otra también o al revés)\n",
    "* 0: no hay relación entre las variables\n",
    "* Si el pvalor está por debajo de 0.05% la relación sí es significativa (se recomienda considerarlo sólo para más de 500 datos)"
   ]
  },
  {
   "cell_type": "code",
   "execution_count": 47,
   "metadata": {},
   "outputs": [
    {
     "data": {
      "text/plain": [
       "SpearmanrResult(correlation=0.050494394339809144, pvalue=0.11053482196961902)"
      ]
     },
     "execution_count": 47,
     "metadata": {},
     "output_type": "execute_result"
    }
   ],
   "source": [
    "#Correlación de Spearman\n",
    "var1 = np.random.randint(1,21,1000)\n",
    "var2 = np.random.randint(1,21,1000)\n",
    "\n",
    "sp.stats.spearmanr(var1,var2)"
   ]
  },
  {
   "cell_type": "markdown",
   "metadata": {},
   "source": [
    "##### Correlación Vs Causalidad"
   ]
  },
  {
   "cell_type": "markdown",
   "metadata": {},
   "source": [
    "Este es uno de los errores más frecuentes en el uso cotidiano de la estadística.\n",
    "\n",
    "Se tiende a pensar que si dos variables están correlacionadas entonces se puede establecer una relación causa - efecto entre ellas.\n",
    "\n",
    "Realmente, para poder establacer una relación causa - efecto se tiene que cumplir que:\n",
    "\n",
    "1. Exista correlación\n",
    "2. La causa preceda en el tiempo a la consecuencia\n",
    "3. Se puedan descartar explicaciones alternativas\n",
    "\n",
    "Aquí entran los conceptos de correlación espúrea y correlación parcial.\n",
    "\n",
    "**Correlación espúrea** es cuando dos variables parece que están relacionadas (pueden correlacionar de hecho), pero es realmente por el efecto de otras terceras variables no consideradas.\n",
    "\n",
    "**Correlación parcial** es la correlación real que queda entre las 2 primeras variables una vez que se elimina el efecto de la tercera o terceras.\n",
    "\n",
    "Por ejemplo, está demostrado que existe alta correlación entre el tamaño del pie y el cociente de inteligencia.\n",
    "\n",
    "Sin embargo esa correlación está marcada realmente por una tercera variable, la edad. Si se controla la edad y se elimina su efecto entonces ya no existe correlación entre el tamaño del pie y el cociente de inteligencia.\n",
    "\n",
    "En contextos empresariales está plagado de este tipo de efectos y es conveniente conocer este concepto y aplicar siempre la visión crítica antes de obtener conclusiones.\n",
    "\n",
    "Ejemplos:\n",
    "\n",
    "- No suben las ventas cuando hay promociones: ¿se han controlado las promociones de la competencia?\n",
    "- Los empleados que viajan dejan más la empresa: ¿se ha controlado la edad?\n",
    "- Los clientes que más ganan sin embargo tienen menos ahorros: ¿se ha diferenciado entre los que tienen hipoteca y los que no?"
   ]
  },
  {
   "cell_type": "markdown",
   "metadata": {},
   "source": [
    "#### Con gráficos"
   ]
  },
  {
   "cell_type": "markdown",
   "metadata": {},
   "source": [
    "Los gráficos más frecuentes que podremos hacer con variables cuantitativas son:\n",
    "\n",
    "* Histogramas\n",
    "* Gráficos de densidad\n",
    "* Gráficos de dispersión (2 variables)"
   ]
  },
  {
   "cell_type": "code",
   "execution_count": 48,
   "metadata": {},
   "outputs": [
    {
     "name": "stdout",
     "output_type": "stream",
     "text": [
      "<class 'pandas.core.frame.DataFrame'>\n",
      "RangeIndex: 244 entries, 0 to 243\n",
      "Data columns (total 7 columns):\n",
      " #   Column      Non-Null Count  Dtype   \n",
      "---  ------      --------------  -----   \n",
      " 0   total_bill  244 non-null    float64 \n",
      " 1   tip         244 non-null    float64 \n",
      " 2   sex         244 non-null    category\n",
      " 3   smoker      244 non-null    category\n",
      " 4   day         244 non-null    category\n",
      " 5   time        244 non-null    category\n",
      " 6   size        244 non-null    int64   \n",
      "dtypes: category(4), float64(2), int64(1)\n",
      "memory usage: 7.4 KB\n"
     ]
    }
   ],
   "source": [
    "df.info()"
   ]
  },
  {
   "cell_type": "code",
   "execution_count": 49,
   "metadata": {
    "scrolled": false
   },
   "outputs": [
    {
     "data": {
      "image/png": "[encoded data removed]",
      "text/plain": [
       "<Figure size 432x288 with 1 Axes>"
      ]
     },
     "metadata": {
      "needs_background": "light"
     },
     "output_type": "display_data"
    }
   ],
   "source": [
    "#Ejemplo de histograma\n",
    "df.total_bill.plot(kind = 'hist');"
   ]
  },
  {
   "cell_type": "code",
   "execution_count": 31,
   "metadata": {
    "scrolled": false
   },
   "outputs": [
    {
     "data": {
      "image/png": "[encoded data removed]",
      "text/plain": [
       "<Figure size 432x288 with 1 Axes>"
      ]
     },
     "metadata": {
      "needs_background": "light"
     },
     "output_type": "display_data"
    }
   ],
   "source": [
    "#Ejemplo de densidad\n",
    "df.total_bill.plot(kind = 'density');"
   ]
  },
  {
   "cell_type": "code",
   "execution_count": 32,
   "metadata": {
    "scrolled": true
   },
   "outputs": [
    {
     "data": {
      "image/png": "[encoded data removed]",
      "text/plain": [
       "<Figure size 432x288 with 1 Axes>"
      ]
     },
     "metadata": {
      "needs_background": "light"
     },
     "output_type": "display_data"
    }
   ],
   "source": [
    "#Ejemplo de gráfico de dispersión\n",
    "df.plot.scatter('total_bill','tip');"
   ]
  },
  {
   "cell_type": "markdown",
   "metadata": {},
   "source": [
    "### ¿Para qué usamos todo esto en Data Science?"
   ]
  },
  {
   "cell_type": "markdown",
   "metadata": {},
   "source": [
    "Para todo :-)\n",
    "\n",
    "Cuando estés haciendo análisis te pasarás gran parte del tiempo haciendo este tipo de análisis y gráficos para las fases de un proyecto de Data Science de: \n",
    "\n",
    "* Calidad de datos\n",
    "* Corrección de errores\n",
    "* Análisis exploratorio\n",
    "* Transformación y creación de variables\n",
    "\n",
    "Además la correlación es una de las técnicas de preselección de variables en modelización predictiva, así que la usaremos potencialmente de dos formas:\n",
    "\n",
    "* Identificar qué variables NO están correlacionadas con la variable a predecir, y por tanto no invertir tiempo en trabajar sobre ellas ni incluirlas en la modelización\n",
    "* Identficiar qué variables están correlacionadas entre sí y por tanto no es conveniente usarlas simultáneamente en los modelos\n",
    "\n",
    "Realmente esta parte descriptiva será mucho más usada en la práctica que la inferencial. Así que debes conocerla y entenderla bien."
   ]
  }
 ],
 "metadata": {
  "kernelspec": {
   "display_name": "Python 3",
   "language": "python",
   "name": "python3"
  },
  "language_info": {
   "codemirror_mode": {
    "name": "ipython",
    "version": 3
   },
   "file_extension": ".py",
   "mimetype": "text/x-python",
   "name": "python",
   "nbconvert_exporter": "python",
   "pygments_lexer": "ipython3",
   "version": "3.9.1"
  },
  "toc": {
   "base_numbering": "1",
   "nav_menu": {},
   "number_sections": true,
   "sideBar": true,
   "skip_h1_title": false,
   "title_cell": "Contenido",
   "title_sidebar": "Contents",
   "toc_cell": true,
   "toc_position": {
    "height": "calc(100% - 180px)",
    "left": "10px",
    "top": "150px",
    "width": "428.8px"
   },
   "toc_section_display": true,
   "toc_window_display": true
  },
  "varInspector": {
   "cols": {
    "lenName": 16,
    "lenType": 16,
    "lenVar": 40
   },
   "kernels_config": {
    "python": {
     "delete_cmd_postfix": "",
     "delete_cmd_prefix": "del ",
     "library": "var_list.py",
     "varRefreshCmd": "print(var_dic_list())"
    },
    "r": {
     "delete_cmd_postfix": ") ",
     "delete_cmd_prefix": "rm(",
     "library": "var_list.r",
     "varRefreshCmd": "cat(var_dic_list()) "
    }
   },
   "types_to_exclude": [
    "module",
    "function",
    "builtin_function_or_method",
    "instance",
    "_Feature"
   ],
   "window_display": false
  }
 },
 "nbformat": 4,
 "nbformat_minor": 4
}
