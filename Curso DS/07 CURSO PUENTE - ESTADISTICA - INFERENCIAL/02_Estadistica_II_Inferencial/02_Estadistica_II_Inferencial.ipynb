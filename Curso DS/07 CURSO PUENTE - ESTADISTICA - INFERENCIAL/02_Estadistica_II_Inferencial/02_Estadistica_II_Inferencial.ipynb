{
 "cells": [
  {
   "cell_type": "markdown",
   "metadata": {
    "toc": true
   },
   "source": [
    "<h1>Contenido<span class=\"tocSkip\"></span></h1>\n",
    "<div class=\"toc\"><ul class=\"toc-item\"><li><span><a href=\"#ESTADÍSTICA-II-PARA-DATA-SCIENCE:-INFERENCIAL\" data-toc-modified-id=\"ESTADÍSTICA-II-PARA-DATA-SCIENCE:-INFERENCIAL-1\"><span class=\"toc-item-num\">1&nbsp;&nbsp;</span>ESTADÍSTICA II PARA DATA SCIENCE: INFERENCIAL</a></span><ul class=\"toc-item\"><li><span><a href=\"#PREPARACION\" data-toc-modified-id=\"PREPARACION-1.1\"><span class=\"toc-item-num\">1.1&nbsp;&nbsp;</span>PREPARACION</a></span></li><li><span><a href=\"#ESTADÍSTICA-INFERENCIAL\" data-toc-modified-id=\"ESTADÍSTICA-INFERENCIAL-1.2\"><span class=\"toc-item-num\">1.2&nbsp;&nbsp;</span>ESTADÍSTICA INFERENCIAL</a></span><ul class=\"toc-item\"><li><span><a href=\"#Distribuciones\" data-toc-modified-id=\"Distribuciones-1.2.1\"><span class=\"toc-item-num\">1.2.1&nbsp;&nbsp;</span>Distribuciones</a></span><ul class=\"toc-item\"><li><span><a href=\"#Distribuciones-discretas\" data-toc-modified-id=\"Distribuciones-discretas-1.2.1.1\"><span class=\"toc-item-num\">1.2.1.1&nbsp;&nbsp;</span>Distribuciones discretas</a></span></li><li><span><a href=\"#Distribuciones-continuas\" data-toc-modified-id=\"Distribuciones-continuas-1.2.1.2\"><span class=\"toc-item-num\">1.2.1.2&nbsp;&nbsp;</span>Distribuciones continuas</a></span></li></ul></li><li><span><a href=\"#Teorema-del-Límite-Central\" data-toc-modified-id=\"Teorema-del-Límite-Central-1.2.2\"><span class=\"toc-item-num\">1.2.2&nbsp;&nbsp;</span>Teorema del Límite Central</a></span></li><li><span><a href=\"#Cálculo-de-intervalos-de-confianza\" data-toc-modified-id=\"Cálculo-de-intervalos-de-confianza-1.2.3\"><span class=\"toc-item-num\">1.2.3&nbsp;&nbsp;</span>Cálculo de intervalos de confianza</a></span></li><li><span><a href=\"#Muestreo\" data-toc-modified-id=\"Muestreo-1.2.4\"><span class=\"toc-item-num\">1.2.4&nbsp;&nbsp;</span>Muestreo</a></span></li><li><span><a href=\"#Alpha-y-pvalor\" data-toc-modified-id=\"Alpha-y-pvalor-1.2.5\"><span class=\"toc-item-num\">1.2.5&nbsp;&nbsp;</span>Alpha y pvalor</a></span></li><li><span><a href=\"#Contraste-de-hipótesis\" data-toc-modified-id=\"Contraste-de-hipótesis-1.2.6\"><span class=\"toc-item-num\">1.2.6&nbsp;&nbsp;</span>Contraste de hipótesis</a></span></li></ul></li></ul></li></ul></div>"
   ]
  },
  {
   "cell_type": "markdown",
   "metadata": {},
   "source": [
    "# ESTADÍSTICA II PARA DATA SCIENCE: INFERENCIAL"
   ]
  },
  {
   "cell_type": "markdown",
   "metadata": {},
   "source": [
    "## PREPARACION"
   ]
  },
  {
   "cell_type": "code",
   "execution_count": 1,
   "metadata": {},
   "outputs": [
    {
     "ename": "ModuleNotFoundError",
     "evalue": "No module named 'pandas'",
     "output_type": "error",
     "traceback": [
      "\u001b[1;31m---------------------------------------------------------------------------\u001b[0m",
      "\u001b[1;31mModuleNotFoundError\u001b[0m                       Traceback (most recent call last)",
      "Cell \u001b[1;32mIn[1], line 2\u001b[0m\n\u001b[0;32m      1\u001b[0m \u001b[38;5;66;03m#Carga de paquetes y datos\u001b[39;00m\n\u001b[1;32m----> 2\u001b[0m \u001b[38;5;28;01mimport\u001b[39;00m \u001b[38;5;21;01mpandas\u001b[39;00m \u001b[38;5;28;01mas\u001b[39;00m \u001b[38;5;21;01mpd\u001b[39;00m\n\u001b[0;32m      3\u001b[0m \u001b[38;5;28;01mimport\u001b[39;00m \u001b[38;5;21;01mnumpy\u001b[39;00m \u001b[38;5;28;01mas\u001b[39;00m \u001b[38;5;21;01mnp\u001b[39;00m\n\u001b[0;32m      4\u001b[0m \u001b[38;5;28;01mimport\u001b[39;00m \u001b[38;5;21;01mstatistics\u001b[39;00m\n",
      "\u001b[1;31mModuleNotFoundError\u001b[0m: No module named 'pandas'"
     ]
    }
   ],
   "source": [
    "#Carga de paquetes y datos\n",
    "import pandas as pd\n",
    "import numpy as np\n",
    "import statistics\n",
    "import scipy as sp\n",
    "import seaborn as sns\n",
    "import random\n",
    "import math\n",
    "from statsmodels.stats.proportion import proportions_ztest\n",
    "\n",
    "df = sns.load_dataset('tips')"
   ]
  },
  {
   "cell_type": "code",
   "execution_count": 4,
   "metadata": {},
   "outputs": [
    {
     "ename": "NameError",
     "evalue": "name 'df' is not defined",
     "output_type": "error",
     "traceback": [
      "\u001b[1;31m---------------------------------------------------------------------------\u001b[0m",
      "\u001b[1;31mNameError\u001b[0m                                 Traceback (most recent call last)",
      "Cell \u001b[1;32mIn[4], line 1\u001b[0m\n\u001b[1;32m----> 1\u001b[0m \u001b[43mdf\u001b[49m\u001b[38;5;241m.\u001b[39minfo()\n",
      "\u001b[1;31mNameError\u001b[0m: name 'df' is not defined"
     ]
    }
   ],
   "source": [
    "df.info()"
   ]
  },
  {
   "cell_type": "code",
   "execution_count": 3,
   "metadata": {},
   "outputs": [
    {
     "data": {
      "text/html": [
       "<div>\n",
       "<style scoped>\n",
       "    .dataframe tbody tr th:only-of-type {\n",
       "        vertical-align: middle;\n",
       "    }\n",
       "\n",
       "    .dataframe tbody tr th {\n",
       "        vertical-align: top;\n",
       "    }\n",
       "\n",
       "    .dataframe thead th {\n",
       "        text-align: right;\n",
       "    }\n",
       "</style>\n",
       "<table border=\"1\" class=\"dataframe\">\n",
       "  <thead>\n",
       "    <tr style=\"text-align: right;\">\n",
       "      <th></th>\n",
       "      <th>total_bill</th>\n",
       "      <th>tip</th>\n",
       "      <th>sex</th>\n",
       "      <th>smoker</th>\n",
       "      <th>day</th>\n",
       "      <th>time</th>\n",
       "      <th>size</th>\n",
       "    </tr>\n",
       "  </thead>\n",
       "  <tbody>\n",
       "    <tr>\n",
       "      <th>0</th>\n",
       "      <td>16.99</td>\n",
       "      <td>1.01</td>\n",
       "      <td>Female</td>\n",
       "      <td>No</td>\n",
       "      <td>Sun</td>\n",
       "      <td>Dinner</td>\n",
       "      <td>2</td>\n",
       "    </tr>\n",
       "    <tr>\n",
       "      <th>1</th>\n",
       "      <td>10.34</td>\n",
       "      <td>1.66</td>\n",
       "      <td>Male</td>\n",
       "      <td>No</td>\n",
       "      <td>Sun</td>\n",
       "      <td>Dinner</td>\n",
       "      <td>3</td>\n",
       "    </tr>\n",
       "    <tr>\n",
       "      <th>2</th>\n",
       "      <td>21.01</td>\n",
       "      <td>3.50</td>\n",
       "      <td>Male</td>\n",
       "      <td>No</td>\n",
       "      <td>Sun</td>\n",
       "      <td>Dinner</td>\n",
       "      <td>3</td>\n",
       "    </tr>\n",
       "    <tr>\n",
       "      <th>3</th>\n",
       "      <td>23.68</td>\n",
       "      <td>3.31</td>\n",
       "      <td>Male</td>\n",
       "      <td>No</td>\n",
       "      <td>Sun</td>\n",
       "      <td>Dinner</td>\n",
       "      <td>2</td>\n",
       "    </tr>\n",
       "    <tr>\n",
       "      <th>4</th>\n",
       "      <td>24.59</td>\n",
       "      <td>3.61</td>\n",
       "      <td>Female</td>\n",
       "      <td>No</td>\n",
       "      <td>Sun</td>\n",
       "      <td>Dinner</td>\n",
       "      <td>4</td>\n",
       "    </tr>\n",
       "  </tbody>\n",
       "</table>\n",
       "</div>"
      ],
      "text/plain": [
       "   total_bill   tip     sex smoker  day    time  size\n",
       "0       16.99  1.01  Female     No  Sun  Dinner     2\n",
       "1       10.34  1.66    Male     No  Sun  Dinner     3\n",
       "2       21.01  3.50    Male     No  Sun  Dinner     3\n",
       "3       23.68  3.31    Male     No  Sun  Dinner     2\n",
       "4       24.59  3.61  Female     No  Sun  Dinner     4"
      ]
     },
     "execution_count": 3,
     "metadata": {},
     "output_type": "execute_result"
    }
   ],
   "source": [
    "df.head()"
   ]
  },
  {
   "cell_type": "markdown",
   "metadata": {},
   "source": [
    "## ESTADÍSTICA INFERENCIAL"
   ]
  },
  {
   "cell_type": "markdown",
   "metadata": {},
   "source": [
    "La estadística inferencial nos da herramientas para poder estimar **cómo de robustos y representativos del dato \"real\" en la población son las conclusiones que estamos obteniendo mediante nuestros análisis en la muestra**.\n",
    "\n",
    "Ya sabemos que la población es el total de elementos sobre el cual estamos intentando obtener conclusiones. Y en la mayoría de los casos será un ideal ya que operativamente no podremos nunca acceder a él.\n",
    "\n",
    "Por ejemplo si queremos estudiar los hábitos de compra de los españoles nunca podremos hacer una encuesta ni recopilar datos de TODOS los españoles.\n",
    "\n",
    "O si estamos analizando los clientes de una empresa realmente nunca podremos analizar el total de clientes potenciales a los que esa empresa podría algún día llegar a tener como clientes.\n",
    "\n",
    "Por ello en la práctica se entiende que siempre estaremos trabajando con una muestra de esa población.\n",
    "\n",
    "(Tener en cuenta las notas que comentamos al inicio de este módulo sobre el grado en el que podemos considerar como realmente aleatoria una muestra que tenemos en un contexto empresarial)\n",
    "\n",
    "Sobre esa muestra haremos nuestros análisis y obtendremos unas conclusiones, pero no sabemos hasta qué punto esas conclusiones o datos se acercan al dato \"real\" que obtendríamos si pudiéramos analizar toda la población.\n",
    "\n",
    "En la práctica usaremos la **estadística inferencial** sobre todo para:\n",
    "\n",
    "* Validar que el dato que hemos obtenido en la muestra es, bajo unas condiciones probabilísticas, un dato correcto, robusto y extrapolable\n",
    "* Conocer los límites o intervalos superior e inferiores al dato que podríamos considerar válidos\n",
    "* Aceptar o rechazar ciertas conclusiones (hipótesis) que queramos poner a prueba\n",
    "\n",
    "En términos técnicos los puntos anteriores se cubren mediante lo que se llama:\n",
    "\n",
    "1. Estimación de intervalos de confianza\n",
    "2. Contraste de hipótesis\n",
    "\n",
    "Además por el camino aprenderemos sobre distribuciones de probabilidad, y cómo hacer muestras (algo que aún en tiempos de Big Data sigue siendo de mucha utilidad).\n"
   ]
  },
  {
   "cell_type": "markdown",
   "metadata": {},
   "source": [
    "### Distribuciones"
   ]
  },
  {
   "cell_type": "markdown",
   "metadata": {},
   "source": [
    "Una distribución es una función que muestra los **posibles valores de una variable y como de frecuente o probable es que ocurra cada uno**.\n",
    "\n",
    "Es un concepto clave para todo lo que vamos ver después, especialmente la distribución que se llama normal o curva de Gauss.\n",
    "\n",
    "La gran clave conceptual de la utilidad de las distribuciones es que pueden ser definidas por unos parámetros, y por tanto conocidas en todo su recorrido.\n",
    "\n",
    "Por tanto, si cuando estamos analizando un evento, descubrimos que ese evento parece seguir una distribución conocida, es como tener un mapa, o como conocer las preguntas del examen.\n",
    "\n",
    "Ya que podremos utilizar ese conocimiento de la distribución para hacer predicciones o contrastar hipótesis.\n",
    "\n",
    "Por ejemplo se ha visto que lo que se llama \"teoría de colas\", como el número de llamadas que entran por unidad de tiempo en un call center, suele seguir la distribución de Poisson. Así que si queremos dimensionar adecuadamente un call center podemos usar esta distribución para predecir probabilísticamente el número de llamadas que entrarán y dimensionar en consecuencia.\n",
    "\n",
    "Podemos hacer una gran clasificación de las distribuciones entre:\n",
    "\n",
    "* Distribuciones de variables discretas: Bernouilli, Binomial, Poisson\n",
    "* Distribuciones de variables continuas: Normal, T de Student, distribución F\n",
    "\n",
    "Las discretas las vamos a repasar brevemente y poner ejemplos gráficos para que te suenen. Y en las contínuas realmente nos vamos a centrar en la distribución Normal que es la más imporante para todo lo que vamos a ver después."
   ]
  },
  {
   "cell_type": "markdown",
   "metadata": {},
   "source": [
    "#### Distribuciones discretas"
   ]
  },
  {
   "cell_type": "markdown",
   "metadata": {},
   "source": [
    "**Bernouilli**\n",
    "\n",
    "Sigue esta distribución todo experimento aleatorio en que solo pueden ocurrir dos sucesos que además son mutuamente excluyentes.\n",
    "\n",
    "El ejemplo más clásico es tirar una moneda.\n",
    "\n",
    "Los eventos no tienen por que ser 50%-50% pueden tener diferentes probabilidades siempre que suemen 100%."
   ]
  },
  {
   "cell_type": "code",
   "execution_count": 1,
   "metadata": {},
   "outputs": [
    {
     "ename": "ModuleNotFoundError",
     "evalue": "No module named 'scipy'",
     "output_type": "error",
     "traceback": [
      "\u001b[1;31m---------------------------------------------------------------------------\u001b[0m",
      "\u001b[1;31mModuleNotFoundError\u001b[0m                       Traceback (most recent call last)",
      "Cell \u001b[1;32mIn[1], line 2\u001b[0m\n\u001b[0;32m      1\u001b[0m \u001b[38;5;66;03m#Ejemplo de una moneda trucada para que el 70% de las veces salga cara\u001b[39;00m\n\u001b[1;32m----> 2\u001b[0m \u001b[38;5;28;01mfrom\u001b[39;00m \u001b[38;5;21;01mscipy\u001b[39;00m\u001b[38;5;21;01m.\u001b[39;00m\u001b[38;5;21;01mstats\u001b[39;00m \u001b[38;5;28;01mimport\u001b[39;00m bernoulli\n\u001b[0;32m      3\u001b[0m moneda \u001b[38;5;241m=\u001b[39m bernoulli\u001b[38;5;241m.\u001b[39mrvs(size\u001b[38;5;241m=\u001b[39m\u001b[38;5;241m100\u001b[39m,p\u001b[38;5;241m=\u001b[39m\u001b[38;5;241m0.7\u001b[39m)\n\u001b[0;32m      4\u001b[0m moneda\n",
      "\u001b[1;31mModuleNotFoundError\u001b[0m: No module named 'scipy'"
     ]
    }
   ],
   "source": [
    "#Ejemplo de una moneda trucada para que el 70% de las veces salga cara\n",
    "from scipy.stats import bernoulli\n",
    "moneda = bernoulli.rvs(size=100,p=0.7)\n",
    "moneda"
   ]
  },
  {
   "cell_type": "code",
   "execution_count": 5,
   "metadata": {},
   "outputs": [
    {
     "data": {
      "image/png": "[encoded data removed]",
      "text/plain": [
       "<Figure size 640x480 with 1 Axes>"
      ]
     },
     "metadata": {},
     "output_type": "display_data"
    }
   ],
   "source": [
    "pd.Series(moneda).value_counts().plot(kind = 'bar');"
   ]
  },
  {
   "cell_type": "markdown",
   "metadata": {},
   "source": [
    "**Binomial**\n",
    "\n",
    "Sigue esta distribución la suma de los \"éxitos\" (los unos) que se obtienen en n repeticiones de un experimento de Bernouilli donde la probabilidad (p) de unos se mantiene constante.\n",
    "\n",
    "Por ejemplo si tiro una moneda (no sesgada) 10 veces, y repito ese experimento 100 veces, ¿en cuantos de esos experimentos obtendré 0 caras, 1 cara, 2 caras, etc.\n",
    "\n",
    "A medida que n aumenta, y siempre que p no tome valores muy extremos la binomial tiende hacia la normal. Así que en la práctica podremos usar la normal como un proxy en muchas ocasiones."
   ]
  },
  {
   "cell_type": "code",
   "execution_count": 6,
   "metadata": {},
   "outputs": [
    {
     "data": {
      "text/plain": [
       "array([7, 5, 5, 6, 7, 7, 5, 3, 6, 4, 6, 6, 5, 6, 6, 5, 5, 4, 3, 4, 4, 6,\n",
       "       4, 5, 5, 7, 3, 5, 5, 4, 5, 5, 4, 6, 7, 5, 4, 5, 6, 6, 4, 6, 4, 2,\n",
       "       6, 4, 5, 4, 4, 3, 6, 6, 5, 3, 5, 6, 3, 6, 4, 4, 8, 3, 7, 4, 9, 5,\n",
       "       3, 3, 4, 4, 8, 4, 2, 4, 5, 5, 6, 5, 2, 5, 7, 6, 5, 4, 3, 5, 4, 4,\n",
       "       4, 2, 6, 5, 1, 7, 6, 7, 5, 5, 9, 5], dtype=int64)"
      ]
     },
     "execution_count": 6,
     "metadata": {},
     "output_type": "execute_result"
    }
   ],
   "source": [
    "from scipy.stats import binom\n",
    "monedas = binom.rvs(n=10,p=0.5,size=100)\n",
    "monedas"
   ]
  },
  {
   "cell_type": "code",
   "execution_count": 7,
   "metadata": {
    "scrolled": true
   },
   "outputs": [
    {
     "data": {
      "image/png": "[encoded data removed]",
      "text/plain": [
       "<Figure size 640x480 with 1 Axes>"
      ]
     },
     "metadata": {},
     "output_type": "display_data"
    }
   ],
   "source": [
    "pd.Series(monedas).value_counts().sort_index().plot(kind = 'bar');"
   ]
  },
  {
   "cell_type": "markdown",
   "metadata": {},
   "source": [
    "**Poisson**\n",
    "\n",
    "Trata de predecir el número de veces que un evento ocurrirá en un intervalo de tiempo.\n",
    "\n",
    "Por ejemplo lo que decíamos de teoría de colas en un call center. O el número de pacientes de urgencias que llegarán cada hora.\n",
    "\n",
    "El parámetro que la define es Lambda: la media del número de eventos por intervalo de tiempo.\n",
    "\n",
    "Conforme Lambda se aleja de valores muy bajos esta distribución tiende hacia la normal.\n",
    "\n",
    "También es especialmente útil para \"sucesos raros\".\n",
    "\n",
    "Por ejemplo para predecir el número de suicidios diarios en un país, cuantos trillizos nacerán en un día, número de visitantes concurrentes en una web pequeña, etc.\n",
    "\n",
    "Ejemplo: si lo esperado es que lleguen 2 pacientes cada 15 minutos a urgencias, ¿cual sería la distribución más probable de llegadas?"
   ]
  },
  {
   "cell_type": "code",
   "execution_count": 8,
   "metadata": {},
   "outputs": [
    {
     "data": {
      "text/plain": [
       "array([0, 2, 2, ..., 0, 1, 1], dtype=int64)"
      ]
     },
     "execution_count": 8,
     "metadata": {},
     "output_type": "execute_result"
    }
   ],
   "source": [
    "#El parámetro mu en esta implementación es Lambda\n",
    "from scipy.stats import poisson\n",
    "llegadas = poisson.rvs(mu=2,size=10000)\n",
    "llegadas"
   ]
  },
  {
   "cell_type": "code",
   "execution_count": 9,
   "metadata": {
    "scrolled": true
   },
   "outputs": [
    {
     "data": {
      "image/png": "[encoded data removed]",
      "text/plain": [
       "<Figure size 640x480 with 1 Axes>"
      ]
     },
     "metadata": {},
     "output_type": "display_data"
    }
   ],
   "source": [
    "pd.Series(llegadas).value_counts().sort_index().plot(kind = 'bar');"
   ]
  },
  {
   "cell_type": "markdown",
   "metadata": {},
   "source": [
    "#### Distribuciones continuas"
   ]
  },
  {
   "cell_type": "markdown",
   "metadata": {},
   "source": [
    "**Distribución normal**\n",
    "\n",
    "Es la distribución más importante y la más utilizada. También llamada curva o campana de Gauss.\n",
    "\n",
    "Ya que es la que se produce cuando una variable está compuesta de otras muchas variables.\n",
    "\n",
    "Y eso es lo más frecuente en casi cualquier ámbito.\n",
    "\n",
    "Por ejemplo el peso de una persona depende de muchos factores: genética, alimentación, edad, etc. Y se demuestra que se distribuye según una normal.\n",
    "\n",
    "O la inteligencia que también depende de múltiples factores  genéticos y culturales.\n",
    "\n",
    "Etc.\n",
    "\n",
    "Además la mayoría de distribuciones, cuando trabajamos con grandes números como es el caso de data science, convergen hacia la normal.\n",
    "\n",
    "La normal se define por dos parámetros: la media y la desviación típica."
   ]
  },
  {
   "cell_type": "code",
   "execution_count": 10,
   "metadata": {},
   "outputs": [
    {
     "data": {
      "image/png": "[encoded data removed]",
      "text/plain": [
       "<Figure size 640x480 with 1 Axes>"
      ]
     },
     "metadata": {},
     "output_type": "display_data"
    }
   ],
   "source": [
    "#Ejemplo de una normal\n",
    "#Loc es la media y scale es la desviación típica\n",
    "from scipy.stats import norm\n",
    "normal = norm.rvs(size=10000,loc = 5, scale = 3)\n",
    "pd.Series(normal).plot(kind = 'hist');"
   ]
  },
  {
   "cell_type": "markdown",
   "metadata": {},
   "source": [
    "**Otras distribuciones**\n",
    "\n",
    "Existen otras distribuciones, como la F de Snedecor que se usa para el contraste de igualdad de varianzas, o la T de student que es una normal para cuando tenemos poca muestra o desconocemos la varianza poblacional. \n",
    "\n",
    "Esta última tiene más relevancia, ya que la usaremos en ciertos casos del contraste de hipótesis.\n",
    "\n",
    "Pero quédate simplemente con que es como una normal pero con mayor densidad en las colas."
   ]
  },
  {
   "cell_type": "markdown",
   "metadata": {},
   "source": [
    "### Teorema del Límite Central"
   ]
  },
  {
   "cell_type": "markdown",
   "metadata": {},
   "source": [
    "Es uno de los teoremas más importantes de la estadística, ya que es el que nos va a permitir aplicar con seguridad todo lo que veremos en los apartados siguientes.\n",
    "\n",
    "Básicamente consiste en que se ha demostrado que si hacemos medias sobre muchas muestras aleatorias de una población, la distribución resultante de todas esas muestras se va a distribuir según una normal, **da igual cual fuera forma de la distribución original en la población**.\n",
    "\n",
    "El conjunto de esas medias sobre sobre muchas muestras aleatorias de una población es a su vez una distribución, y se llama **distribución muestral**.\n",
    "\n",
    "Pero además dice que:\n",
    "\n",
    "1. La media de la distribución muestral tiende a converger a media de la población. Por tanto podemos usar el dato de la distribución muestral como válido en la población\n",
    "2. La variabilidad de la distribución muestral, que se llama **error típico** (o también lo verás como error estandar), va a ser igual a la desviación típica de la población dividida por la raiz cuadrada del tamaño de la muestra\n",
    "\n",
    "Osea que si sabemos la media de la distribución muestral estamos muy cerca de la media real de la población.\n",
    "\n",
    "Pero **en cada una de las muestras** de la distribución muestral (que será lo que manejemos en la realidad, una sola de esas muestras) esa media va tener un valor parecido pero diferente a las demás muestras. Es decir, es un dato que tiene una variabilidad.\n",
    "\n",
    "Si esa variabilidad (el error típico) es grande significa que esa media que estamos sacando en nuestra muestra puede no ser buena estimación de la media real en la población.\n",
    "\n",
    "Pero si es pequeña significa que esa estimación sí está más cerca del valor real en la población.\n",
    "\n",
    "Y como el denominador del error típico incluye el tamaño muestral, pasará que cuanto mayor sea la muestra menor será la variabilidad, es decir, más precisa será la media muestral con respecto a la de la población.\n",
    "\n",
    "En la práctica, como no tenemos la desviación típica de la población, se sustituye por la desviación típica de la muestra, de forma que usando la fórumula del punto 2) podremos estimar el error típico de la distribución muestral a partir de la desviación típica de la muestra.\n",
    "\n",
    "Pero aquí hay mucha miga, así que vamos paso a paso."
   ]
  },
  {
   "cell_type": "markdown",
   "metadata": {},
   "source": [
    "Vamos a crear una distribución simulando una población con otra forma, por ejemplo una exponencial"
   ]
  },
  {
   "cell_type": "code",
   "execution_count": 11,
   "metadata": {},
   "outputs": [
    {
     "data": {
      "image/png": "[encoded data removed]",
      "text/plain": [
       "<Figure size 640x480 with 1 Axes>"
      ]
     },
     "metadata": {},
     "output_type": "display_data"
    }
   ],
   "source": [
    "from scipy.stats import expon\n",
    "poblacion = expon.rvs(loc=0, scale=1,size=1000)\n",
    "pd.Series(poblacion).plot(kind = 'density');"
   ]
  },
  {
   "cell_type": "markdown",
   "metadata": {},
   "source": [
    "Ahora sobre la población vamos a extraer 500 muestras aleatorias de tamaño 500 cada una de ellas. Y por tanto tendremos una **distribución muestral**."
   ]
  },
  {
   "cell_type": "code",
   "execution_count": 12,
   "metadata": {},
   "outputs": [
    {
     "data": {
      "text/plain": [
       "[0.9213929543380347,\n",
       " 0.9977228169312641,\n",
       " 0.9855696291003347,\n",
       " 0.936859664036366,\n",
       " 1.0124266813255813,\n",
       " 0.9978705631565787,\n",
       " 0.9591265013345758,\n",
       " 0.9606413845033254,\n",
       " 0.9992998696279455,\n",
       " 0.9640224881064403]"
      ]
     },
     "execution_count": 12,
     "metadata": {},
     "output_type": "execute_result"
    }
   ],
   "source": [
    "random.seed(1234)\n",
    "muestras = [random.sample(list(poblacion), 500) for i in range(500)]\n",
    "medias = [np.array(muestra).mean() for muestra in muestras]\n",
    "#Visualizamos las 10 primeras\n",
    "medias[0:10]"
   ]
  },
  {
   "cell_type": "markdown",
   "metadata": {},
   "source": [
    "Calculamos la media en la población y en la distribución muestral para ver que efectivamente tiende a converger.\n",
    "\n",
    "Y también graficamos la distribución muestral para ver que es una normal."
   ]
  },
  {
   "cell_type": "code",
   "execution_count": 13,
   "metadata": {},
   "outputs": [
    {
     "name": "stdout",
     "output_type": "stream",
     "text": [
      "La media de la población es: 0.986234\n",
      "Y la media de la distribución muestral es: 0.987065\n"
     ]
    },
    {
     "data": {
      "image/png": "[encoded data removed]",
      "text/plain": [
       "<Figure size 640x480 with 1 Axes>"
      ]
     },
     "metadata": {},
     "output_type": "display_data"
    }
   ],
   "source": [
    "media_poblacion = poblacion.mean()\n",
    "media_muestras = np.array(medias).mean()\n",
    "\n",
    "print('La media de la población es: %f'%media_poblacion)\n",
    "print('Y la media de la distribución muestral es: %f'%media_muestras)\n",
    "\n",
    "pd.Series(medias).plot(kind = 'density');"
   ]
  },
  {
   "cell_type": "markdown",
   "metadata": {},
   "source": [
    "Ahora bien, en la práctica no tendremos 500 muestras, si no que tendremos un dataset que podemos entender como una sola de esas muestras, y sobre ese dataset haremos nuestros análisis y calcularemos nuestros datos.\n",
    "\n",
    "Por tanto no tendremos esos datos de la distribución muestral de las 500, pero podemos volver a usar el teorema del límite central, que nos dice que el error típico de la distribución muestral será igual a la desviación típica encontrada en la muestra dividida por la raiz cuadrada del tamaño de la muestra.\n",
    "\n",
    "Por ejemplo vamos a coger una de las muestras y calcular el error típico a partir de ella."
   ]
  },
  {
   "cell_type": "code",
   "execution_count": 14,
   "metadata": {},
   "outputs": [
    {
     "name": "stdout",
     "output_type": "stream",
     "text": [
      "El error típico según el teorema del límite central es: 0.039955\n"
     ]
    }
   ],
   "source": [
    "muestra = muestras[0]\n",
    "\n",
    "desv_tip_muestra = np.array(muestra).std()\n",
    "error_tipico = desv_tip_muestra / math.sqrt(500)\n",
    "\n",
    "print('El error típico según el teorema del límite central es: %f'%error_tipico)"
   ]
  },
  {
   "cell_type": "code",
   "execution_count": 15,
   "metadata": {},
   "outputs": [
    {
     "data": {
      "text/plain": [
       "0.03995541520713849"
      ]
     },
     "execution_count": 15,
     "metadata": {},
     "output_type": "execute_result"
    }
   ],
   "source": [
    "error_tipico"
   ]
  },
  {
   "cell_type": "code",
   "execution_count": 16,
   "metadata": {},
   "outputs": [
    {
     "data": {
      "text/plain": [
       "0.9213929543380347"
      ]
     },
     "execution_count": 16,
     "metadata": {},
     "output_type": "execute_result"
    }
   ],
   "source": [
    "np.array(muestra).mean()"
   ]
  },
  {
   "cell_type": "markdown",
   "metadata": {},
   "source": [
    "**EN CONCLUSIÓN**, el teorema del límite central nos va a permitir que cuando en la realidad sólo estemos ante un conjunto de datos que entenderemos como sólo una muestra de todo el espacio muestral disponible podamos:\n",
    "\n",
    "* Asumir que la media de nuestra muestra converge a la de la distribución muestral y por tanto a la de la población\n",
    "* Saber que nuestra media realmente es solo una de todas las posibles, y por tanto es un dato que tiene una variación\n",
    "* Poder calcular esa variación, mediante el error típico\n",
    "\n",
    "En nuestro ejemplo de arriba, sabemos que el valor de la media en la muestra va a estar en torno al 0.98.\n",
    "\n",
    "Pero sabemos que ese dato tiene una variación, en concreto en nuestra muestra encontramos que el error típico es 0.04.\n",
    "\n",
    "Es decir, el dato de la media de 0.98 variará en 0.04 **por cada desviación típica que nos alejemos de la media**\n",
    "\n",
    "Pero entonces, ¿dónde ponemos los límites para decir si un nivel de variación es ya razonable o no?\n",
    "\n",
    "Por ejemplo, vamos a recuperar el gráfico de la distribución muestral. \n",
    "\n",
    "Y sabemos que el dato real estará en torno a 0.98, aunque no estamos seguros de que sea exactamente 0.98.\n",
    "\n",
    "Entonces ¿qué consideraríamos exactamente como un dato representativo de nuestra media? ¿La media también podriá ser 0.93, o 1.02, o 2.8?\n",
    "\n",
    "Justamente resolver esa pregunta es lo que se llama calcular el \"Intervalo de Confianza\""
   ]
  },
  {
   "cell_type": "code",
   "execution_count": 17,
   "metadata": {},
   "outputs": [
    {
     "data": {
      "image/png": "[encoded data removed]",
      "text/plain": [
       "<Figure size 640x480 with 1 Axes>"
      ]
     },
     "metadata": {},
     "output_type": "display_data"
    }
   ],
   "source": [
    "pd.Series(medias).plot(kind = 'density');"
   ]
  },
  {
   "cell_type": "markdown",
   "metadata": {},
   "source": [
    "### Cálculo de intervalos de confianza"
   ]
  },
  {
   "cell_type": "markdown",
   "metadata": {},
   "source": [
    "Nos habíamos quedado en que tenemos un dato (la media en nuestra muestra) que se aproxima al dato real en la población, pero que puede no ser exactament el dato real.\n",
    "\n",
    "Es decir, usando ese dato de la muestra como aproximación estamos cometiendo un error: el **margen de error**."
   ]
  },
  {
   "cell_type": "markdown",
   "metadata": {},
   "source": [
    "##### Margen de error"
   ]
  },
  {
   "cell_type": "markdown",
   "metadata": {},
   "source": [
    "Parte de ese error viene explicado por la variabilidad, a menos variabilidad menos error, y esa variabilidad la calculábamos con el error típico.\n",
    "\n",
    "Pero habíamos visto que el error típico es la desviación típica de la distribución muestral. \n",
    "\n",
    "Es decir, que si nos alejamos una desviación típica de la media el error que podemos estar cometiendo era en nuestros datos de 0.04. (Esto habría que hacerlo tanto por la derecha como por la izquierda).\n",
    "\n",
    "Pero entonces si nos alejamos 2 desviaciones típicas estaríamos cometiendo un posible error de 0.08.\n",
    "\n",
    "Es decir, que otra parte del error viene dado por cuanto queramos nosotros alajarnos de la media.\n",
    "\n",
    "En definitiva el **margen de error será igual al error típico multiplicado por el número de desviaciones típicas que queramos alejarnos**.\n",
    "\n",
    "U operativamente, a partir de lo que tenemos disponible en una muestra:\n",
    "\n",
    "margen de error = error típico * número desviaciones típicas\n",
    "\n",
    "Si lo descomponemos tenemos que:\n",
    "\n",
    "El margen de error depende de:\n",
    "\n",
    "* la variabilidad de lo que estemos midiendo: esto no lo podemos controlar\n",
    "* el tamaño muestral: a mayor tamaño menor error\n",
    "* el número de desviaciones típicas que queramos alejarnos, que lo definimos nosotros en función del nivel de confianza que queramos aplicar"
   ]
  },
  {
   "cell_type": "markdown",
   "metadata": {},
   "source": [
    "##### Niveles de confianza"
   ]
  },
  {
   "cell_type": "markdown",
   "metadata": {},
   "source": [
    "Pero si el número de desviaciones típicas que nos queremos alejar lo decidimos nosotros ... ¿En qué nos podemos basar para decidirlo?.\n",
    "\n",
    "Aquí entra el concepto de **niveles de confianza**.\n",
    "\n",
    "Imagínate que pienso un número del 1 al 10 y tienes que adivinarlo.\n",
    "\n",
    "Para ello te dejo que digas un intervalo de números.\n",
    "\n",
    "Por ejemplo, si te dejara un intervalo de 5 números, ¿cómo de confiado estarías en acertar?. Pues un 50% no?\n",
    "\n",
    "Y si te dejara un intervalo de 9 números, ¿cómo de confiado estarías en acertar?. Pues un 90%\n",
    "\n",
    "Ahora bien, en el caso de que mi número estuviera en tu intervalo. ¿Qué error medio estarías cometiendo si hiciéramos el experimento infinitas veces?\n",
    "\n",
    "* En el caso del intervalo de cinco números estarías cometiendo un error medio de 2.5\n",
    "* En el caso del intervalo de nueve números estarías cometiendo un error medio de 4.5\n",
    "\n",
    "Por tanto **cuanto mayor sea el intervalo más seguro vas a estar de que mi número va estar en ese intervalo, pero mayor va a ser también el error medio que estás cometiendo** y por tanto de menor valor será tu dato.\n",
    "\n",
    "Pues eso es exactamente lo que pasa con los niveles de confianza.\n",
    "\n",
    "Y dado que es sobre una distribución normal y por tanto conocida, podemos cuantificarlo en términos de probabilidad.\n",
    "\n",
    "Por ejemplo sabemos que una normal el 68% de los datos están entre la media y una desviación típica por abajo y otra por arriba.\n",
    "\n",
    "Por tanto podemos darle la vuelta y decir: si quiero trabajar con una confianza del 68% entonces tengo que marcar un intervalo entre la media +- una desviación típica.\n",
    "\n",
    "Y así se suele hacer. Primero marcas el nivel de confianza al que quieres trabajar y después calculas cuantas desviaciones típicas supone.\n",
    "\n",
    "Se suelen usar los siguientes estándares:\n",
    "\n",
    "* 95.5% de nivel de confianza que equivale a 2 desviaciones típicas \n",
    "* 99.7% de nivel de confianza que equivale a 3 desviaciones típicas "
   ]
  },
  {
   "cell_type": "markdown",
   "metadata": {},
   "source": [
    "Calculemos los datos en nuestro ejemplo y vamos a ver que, al igual que el ejemplo de adivinar el número, si incrementamos la confianza también incrementamos el error."
   ]
  },
  {
   "cell_type": "code",
   "execution_count": 18,
   "metadata": {},
   "outputs": [
    {
     "data": {
      "text/plain": [
       "0.03995541520713849"
      ]
     },
     "execution_count": 18,
     "metadata": {},
     "output_type": "execute_result"
    }
   ],
   "source": [
    "error_tipico"
   ]
  },
  {
   "cell_type": "code",
   "execution_count": 19,
   "metadata": {},
   "outputs": [
    {
     "name": "stdout",
     "output_type": "stream",
     "text": [
      "0.07991083041427698\n",
      "0.11986624562141546\n"
     ]
    }
   ],
   "source": [
    "#Error muestral con nuestros datos para un nivel de confianza del 95,5%\n",
    "error_95 = 2 * error_tipico\n",
    "print(error_95)\n",
    "\n",
    "#Error muestral con nuestros datos para un nivel de confianza del 99,7%\n",
    "error_99 = 3 * error_tipico\n",
    "print(error_99)"
   ]
  },
  {
   "cell_type": "markdown",
   "metadata": {},
   "source": [
    "##### Distribución normal tipificada"
   ]
  },
  {
   "cell_type": "markdown",
   "metadata": {},
   "source": [
    "En el punto anterior decíamos que vamos a usar el número de desviaciones típicas que un dato se aleja de la media para cuantificar el nivel de confianza al que estamos trabajando.\n",
    "\n",
    "Pero sabemos que varias distribuciones, aunque todas sean normales, van a tener distintas medias y distintas desviaciones típicas.\n",
    "\n",
    "Por ello se suele aplicar una operación que se llama tipificar, y que usaremos también en machine learning, para poder trabajar con un estandar. De hecho a las puntuaciones típicas también se les llama puntuaciones estandar.\n",
    "\n",
    "La fórmula consiste en tomar cada dato de la distribución, restarle la media, y dividir el resultado por la desviación típica.\n",
    "\n",
    "El resultado es una métrica que se llama puntuaciones z, o típicas o estandar, y que va a tener una distribución con media cero y desviación típica 1.\n",
    "\n",
    "Vamos a ver un ejemplo donde primero vamos a generar una distribución normal llamada sin_tipificar, con media 86 y desviacion típica 14.\n",
    "\n",
    "Y después vamos a tipificarla."
   ]
  },
  {
   "cell_type": "code",
   "execution_count": 20,
   "metadata": {},
   "outputs": [
    {
     "data": {
      "image/png": "[encoded data removed]",
      "text/plain": [
       "<Figure size 640x480 with 1 Axes>"
      ]
     },
     "metadata": {},
     "output_type": "display_data"
    }
   ],
   "source": [
    "from scipy.stats import norm\n",
    "sin_tipificar = norm.rvs(size=10000,loc = 86, scale = 14)\n",
    "pd.Series(sin_tipificar).plot(kind = 'density');"
   ]
  },
  {
   "cell_type": "code",
   "execution_count": 21,
   "metadata": {},
   "outputs": [
    {
     "name": "stdout",
     "output_type": "stream",
     "text": [
      "Media: 85.96\n",
      "Desv Tip: 13.89\n"
     ]
    }
   ],
   "source": [
    "#Vamos a calcular sus estadísticos\n",
    "media_sin = sin_tipificar.mean()\n",
    "desv_tip_sin = np.array(sin_tipificar).std()\n",
    "print('Media: %.2f'%media_sin)\n",
    "print('Desv Tip: %.2f'%desv_tip_sin)"
   ]
  },
  {
   "cell_type": "code",
   "execution_count": 22,
   "metadata": {},
   "outputs": [
    {
     "name": "stdout",
     "output_type": "stream",
     "text": [
      "Media: 0.00\n",
      "Desv Tip: 1.00\n"
     ]
    },
    {
     "data": {
      "image/png": "[encoded data removed]",
      "text/plain": [
       "<Figure size 640x480 with 1 Axes>"
      ]
     },
     "metadata": {},
     "output_type": "display_data"
    }
   ],
   "source": [
    "#Ahora vamos a tipificarla y ver que aunque cambien los estadísticos la distribución es igual\n",
    "tipificada = np.array([(dato - media_sin) / desv_tip_sin for dato in sin_tipificar])\n",
    "\n",
    "pd.Series(tipificada).plot(kind = 'density');\n",
    "\n",
    "media_tip = tipificada.mean()\n",
    "desv_tip_tip = np.array(tipificada).std()\n",
    "print('Media: %.2f'%media_tip)\n",
    "print('Desv Tip: %.2f'%desv_tip_tip)"
   ]
  },
  {
   "cell_type": "markdown",
   "metadata": {},
   "source": [
    "##### Intervalos de confianza"
   ]
  },
  {
   "cell_type": "markdown",
   "metadata": {},
   "source": [
    "Ahora que ya sabemos estimar el margen de error, calcular el intervalo de confianza es muy sencillo.\n",
    "\n",
    "El límite inferior vendrá dado por la media menos el margen de error.\n",
    "\n",
    "Y el límite superior vendrá dado por la media más el margen de error.\n",
    "\n",
    "Por tanto el intervalo entre el que estará el dato real, al nivel de confianza elegido vendrá dado por:\n",
    "\n",
    "[media - margen de error, media + margen de error]"
   ]
  },
  {
   "cell_type": "code",
   "execution_count": 23,
   "metadata": {},
   "outputs": [
    {
     "name": "stdout",
     "output_type": "stream",
     "text": [
      "[0.8414821239237578, 1.0013037847523116]\n",
      "[0.8015267087166192, 1.04125919995945]\n"
     ]
    }
   ],
   "source": [
    "#Intervalo de confianza en nuestro ejemplo a un NC del 95,5%\n",
    "media_muestra = np.mean(muestra)\n",
    "\n",
    "ic_95 = [media_muestra - error_95, media_muestra + error_95]\n",
    "print(ic_95)\n",
    "\n",
    "#Intervalo de confianza en nuestro ejemplo a un NC del 99,7%\n",
    "ic_99 = [media_muestra - error_99, media_muestra + error_99]\n",
    "print(ic_99)"
   ]
  },
  {
   "cell_type": "markdown",
   "metadata": {},
   "source": [
    "A la hora de intrepretarlo podríamos leerlo así:\n",
    "\n",
    "* Estamos un 95% seguros de que la media real va a estar entre 0.88 y 1.05\n",
    "* Estamos un 99% seguros de que la media real va a estar entre 0.84 y 1.09\n",
    "\n",
    "Aunque técnicamente sería más correcto leerlo así:\n",
    "\n",
    "* Si repitiéramos 100 veces el experimento, en 95 de ellas nos saldría un dato entre 0.88 y 1.05\n",
    "* Si repitiéramos 100 veces el experimento, en 99 de ellas nos saldría un dato entre 0.84 y 1.09"
   ]
  },
  {
   "cell_type": "markdown",
   "metadata": {},
   "source": [
    "##### Intervalos de confianza en proporciones"
   ]
  },
  {
   "cell_type": "markdown",
   "metadata": {},
   "source": [
    "Hemos visto como calcular los intervalos de confianza cuando estamos estimando medias.\n",
    "\n",
    "Pero el otro gran estadístico que podemos estar usando son las proporciones.\n",
    "\n",
    "Por ejemplo si una landing ha convertido en un piloto al 13% podemos querer estimar sus intervalos.\n",
    "\n",
    "Conceptualmente todo es igual, pero cambia una cosa: la fórmula para calcular el error típico.\n",
    "\n",
    "El error típico para distribuciones muestrales de proporciones se calcular como:\n",
    "\n",
    "Raiz cuadrada de ((p * q) dividido por n), siendo:\n",
    "\n",
    "p = la proporción obtenida\n",
    "\n",
    "q = 1-p\n",
    "\n",
    "n = tamaño de la muestra\n",
    "\n",
    "Por ejemplo en el caso anterior habíamos obtenido la proporción de conversión del 0.13 en una muestra de 500 visitantes a la web.\n",
    "\n",
    "Vamos a calcular su intervalo de confianza con un 95,5% de nivel de confianza."
   ]
  },
  {
   "cell_type": "code",
   "execution_count": 24,
   "metadata": {},
   "outputs": [
    {
     "name": "stdout",
     "output_type": "stream",
     "text": [
      "0.015039946808416579\n"
     ]
    }
   ],
   "source": [
    "error_tipico_prop = math.sqrt((0.13 * 0.87)/500)\n",
    "print(error_tipico_prop)"
   ]
  },
  {
   "cell_type": "code",
   "execution_count": 25,
   "metadata": {},
   "outputs": [
    {
     "data": {
      "text/plain": [
       "[0.09992010638316684, 0.16007989361683317]"
      ]
     },
     "execution_count": 25,
     "metadata": {},
     "output_type": "execute_result"
    }
   ],
   "source": [
    "error_tipico_prop_95 = error_tipico_prop * 2 \n",
    "ic_prop_95 = [0.13 - error_tipico_prop_95, 0.13 + error_tipico_prop_95]\n",
    "ic_prop_95"
   ]
  },
  {
   "cell_type": "markdown",
   "metadata": {},
   "source": [
    "Es decir, podríamos esperar que si nada cambia esa landing estuviera convirtiendo entre el 9.9% y el 16% cada día (siempre que hubiera muestra suficiente)"
   ]
  },
  {
   "cell_type": "markdown",
   "metadata": {},
   "source": [
    "**¿Para qué nos sirve esto en data science?**\n",
    "\n",
    "En data science raras veces estaremos haciendo estimación de intervalos como tal, pero sí es algo muy frecuente en ciertas técnicas como por ejemplo el forecast, donde además de obtener la salida de la predicción del modelo podemos pedir al software que saque los intervalos de confianza de esa predicción.\n",
    "\n",
    "Es decir, en vez de estimar que el mes que viene venderemos 180.000€ es más seguro estimar que venderemos entre 172.000€ y 188.000€.\n",
    "\n",
    "Además cuando los intervalos son muy amplios sabemos que hay mucho margen en la predicción y por tanto hay que tratarla con precaución.\n",
    "\n",
    "También es muy usado en casos como la planificación de la demanda, donde siempre deberemos trabajar con un \"colchón de seguridad\" para no quedarnos sin stock, y los intervalos nos ayudan a calcular ese colchón.\n",
    "\n",
    "Y también es usado para calcular el tamaño correcto que debería tener una muestra para poder trabajar a unos niveles de confianza y de error determinados.\n",
    "\n",
    "Por la importancia del muestreo vamos a verlo en su propio apartado."
   ]
  },
  {
   "cell_type": "markdown",
   "metadata": {},
   "source": [
    "### Muestreo"
   ]
  },
  {
   "cell_type": "markdown",
   "metadata": {},
   "source": [
    "Aún en tiempos de Big Data el muestreo sigue siendo muy útil en data science.\n",
    "\n",
    "Aunque la capacidad de computación sea cada vez mayor, la cantidad de datos y de análisis y modelos que hay que hacer en contextos empresariales tampoco para de crecer.\n",
    "\n",
    "El muestreo ha demostrado su efectividad para el tipo de análisis que hacemos en data science. Siendo que los modelos construídos sobre una muestra bien realizada son igual de válidos y potentes que los realizados sobre toda la población.\n",
    "\n",
    "Por lo que, aunque tuviéramos la fuerza bruta necesaria para procesar miles de veces toda la información no tiene ningún sentido hacerlo. Y casi siempre se trabaja con muestras para el desarrollo, que después ya se implantará sobre toda la población.\n",
    "\n",
    "Es cierto que precisamente debido a la abundancia de datos muchas veces el muestreo se hace \"a ojo\" sabiendo que vas a cumplir los grandes números suficientes para que, siempre que sea aleatorio, sea correcto.\n",
    "\n",
    "Pero aquí te voy a enseñarlo a hacerlo correctamente, que siempre es lo ideal.\n",
    "\n",
    "De todas formas, insisto, lo más importante siempre es que para que funcione la muestra tiene que ser aleatoria."
   ]
  },
  {
   "cell_type": "markdown",
   "metadata": {},
   "source": [
    "##### Fórmula para calcular el tamaño de la muestra"
   ]
  },
  {
   "cell_type": "markdown",
   "metadata": {},
   "source": [
    "Cuando vimos el error muestral ya teníamos el tamaño de la muestra incluído en esa ecuación. Recordamos:\n",
    "\n",
    "margen de error = (desviación típica de la muestra / raiz del tamaño muestral) * número desviaciones típicas\n",
    "\n",
    "Por tanto sólo necesitamos despejar el tamaño muestral en esa ecuación. Con un añadido, y es que lógicamente antes de hacer la muestra no conocemos su desviación típica, así que se cambia esa variable por la situación de variaza máxima, que en estadística se obtiene como p * q, es decir 0.5 * 0.5.\n",
    "\n",
    "Hay que aclarar que de nuevo existen muchas fórmulas dependiendo de la situación. Pero en data science casi siempre trabajaremos con poblaciones infinitas (>100.000).\n",
    "\n",
    "Por tanto la fórmula final para calcular el tamaño muestral es:"
   ]
  },
  {
   "cell_type": "code",
   "execution_count": 26,
   "metadata": {},
   "outputs": [],
   "source": [
    "#muestra = ((z**2) * (50*50)) / (me ** 2)"
   ]
  },
  {
   "cell_type": "markdown",
   "metadata": {},
   "source": [
    "Es decir, que el tamaño de la muestra va a depender de:\n",
    "\n",
    "* El nivel de confianza al que queramos trabajar: que determinará el z\n",
    "* El error muestral máximo que queramos cometer\n",
    "\n",
    "Si queremos trabajar a más NC o cometer menor error deberemos incrementar la muestra.\n",
    "\n",
    "Por ejemplo:\n",
    "\n",
    "Calcula el tamaño de muestra necesario si queremos hacer un análisis donde como mucho nos podamos desviar un 3% y con la certeza de que de 100 veces que lo hiciéramos en 95 nos saldrían conclusiones similares"
   ]
  },
  {
   "cell_type": "code",
   "execution_count": 27,
   "metadata": {},
   "outputs": [
    {
     "data": {
      "text/plain": [
       "1067.111111111111"
      ]
     },
     "execution_count": 27,
     "metadata": {},
     "output_type": "execute_result"
    }
   ],
   "source": [
    "#Vamos a crear una función que calcule el tamaño muestral en base a un NC (pasado como zetas)\n",
    "# y un margen error (pasado en porcentaje)\n",
    "def tamaño(z,me):\n",
    "    tamaño = ((z**2) * (50*50)) / (me ** 2)\n",
    "    return(tamaño)\n",
    "\n",
    "#Calculamos\n",
    "tamaño(1.96,3)"
   ]
  },
  {
   "cell_type": "markdown",
   "metadata": {},
   "source": [
    "### Alpha y pvalor"
   ]
  },
  {
   "cell_type": "markdown",
   "metadata": {},
   "source": [
    "Cuando ya estemos en la práctica estaremos frecuentemente usando dos conceptos: alpha y pvalor.\n",
    "\n",
    "Por ejemplo siempre que hagamos modelos que vienen de la estadística como las regresiones estaremos usando estos conceptos para ver si los coeficientes son significativos, etc.\n",
    "\n",
    "Pues con lo que ya has aprendido, no sólo vas a saber usarlos, si no que vas a entender el por qué :-)\n",
    "\n",
    "**Alpha no es más que 1-NC. Es decir, si trabajamos a un NC del 95% entonces Alpha es 5%. Aunque normalmente nos vendrá en tanto por uno, es decir 0.05**.\n",
    "\n",
    "Por otro lado está el pvalor, también llamado la significación estadística, porque ayuda a diferenciar si un resultado obtenido es estadísticamente significativo o es simplemente fruto del azar.\n",
    "\n",
    "El **Pvalor es la probabilidad de obtener un valor tan extremo o más que el obtenido en la muestra asumiendo que la hipótesis nula es cierta**. (Más sobre la hipótesis nula en los siguientes apartados)\n",
    "\n",
    "Entonces si esa probabilidad que nos da el pvalor es tan baja que nos parece \"rarísimo\" que haya pasado lo que hacemos es pensar que quizá la hipótesis nula no esa cierta.\n",
    "\n",
    "Es decir, pongamos que aceptamos que el valor real de la media en la población es 100 (hipótesis nula).\n",
    "\n",
    "Pero en nuestra muestra la media es 108 con un pvalor de 0.02. Ello significa que, si efectivamente la media real fuera 100, la probabilidad de que a nosotros nos saliera 108 o más es sólo del 2%.\n",
    "\n",
    "Esto es super potente porque con él podemos hacer el proceso al revés. Es decir, podemos saber el límite de nivel de confianza que podríamos elegir para considerar el valor como significativo.\n",
    "\n",
    "En nuestro ejemplo si hemos obtenido un pvalor de 0.02 con el dato de 108 en la muestra, podremos aceptar que el valor en la población es 100 solo a un 98% de NC pero no a un 97% de NC por ejemplo.\n",
    "\n",
    "Por tanto, si nosotros definimos el mínimo NC que consideramos aceptable sólo tenemos que contrastar el pvalor contra el Alpha y ver directamente si es significativo a ese nivel o no.\n",
    "\n",
    "En nuestro ejemplo, si trabajamos a NC = 99% y por tanto Alpha = 0.01, no se cumple que Pvalor(0.02) < Alpha (0.01) y por tanto no podemos rechazar la hipótesis de que la media sea 100 al 99% de NC.\n",
    "\n",
    "Sin embargo sí rechazaríamos la hipótesis nula al 95% NC por ejemplo ya que en ese caso si es cierto que Pvalor (0.02) < Alpha (0.05)\n",
    "\n",
    "Es decir, operativamente **se interpreta como que si el pvalor es menor al Alpha entonces tenemos que rechazar la hipótesis nula**.\n",
    "\n",
    "Ya estaremos entrando en el contraste de hipótesis. Y vamos a explicar más lo que es la hipótesis nula y la alternativa."
   ]
  },
  {
   "cell_type": "markdown",
   "metadata": {},
   "source": [
    "### Contraste de hipótesis"
   ]
  },
  {
   "cell_type": "markdown",
   "metadata": {},
   "source": [
    "##### Hipótesis nula e hipótesis alternativa"
   ]
  },
  {
   "cell_type": "markdown",
   "metadata": {},
   "source": [
    "Prácticamente cualquier inferencia que queramos hacer podemos plantearla como el contraste de una hipótesis.\n",
    "\n",
    "En el ejemplo que estábamos haciendo hasta ahora la hipótesis sería si el valor de la media en la población podría ser de 100 o no.\n",
    "\n",
    "Vemos que realmente no es una hipótesis, si no dos. Lo que se llaman:\n",
    "\n",
    "* Hipótesis nula\n",
    "* Hipótesis alternativa\n",
    "\n",
    "La **hipótesis nula** en la mayoría de pruebas estadísticas suele ser que no hay \"efecto\".\n",
    "\n",
    "Por ejemplo si estamos comparando la efectividad de dos medicamentos, que no haya efecto aquí significa que ambos medicamentos van a tener resultados similares.\n",
    "\n",
    "O si estamos contratando un coeficiente de una variable de un modelo, que no haya efecto significa que ese coeficiente podría ser cero, y por tanto esa variable no sería predictiva.\n",
    "\n",
    "Normalmente la hipótesis nula es lo que nos gustaría \"rechazar\".\n",
    "\n",
    "Por el contrario, la **hipótesis alternativa** es que sí existe efecto, y normalmente es lo que buscamos.\n",
    "\n",
    "Por ejemplo en el caso de los medicamentos nos gustaría que sí hubiera diferencias. Por tanto:\n",
    "\n",
    "* La hipótesis nula será que el resultado provocado por los medicamentos es similar\n",
    "* La hipótesis alternativa será que el resultado provocado por los medicamentos es significativamente diferente"
   ]
  },
  {
   "cell_type": "markdown",
   "metadata": {},
   "source": [
    "##### Pruebas de contraste de hipótesis"
   ]
  },
  {
   "cell_type": "markdown",
   "metadata": {},
   "source": [
    "Generalizando todo lo que hemos visto hasta ahora tenemos que:\n",
    "\n",
    "1. Tenemos una distribución conocida, la normal, bien porque la variable original ya era normal o bien por lo que nos dice el teorema del límite central\n",
    "2. Tenemos una hipótesis nula que queremos contrastar\n",
    "3. Elegimos un Nivel de Confianza al cual queremos trabajar, que nos da un Alpha\n",
    "4. Según la prueba que estemos haciendo usaremos un estadístico u otro, que nos devolverá un Pvalor\n",
    "5. Si el Pvalor es menor que el Alpha entonces rechazamos la hipótesis nula, y por tanto aceptamos la alternativa\n",
    "\n",
    "En cuanto al estadístico del punto 4 es la parte más compleja, por lo que a nivel práctico y por simplificar, vamos a recoger los 4 principales escenarios que se nos van a presentar y el estadístico que debemos usar en cada caso:\n",
    "\n",
    "1. Contraste de medias en la población: es decir si la media obtenida puede ser compatible con una media hipotética de la población. Usaremos el estadístico t\n",
    "2. Contraste de medias entre dos muestras: es decir si la diferencia entre las media de grupos diferentes es significativa o no. Usaremos el estadístico t\n",
    "3. Contraste de proporciones en la población: es decir si la proporción obtenida puede ser compatible con una porporción hipotética en la población. Usaremos el estadístico z\n",
    "4. Contraste de proporciones entre dos muestras: es decir si la diferencia entre la proporción de grupos diferentes es significativa o no. Usaremos el estadístico z"
   ]
  },
  {
   "cell_type": "markdown",
   "metadata": {},
   "source": [
    "###### Contraste de medias en la población"
   ]
  },
  {
   "cell_type": "markdown",
   "metadata": {},
   "source": [
    "Queremos ver si el valor de la media obtenido en la muestra puede ser compatible con un hipotético valor en la población.\n",
    "\n",
    "Para ello seguiremos la metodología explicada, usando como estadístico de contraste la prueba t.\n",
    "\n",
    "Usaremos la implementación de Scipy con la función ttest_1samp() ya que estamos usando el estadístico t en una sola muestra (no comparamos entre dos muestras)\n",
    "\n",
    "https://docs.scipy.org/doc/scipy/reference/generated/scipy.stats.ttest_1samp.html\n",
    "\n",
    "A esta función tenemos que pasarle:\n",
    "\n",
    "* a: los datos\n",
    "* popmean: el valor de h0 a contrastar\n",
    "\n",
    "Como ejemplo vamos a calcular si es posible que la media de total_bill en la población sea de 25$."
   ]
  },
  {
   "cell_type": "code",
   "execution_count": 28,
   "metadata": {},
   "outputs": [
    {
     "data": {
      "text/plain": [
       "19.78594262295082"
      ]
     },
     "execution_count": 28,
     "metadata": {},
     "output_type": "execute_result"
    }
   ],
   "source": [
    "#Primero recordamos cual era el valor en nuestra muestra\n",
    "df.total_bill.mean()"
   ]
  },
  {
   "cell_type": "code",
   "execution_count": 29,
   "metadata": {},
   "outputs": [],
   "source": [
    "#Paso 1: definimos las hipótesis\n",
    "h0 = 25\n",
    "#Por tanto h1 es que sea diferente de 25"
   ]
  },
  {
   "cell_type": "code",
   "execution_count": 30,
   "metadata": {},
   "outputs": [],
   "source": [
    "#Paso 2: elegimos un nivel de confianza que nos da un alpha. \n",
    "#Elegimos NC = 95%\n",
    "alpha = 0.05"
   ]
  },
  {
   "cell_type": "code",
   "execution_count": 31,
   "metadata": {},
   "outputs": [
    {
     "name": "stdout",
     "output_type": "stream",
     "text": [
      "0.000\n"
     ]
    }
   ],
   "source": [
    "#Paso 3: calculamos el pvalor según el estadístico de contraste elegido (t sobre una muestra)\n",
    "p_valor = sp.stats.ttest_1samp(a = df.total_bill, popmean = h0)[1]\n",
    "print(f\"{p_valor:.3f}\")#Esto es para que no salga con notación científica"
   ]
  },
  {
   "cell_type": "markdown",
   "metadata": {},
   "source": [
    "Por tanto vemos que el pvalor es menor que alpha, por tanto no podemos aceptar la H0 y por tanto no es probable que la media de propinas en la población sea de 25$.\n",
    "\n",
    "Vamos a repetir el ejemplo, pero ahora con un valor quizá más probable. Testemos si la media de propinas podría ser de 20$."
   ]
  },
  {
   "cell_type": "code",
   "execution_count": 32,
   "metadata": {},
   "outputs": [],
   "source": [
    "#Paso 1: definimos las hipótesis\n",
    "h0 = 20\n",
    "#Por tanto h1 es que sea diferente de 20"
   ]
  },
  {
   "cell_type": "code",
   "execution_count": 33,
   "metadata": {},
   "outputs": [],
   "source": [
    "#Paso 2: elegimos un nivel de confianza que nos da un alpha. \n",
    "#Elegimos NC = 95%\n",
    "alpha = 0.05"
   ]
  },
  {
   "cell_type": "code",
   "execution_count": 34,
   "metadata": {},
   "outputs": [
    {
     "name": "stdout",
     "output_type": "stream",
     "text": [
      "0.708\n"
     ]
    }
   ],
   "source": [
    "#Paso 3: calculamos el pvalor según el estadístico de contraste elegido (t sobre una muestra)\n",
    "# como la h0 es una igualdad dejamos el alternative por defecto\n",
    "p_valor = sp.stats.ttest_1samp(a = df.total_bill, popmean = h0)[1]\n",
    "print(f\"{p_valor:.3f}\")#Esto es para que no salga con notación científica"
   ]
  },
  {
   "cell_type": "markdown",
   "metadata": {},
   "source": [
    "Ahora pvalor es mayor que alpha, luego no podemos rechazar H0, luego 20$ sí es un valor posible en la población a tenor de los datos de nuestra muestra."
   ]
  },
  {
   "cell_type": "markdown",
   "metadata": {},
   "source": [
    "###### Contraste de medias entre dos muestras"
   ]
  },
  {
   "cell_type": "markdown",
   "metadata": {},
   "source": [
    "En este caso lo que queremos ver es si la diferencia obtenida entre 2 medias de dos grupos distintos es o no significativa.\n",
    "\n",
    "Para ello seguiremos la metodología explicada, usando como estadístico de contraste la prueba t.\n",
    "\n",
    "Usaremos la implementación de Scipy con la función ttest_ind() ya que estamos usando el estadístico t en dos muestras que son independientes (porque pertenecen a dos poblaciones distintas).\n",
    "\n",
    "https://docs.scipy.org/doc/scipy/reference/generated/scipy.stats.ttest_ind.html\n",
    "\n",
    "A esta función tenemos que pasarle:\n",
    "\n",
    "* a y b: los datos en forma de arrays numpy\n",
    "* equal_var: ponerlo a False porque si no asume que ambas poblaciones tienen la misma varianza\n",
    "\n",
    "Como ejemplo vamos a calcular si hay diferencias significativas entre las propinas que dejan las mujeres y los hombres."
   ]
  },
  {
   "cell_type": "code",
   "execution_count": 35,
   "metadata": {
    "scrolled": true
   },
   "outputs": [
    {
     "data": {
      "text/plain": [
       "sex\n",
       "Male      20.744076\n",
       "Female    18.056897\n",
       "Name: total_bill, dtype: float64"
      ]
     },
     "execution_count": 35,
     "metadata": {},
     "output_type": "execute_result"
    }
   ],
   "source": [
    "#Primero recordamos cual era el valor en nuestra muestra\n",
    "df.groupby('sex', observed=False).total_bill.mean()"
   ]
  },
  {
   "cell_type": "code",
   "execution_count": 37,
   "metadata": {},
   "outputs": [
    {
     "data": {
      "text/html": [
       "<div>\n",
       "<style scoped>\n",
       "    .dataframe tbody tr th:only-of-type {\n",
       "        vertical-align: middle;\n",
       "    }\n",
       "\n",
       "    .dataframe tbody tr th {\n",
       "        vertical-align: top;\n",
       "    }\n",
       "\n",
       "    .dataframe thead th {\n",
       "        text-align: right;\n",
       "    }\n",
       "</style>\n",
       "<table border=\"1\" class=\"dataframe\">\n",
       "  <thead>\n",
       "    <tr style=\"text-align: right;\">\n",
       "      <th></th>\n",
       "      <th>total_bill</th>\n",
       "      <th>tip</th>\n",
       "      <th>sex</th>\n",
       "      <th>smoker</th>\n",
       "      <th>day</th>\n",
       "      <th>time</th>\n",
       "      <th>size</th>\n",
       "    </tr>\n",
       "  </thead>\n",
       "  <tbody>\n",
       "    <tr>\n",
       "      <th>0</th>\n",
       "      <td>16.99</td>\n",
       "      <td>1.01</td>\n",
       "      <td>Female</td>\n",
       "      <td>No</td>\n",
       "      <td>Sun</td>\n",
       "      <td>Dinner</td>\n",
       "      <td>2</td>\n",
       "    </tr>\n",
       "    <tr>\n",
       "      <th>1</th>\n",
       "      <td>10.34</td>\n",
       "      <td>1.66</td>\n",
       "      <td>Male</td>\n",
       "      <td>No</td>\n",
       "      <td>Sun</td>\n",
       "      <td>Dinner</td>\n",
       "      <td>3</td>\n",
       "    </tr>\n",
       "    <tr>\n",
       "      <th>2</th>\n",
       "      <td>21.01</td>\n",
       "      <td>3.50</td>\n",
       "      <td>Male</td>\n",
       "      <td>No</td>\n",
       "      <td>Sun</td>\n",
       "      <td>Dinner</td>\n",
       "      <td>3</td>\n",
       "    </tr>\n",
       "    <tr>\n",
       "      <th>3</th>\n",
       "      <td>23.68</td>\n",
       "      <td>3.31</td>\n",
       "      <td>Male</td>\n",
       "      <td>No</td>\n",
       "      <td>Sun</td>\n",
       "      <td>Dinner</td>\n",
       "      <td>2</td>\n",
       "    </tr>\n",
       "    <tr>\n",
       "      <th>4</th>\n",
       "      <td>24.59</td>\n",
       "      <td>3.61</td>\n",
       "      <td>Female</td>\n",
       "      <td>No</td>\n",
       "      <td>Sun</td>\n",
       "      <td>Dinner</td>\n",
       "      <td>4</td>\n",
       "    </tr>\n",
       "  </tbody>\n",
       "</table>\n",
       "</div>"
      ],
      "text/plain": [
       "   total_bill   tip     sex smoker  day    time  size\n",
       "0       16.99  1.01  Female     No  Sun  Dinner     2\n",
       "1       10.34  1.66    Male     No  Sun  Dinner     3\n",
       "2       21.01  3.50    Male     No  Sun  Dinner     3\n",
       "3       23.68  3.31    Male     No  Sun  Dinner     2\n",
       "4       24.59  3.61  Female     No  Sun  Dinner     4"
      ]
     },
     "execution_count": 37,
     "metadata": {},
     "output_type": "execute_result"
    }
   ],
   "source": [
    "df.head()"
   ]
  },
  {
   "cell_type": "code",
   "execution_count": 38,
   "metadata": {},
   "outputs": [],
   "source": [
    "#Tenemos que crear dos vectores, uno con los hombres y otro con la mujeres\n",
    "hombres = df.loc[df.sex == 'Male','total_bill']\n",
    "mujeres = df.loc[df.sex == 'Female','total_bill']"
   ]
  },
  {
   "cell_type": "code",
   "execution_count": 39,
   "metadata": {},
   "outputs": [],
   "source": [
    "#Paso 1: definimos las hipótesis\n",
    "#H0: los hombres y las mujeres dejan la misma propina\n",
    "#H1: los hombres y las mujeres no dejan la misma propina"
   ]
  },
  {
   "cell_type": "code",
   "execution_count": 40,
   "metadata": {},
   "outputs": [],
   "source": [
    "#Paso 2: elegimos un nivel de confianza que nos da un alpha. \n",
    "#Elegimos NC = 95%\n",
    "alpha = 0.05"
   ]
  },
  {
   "cell_type": "code",
   "execution_count": 41,
   "metadata": {},
   "outputs": [
    {
     "name": "stdout",
     "output_type": "stream",
     "text": [
      "0.019\n"
     ]
    }
   ],
   "source": [
    "#Paso 3: calculamos el pvalor según el estadístico de contraste elegido (t sobre dos muestras independientes)\n",
    "p_valor = sp.stats.ttest_ind(a = hombres, b = mujeres, equal_var = False)[1]\n",
    "print(f\"{p_valor:.3f}\")#Esto es para que no salga con notación científica"
   ]
  },
  {
   "cell_type": "markdown",
   "metadata": {},
   "source": [
    "Por tanto vemos que el pvalor es menor que alpha, por tanto no podemos aceptar la H0 y por tanto no es probable que la media de propinas en los hombres sea la misma que en las mujeres.\n",
    "\n",
    "Rechazamos h0 y concluímos que las diferencias sí son significativas al 95% de confianza.\n",
    "\n",
    "Pero vamos a ver si también lo son al 99% de confianza."
   ]
  },
  {
   "cell_type": "code",
   "execution_count": 42,
   "metadata": {},
   "outputs": [],
   "source": [
    "#Paso 1: definimos las hipótesis\n",
    "#H0: los hombres y las mujeres dejan la misma propina\n",
    "#H1: los hombres y las mujeres no dejan la misma propina"
   ]
  },
  {
   "cell_type": "code",
   "execution_count": 43,
   "metadata": {},
   "outputs": [],
   "source": [
    "#Paso 2: elegimos un nivel de confianza que nos da un alpha. \n",
    "#Elegimos NC = 99%\n",
    "alpha = 0.01"
   ]
  },
  {
   "cell_type": "code",
   "execution_count": 44,
   "metadata": {},
   "outputs": [
    {
     "name": "stdout",
     "output_type": "stream",
     "text": [
      "0.019\n"
     ]
    }
   ],
   "source": [
    "#Paso 3: calculamos el pvalor según el estadístico de contraste elegido (t sobre dos muestras independientes)\n",
    "p_valor = sp.stats.ttest_ind(a = hombres, b = mujeres, equal_var = False)[1]\n",
    "print(f\"{p_valor:.3f}\")#Esto es para que no salga con notación científica"
   ]
  },
  {
   "cell_type": "markdown",
   "metadata": {},
   "source": [
    "Ahora pvalor es mayor que alpha, luego no podemos rechazar H0, luego no podríamos afirmar con un 99% de confianza que los hombre dejen diferente propina que las mujeres."
   ]
  },
  {
   "cell_type": "markdown",
   "metadata": {},
   "source": [
    "###### Contraste de proporciones en la población"
   ]
  },
  {
   "cell_type": "markdown",
   "metadata": {},
   "source": [
    "Queremos ver si una proporción obtenida en la muestra puede ser compatible con un hipotético valor en la población.\n",
    "\n",
    "Para ello seguiremos la metodología explicada, usando como estadístico de contraste la prueba z.\n",
    "\n",
    "Scipy no tiene implementación (hasta donde yo sé) para hacer contrastes de proporciones, así que vamos a usar la implementación del paquete statsmodels, con la función proportions_ztest() ya que estamos usando el estadístico z, y como es en una sola muestra a los parámetros count y nobs solo les pasaremos un dato a cada uno.\n",
    "\n",
    "https://www.statsmodels.org/stable/generated/statsmodels.stats.proportion.proportions_ztest.html\n",
    "\n",
    "A esta función tenemos que pasarle:\n",
    "\n",
    "* count: los éxitos (lo que queremos medir)\n",
    "* nobs: el tamaño de la muestra\n",
    "* value: el valor de la hipótesis nula a testar\n",
    "\n",
    "Como estamos haciendo el contraste contra un dato de la población sólo le pasaremos un valor en count y en nobs, y le pasaremos el value.\n",
    "\n",
    "Si hiciéramos contraste entre 2 muestras (como en el siguiente ejemplo) entonces tendríamos que pasarle un array con dos números a count y a nobs, y no usaríamos el value.\n",
    "\n",
    "Como ejemplo vamos a calcular si es posible que el porcentaje de fumadores en la población sea del 40%."
   ]
  },
  {
   "cell_type": "code",
   "execution_count": 45,
   "metadata": {},
   "outputs": [
    {
     "data": {
      "text/plain": [
       "smoker\n",
       "No     0.618852\n",
       "Yes    0.381148\n",
       "Name: proportion, dtype: float64"
      ]
     },
     "execution_count": 45,
     "metadata": {},
     "output_type": "execute_result"
    }
   ],
   "source": [
    "#Primero recordamos cual era el valor en nuestra muestra (en porcentaje)\n",
    "df.smoker.value_counts(normalize = True)"
   ]
  },
  {
   "cell_type": "code",
   "execution_count": 46,
   "metadata": {},
   "outputs": [
    {
     "data": {
      "text/plain": [
       "smoker\n",
       "No     151\n",
       "Yes     93\n",
       "Name: count, dtype: int64"
      ]
     },
     "execution_count": 46,
     "metadata": {},
     "output_type": "execute_result"
    }
   ],
   "source": [
    "#Primero recordamos cual era el valor en nuestra muestra (en absoluto)\n",
    "df.smoker.value_counts()"
   ]
  },
  {
   "cell_type": "code",
   "execution_count": 47,
   "metadata": {},
   "outputs": [],
   "source": [
    "#Paso 1: definimos las hipótesis\n",
    "h0 = 0.4\n",
    "#Por tanto h1 es que sea diferente del 40%"
   ]
  },
  {
   "cell_type": "code",
   "execution_count": 48,
   "metadata": {},
   "outputs": [],
   "source": [
    "#Paso 2: elegimos un nivel de confianza que nos da un alpha. \n",
    "#Elegimos NC = 95%\n",
    "alpha = 0.05"
   ]
  },
  {
   "cell_type": "code",
   "execution_count": 49,
   "metadata": {},
   "outputs": [
    {
     "name": "stdout",
     "output_type": "stream",
     "text": [
      "0.544\n"
     ]
    }
   ],
   "source": [
    "#Paso 3: calculamos el pvalor según el estadístico de contraste elegido (z sobre una muestra)\n",
    "exitos = 93 #fijarse que aquí tenemos que poner los fumadores que son los que nos interesan\n",
    "muestra = 151 + 93\n",
    "p_valor = proportions_ztest(count = exitos, nobs = muestra, value = h0)[1]\n",
    "print(f\"{p_valor:.3f}\")#Esto es para que no salga con notación científica"
   ]
  },
  {
   "cell_type": "markdown",
   "metadata": {},
   "source": [
    "Por tanto vemos que el pvalor NO es menor que alpha, por tanto no podemos rechazar la H0 y por tanto sí puede ser que en esta población el 40% de las personas sean fumadoras (al 95% de confianza)"
   ]
  },
  {
   "cell_type": "markdown",
   "metadata": {},
   "source": [
    "###### Contraste de proporciones entre dos muestras"
   ]
  },
  {
   "cell_type": "markdown",
   "metadata": {},
   "source": [
    "Queremos ver si una diferencia en la proporción obtenida entre dos muestras puede ser estadísticamente significativa.\n",
    "\n",
    "Para ello seguiremos la metodología explicada, usando como estadístico de contraste la prueba z.\n",
    "\n",
    "Scipy no tiene implementación (hasta donde yo sé) para hacer contrastes de proporciones, así que vamos a usar la implementación del paquete statsmodels, con la función proportions_ztest() ya que estamos usando el estadístico z, y como son dos muestras, a los parámetros count y nobs les tendremos que pasar un array.\n",
    "\n",
    "https://www.statsmodels.org/stable/generated/statsmodels.stats.proportion.proportions_ztest.html\n",
    "\n",
    "A esta función tenemos que pasarle:\n",
    "\n",
    "* count: los éxitos (lo que queremos medir)\n",
    "* nobs: el tamaño de la muestra\n",
    "* value: el valor de la hipótesis nula a testar\n",
    "\n",
    "Como estamos haciendo el contraste de dos muestras le pasaremos un array con dos números a count y a nobs, y no usaremos el value.\n",
    "\n",
    "Como ejemplo vamos a calcular si la diferencia entre el porcentaje de fumadores entre hombres y mujeres puede ser significativa."
   ]
  },
  {
   "cell_type": "code",
   "execution_count": 50,
   "metadata": {},
   "outputs": [
    {
     "data": {
      "text/html": [
       "<div>\n",
       "<style scoped>\n",
       "    .dataframe tbody tr th:only-of-type {\n",
       "        vertical-align: middle;\n",
       "    }\n",
       "\n",
       "    .dataframe tbody tr th {\n",
       "        vertical-align: top;\n",
       "    }\n",
       "\n",
       "    .dataframe thead th {\n",
       "        text-align: right;\n",
       "    }\n",
       "</style>\n",
       "<table border=\"1\" class=\"dataframe\">\n",
       "  <thead>\n",
       "    <tr style=\"text-align: right;\">\n",
       "      <th>smoker</th>\n",
       "      <th>Yes</th>\n",
       "      <th>No</th>\n",
       "    </tr>\n",
       "    <tr>\n",
       "      <th>sex</th>\n",
       "      <th></th>\n",
       "      <th></th>\n",
       "    </tr>\n",
       "  </thead>\n",
       "  <tbody>\n",
       "    <tr>\n",
       "      <th>Male</th>\n",
       "      <td>0.645161</td>\n",
       "      <td>0.642384</td>\n",
       "    </tr>\n",
       "    <tr>\n",
       "      <th>Female</th>\n",
       "      <td>0.354839</td>\n",
       "      <td>0.357616</td>\n",
       "    </tr>\n",
       "  </tbody>\n",
       "</table>\n",
       "</div>"
      ],
      "text/plain": [
       "smoker       Yes        No\n",
       "sex                       \n",
       "Male    0.645161  0.642384\n",
       "Female  0.354839  0.357616"
      ]
     },
     "execution_count": 50,
     "metadata": {},
     "output_type": "execute_result"
    }
   ],
   "source": [
    "#Primero recordamos cual era el valor en nuestra muestra (en porcentaje)\n",
    "pd.crosstab(df.sex, df.smoker,normalize='columns')"
   ]
  },
  {
   "cell_type": "code",
   "execution_count": 51,
   "metadata": {},
   "outputs": [
    {
     "data": {
      "text/html": [
       "<div>\n",
       "<style scoped>\n",
       "    .dataframe tbody tr th:only-of-type {\n",
       "        vertical-align: middle;\n",
       "    }\n",
       "\n",
       "    .dataframe tbody tr th {\n",
       "        vertical-align: top;\n",
       "    }\n",
       "\n",
       "    .dataframe thead th {\n",
       "        text-align: right;\n",
       "    }\n",
       "</style>\n",
       "<table border=\"1\" class=\"dataframe\">\n",
       "  <thead>\n",
       "    <tr style=\"text-align: right;\">\n",
       "      <th>smoker</th>\n",
       "      <th>Yes</th>\n",
       "      <th>No</th>\n",
       "    </tr>\n",
       "    <tr>\n",
       "      <th>sex</th>\n",
       "      <th></th>\n",
       "      <th></th>\n",
       "    </tr>\n",
       "  </thead>\n",
       "  <tbody>\n",
       "    <tr>\n",
       "      <th>Male</th>\n",
       "      <td>60</td>\n",
       "      <td>97</td>\n",
       "    </tr>\n",
       "    <tr>\n",
       "      <th>Female</th>\n",
       "      <td>33</td>\n",
       "      <td>54</td>\n",
       "    </tr>\n",
       "  </tbody>\n",
       "</table>\n",
       "</div>"
      ],
      "text/plain": [
       "smoker  Yes  No\n",
       "sex            \n",
       "Male     60  97\n",
       "Female   33  54"
      ]
     },
     "execution_count": 51,
     "metadata": {},
     "output_type": "execute_result"
    }
   ],
   "source": [
    "#Primero recordamos cual era el valor en nuestra muestra (en absoluto)\n",
    "pd.crosstab(df.sex, df.smoker)"
   ]
  },
  {
   "cell_type": "code",
   "execution_count": 52,
   "metadata": {},
   "outputs": [],
   "source": [
    "#Paso 1: definimos las hipótesis\n",
    "#h0: el porcentaje de fumadores en hombres es igual que en mujeres\n",
    "#h1: el porcentaje de fumadores en hombres NO es igual que en mujeres"
   ]
  },
  {
   "cell_type": "code",
   "execution_count": 53,
   "metadata": {},
   "outputs": [],
   "source": [
    "#Paso 2: elegimos un nivel de confianza que nos da un alpha. \n",
    "#Elegimos NC = 95%\n",
    "alpha = 0.05"
   ]
  },
  {
   "cell_type": "code",
   "execution_count": 54,
   "metadata": {},
   "outputs": [
    {
     "name": "stdout",
     "output_type": "stream",
     "text": [
      "0.965\n"
     ]
    }
   ],
   "source": [
    "#Paso 3: calculamos el pvalor según el estadístico de contraste elegido (z sobre dos muestras)\n",
    "exitos_h = 60\n",
    "exitos_m = 33\n",
    "muestra_h = 60 + 97\n",
    "muestra_m = 33 + 54\n",
    "\n",
    "#lo pasamos a array porque así lo pide la función\n",
    "array_exitos = np.array([exitos_h,exitos_m])\n",
    "array_muestras = np.array([muestra_h,muestra_m])\n",
    "\n",
    "p_valor = proportions_ztest(count = array_exitos, nobs = array_muestras)[1]\n",
    "print(f\"{p_valor:.3f}\")#Esto es para que no salga con notación científica"
   ]
  },
  {
   "cell_type": "markdown",
   "metadata": {},
   "source": [
    "Por tanto vemos que el pvalor NO es menor que alpha, por tanto no podemos rechazar la H0 y por tanto al 95% de confianza no podemos decir que los hombres y las mujeres fumen en distinto porcentaje."
   ]
  },
  {
   "cell_type": "markdown",
   "metadata": {},
   "source": [
    "**¿Para qué nos sirve esto en data science?**"
   ]
  },
  {
   "cell_type": "markdown",
   "metadata": {},
   "source": [
    "Como ya hemos comentado en la mayoría de los casos, a nivel práctico, cuando queramos comprobar si el valor de un estadístico que hemos calculado (correlación, chi-cuadrado, coeficientes de modelos, ...) es significativo a nivel poblacional, la prueba ya nos devolverá el pvalor, por lo que solo tendremos que compararlo contra un Alpha, que normalmente será 0.05. \n",
    "\n",
    "Si Pvalor < Alpha entonces el valor SI es significativo.\n",
    "\n",
    "Pero más allá de que sea prácticamente muy sencillo, es conveninete que sepas de donde viene para entenderlo, aplicarlo e interpretarlo correctamente."
   ]
  },
  {
   "cell_type": "markdown",
   "metadata": {},
   "source": [
    "**Ejemplo práctico**"
   ]
  },
  {
   "cell_type": "markdown",
   "metadata": {},
   "source": [
    "Para terminar de afianzar los conceptos vamos a hacer un ejemplo práctico sobre uno de los casos de contraste de hipótesis que posiblemente tengas más oportunidad de realizar. Los test A/B.\n",
    "\n",
    "En general hacer test A/B es configurar un experimento donde queremos comprobar si hay diferncias significativas entre algo nuevo que queremos probar (grupo tratamiento) y lo que ya estaba funcionando (grupo de control).\n",
    "\n",
    "Es muy común actualmente por ejemplo en marketing digital, donde podemos tener una versión de una web y queremos comprobar si ciertos cambios hacen o no que suba la conversión.\n",
    "\n",
    "Lo mismo puede ser aplicado a emails, páginas de venta, etc.\n",
    "\n",
    "En este caso vamos a suponer que tenemos la web actual que llamaremos A. Y una variación que llamaremos B.\n",
    "\n",
    "Y vamos a asignar aleatoriamente la A a 1000 de los próximos visitantes y la B a otros 1000 también aleatorios.\n",
    "\n",
    "Vamos a suponer que es una web para registrarse y que 285 personas se registraron en la A y 321 en la B.\n",
    "\n",
    "Por tanto la conversión es:\n",
    "\n",
    "- Conversión A: 28.5%\n",
    "- Conversión B: 32.1%\n",
    "\n",
    "¿Esa diferencia es estadísticamente significativa y por tanto podemos cambiar la web con garantías?\n",
    "\n",
    "¿O quizá esa diferencia puede ser explicada simplemente por el azar muestral y por tanto no deberíamos cambiarla todavía?\n",
    "\n",
    "La hipótesis nula por tanto es que las 2 webs convierten igual, y la alternativa que no convierten igual.\n",
    "\n",
    "Y vamos a trabajar a un 95% de confianza, por tanto alpha = 0.05.\n",
    "\n",
    "Ya sabemos que al ser un contraste de proporciones podemos usar el test z.\n"
   ]
  },
  {
   "cell_type": "code",
   "execution_count": 55,
   "metadata": {},
   "outputs": [
    {
     "name": "stdout",
     "output_type": "stream",
     "text": [
      "pvalor igual a: 0.080\n"
     ]
    }
   ],
   "source": [
    "#Vamos a usar la implementación del test z para proporciones de statsmodels\n",
    "\n",
    "conversiones = np.array([285, 321])\n",
    "muestras = np.array([1000, 1000])\n",
    "\n",
    "pval = proportions_ztest(conversiones, muestras)[1]\n",
    "\n",
    "print('pvalor igual a: %.3f'%pval)"
   ]
  },
  {
   "cell_type": "markdown",
   "metadata": {},
   "source": [
    "Como el pvalor no es menor que 0.05 entonces no podemos rechazar la hipótesis nula.\n",
    "\n",
    "Es decir, no tenemos pruebas suficientemente sólidas para poder decir que la B convierte mejor, y por tanto la decisión será que por ahora no vamos a cambiar la web."
   ]
  }
 ],
 "metadata": {
  "kernelspec": {
   "display_name": "base",
   "language": "python",
   "name": "python3"
  },
  "language_info": {
   "codemirror_mode": {
    "name": "ipython",
    "version": 3
   },
   "file_extension": ".py",
   "mimetype": "text/x-python",
   "name": "python",
   "nbconvert_exporter": "python",
   "pygments_lexer": "ipython3",
   "version": "3.12.7"
  },
  "toc": {
   "base_numbering": "1",
   "nav_menu": {},
   "number_sections": true,
   "sideBar": true,
   "skip_h1_title": false,
   "title_cell": "Contenido",
   "title_sidebar": "Contents",
   "toc_cell": true,
   "toc_position": {
    "height": "calc(100% - 180px)",
    "left": "10px",
    "top": "150px",
    "width": "306.3px"
   },
   "toc_section_display": true,
   "toc_window_display": true
  },
  "varInspector": {
   "cols": {
    "lenName": 16,
    "lenType": 16,
    "lenVar": 40
   },
   "kernels_config": {
    "python": {
     "delete_cmd_postfix": "",
     "delete_cmd_prefix": "del ",
     "library": "var_list.py",
     "varRefreshCmd": "print(var_dic_list())"
    },
    "r": {
     "delete_cmd_postfix": ") ",
     "delete_cmd_prefix": "rm(",
     "library": "var_list.r",
     "varRefreshCmd": "cat(var_dic_list()) "
    }
   },
   "types_to_exclude": [
    "module",
    "function",
    "builtin_function_or_method",
    "instance",
    "_Feature"
   ],
   "window_display": false
  }
 },
 "nbformat": 4,
 "nbformat_minor": 4
}
