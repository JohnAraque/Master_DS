{
 "cells": [
  {
   "cell_type": "markdown",
   "metadata": {},
   "source": [
    "## EJERCICIO DE PIEDRA-PAPEL-TIJERA"
   ]
  },
  {
   "cell_type": "markdown",
   "metadata": {},
   "source": [
    "En este ejercicio vamos a crear este popular juego simplemente como forma de practicar sobre algunos de los principales conceptos que aprendimos en el curso acelerado de Python.\n",
    "\n",
    "El primer paso siempre es hacer un diseño de lo que queremos que haga el programa. En nuestro caso:\n",
    "\n",
    "1. Preguntar el nombre al jugador\n",
    "2. Explicar las reglas del juego\n",
    "3. Preguntar al jugador qué quiere sacar\n",
    "4. Hacer una tirada aleatoria por el ordenador\n",
    "5. Resolver quien ha ganado y sumarle el punto\n",
    "6. Repetir del 3 al 5 diez veces\n",
    "7. Evaluar el ganador final\n",
    "8. Mostrar el resultado"
   ]
  },
  {
   "cell_type": "markdown",
   "metadata": {},
   "source": [
    "Suele ser buena práctica intentar sacar en funciones todas aquellas operaciones que puedan ser aisladas o que vayan a repetirse varias veces.\n",
    "\n",
    "En nuestro caso vamos a sacar como funciones los siguiente procesos:\n",
    "* Preguntar al jugador qué quiere sacar\n",
    "* Hacer una tirada aleatoria por el ordenador\n",
    "* Resolver quien ha ganado y sumarle el punto\n",
    "\n",
    "Y el resto, que es secuencial, vamos a dejarlo como la parte principal del programa, que irá llamando a esas funciones cuando las necesite.\n",
    "\n",
    "Cuando hacemos esto hay que definir primero las funciones y dejar la parte principal del programa para el final.\n",
    "\n",
    "Vamos a por ello!"
   ]
  },
  {
   "cell_type": "markdown",
   "metadata": {},
   "source": [
    "**PASO 1:**\n",
    "\n",
    "Define una función, llamada jugador, que pregunte al jugador qué jugada quiere hacer usando los códigos de abajo, y devuelva el resultado como un entero.\n",
    "\n",
    "1: Piedra\n",
    "\n",
    "2: Papel\n",
    "\n",
    "3: Tijera"
   ]
  },
  {
   "cell_type": "code",
   "execution_count": 1,
   "metadata": {},
   "outputs": [],
   "source": [
    "def jugador():\n",
    "    respuesta = input('\\n ¿Qué jugada eliges (1: Piedra, 2: Papel, 3: Tijera)?: ')\n",
    "    return int(respuesta)"
   ]
  },
  {
   "cell_type": "markdown",
   "metadata": {},
   "source": [
    "**PASO 2:**\n",
    "\n",
    "Define una función, llamada ordenador, que seleccione aleatoriamente entre piedra, papel o tijera y devuelva el resultado.\n",
    "\n",
    "Pista: necesitarás el módulo random, y puedes buscar una función que te ayude en:\n",
    "\n",
    "https://www.w3schools.com/python/module_random.asp"
   ]
  },
  {
   "cell_type": "code",
   "execution_count": 2,
   "metadata": {},
   "outputs": [],
   "source": [
    "import random\n",
    "\n",
    "def ordenador():\n",
    "    opciones = ['piedra','papel','tijera']\n",
    "    opcion = random.choice(opciones)\n",
    "    return(opcion)"
   ]
  },
  {
   "cell_type": "markdown",
   "metadata": {},
   "source": [
    "**PASO 3:**\n",
    "\n",
    "Define una función, llamada compara, que tome como parámetros el resultado de la jugada del jugador y del ordenador, implemente la lógica del juego y devuelva el resultado, que podrá ser quien ha ganado o si ha habido empate."
   ]
  },
  {
   "cell_type": "code",
   "execution_count": 3,
   "metadata": {},
   "outputs": [],
   "source": [
    "def compara(jugador,ordenador):\n",
    "    ganador = None\n",
    "    if (jugador == 1 and ordenador == 'tijera'): ganador = 'jugador'\n",
    "    elif (jugador == 1 and ordenador == 'papel'): ganador = 'ordenador'\n",
    "    elif (jugador == 1 and ordenador == 'piedra'): ganador = 'empate'\n",
    "    elif (jugador == 2 and ordenador == 'tijera'): ganador = 'ordenador'\n",
    "    elif (jugador == 2 and ordenador == 'papel'): ganador = 'empate'\n",
    "    elif (jugador == 2 and ordenador == 'piedra'): ganador = 'jugador'\n",
    "    elif (jugador == 3 and ordenador == 'tijera'): ganador = 'empate'\n",
    "    elif (jugador == 3 and ordenador == 'papel'): ganador = 'jugador'\n",
    "    elif (jugador == 3 and ordenador == 'piedra'): ganador = 'ordenador'\n",
    "    else: print('Ha habido algún error')\n",
    "    return(ganador)"
   ]
  },
  {
   "cell_type": "markdown",
   "metadata": {},
   "source": [
    "**PASO 4:**\n",
    "\n",
    "Define la parte principal del programa que vaya siguiendo lo definido en el diseño y llamando a las funciones que hemos creado cuando sea necesario.\n",
    "\n",
    "Cuando lo hayas terminado ejecuta todas las celdas y diviértete!!"
   ]
  },
  {
   "cell_type": "code",
   "execution_count": null,
   "metadata": {},
   "outputs": [],
   "source": [
    "nombre = input('Cómo te llamas?: ')\n",
    "print('Hola %s vamos a echar 10 jugadas. Y el que consiga más puntos gana!' %nombre)\n",
    "\n",
    "puntos_j = 0\n",
    "puntos_o = 0\n",
    "\n",
    "for cada in range(10):\n",
    "    tirada_jugador = jugador()\n",
    "    tirada_ordenador = ordenador()\n",
    "    ganador = compara(tirada_jugador,tirada_ordenador)\n",
    "    if ganador == 'jugador':\n",
    "        print('\\n Yo he sacado %s'%tirada_ordenador)\n",
    "        print('\\n Así que esta la has ganado tú!!')\n",
    "        puntos_j += 1\n",
    "    elif ganador == 'ordenador':\n",
    "        print('\\n Yo he sacado %s'%tirada_ordenador)\n",
    "        print('\\n Así que esta la he ganado yo!!')\n",
    "        puntos_o += 1\n",
    "    elif ganador == 'empate':\n",
    "        print('\\n Vaya, yo también he sacado %s'%tirada_ordenador)\n",
    "        print('\\n Así que hemos empatado, venga otra mano')\n",
    "    else: print('Ha habido algún problema')\n",
    "\n",
    "if puntos_j > puntos_o:\n",
    "    puntos_finales = puntos_j\n",
    "    print('\\n HEMOS TERMINADO!!')\n",
    "    print('\\n El resultado final es que has ganado tú con {} puntos'.format(puntos_finales))\n",
    "elif puntos_j > puntos_o:\n",
    "    puntos_finales = puntos_o\n",
    "    print('\\n El resultado final es que he ganado yo con {} puntos'.format(puntos_finales))\n",
    "else:\n",
    "    print('\\n Pues parece que hemos empatado, así que todos ganamos!')"
   ]
  },
  {
   "cell_type": "code",
   "execution_count": null,
   "metadata": {},
   "outputs": [],
   "source": []
  }
 ],
 "metadata": {
  "kernelspec": {
   "display_name": "Python 3",
   "language": "python",
   "name": "python3"
  },
  "language_info": {
   "codemirror_mode": {
    "name": "ipython",
    "version": 3
   },
   "file_extension": ".py",
   "mimetype": "text/x-python",
   "name": "python",
   "nbconvert_exporter": "python",
   "pygments_lexer": "ipython3",
   "version": "3.9.1"
  },
  "toc": {
   "base_numbering": 1,
   "nav_menu": {},
   "number_sections": true,
   "sideBar": true,
   "skip_h1_title": false,
   "title_cell": "Table of Contents",
   "title_sidebar": "Contents",
   "toc_cell": false,
   "toc_position": {},
   "toc_section_display": true,
   "toc_window_display": true
  },
  "varInspector": {
   "cols": {
    "lenName": 16,
    "lenType": 16,
    "lenVar": 40
   },
   "kernels_config": {
    "python": {
     "delete_cmd_postfix": "",
     "delete_cmd_prefix": "del ",
     "library": "var_list.py",
     "varRefreshCmd": "print(var_dic_list())"
    },
    "r": {
     "delete_cmd_postfix": ") ",
     "delete_cmd_prefix": "rm(",
     "library": "var_list.r",
     "varRefreshCmd": "cat(var_dic_list()) "
    }
   },
   "types_to_exclude": [
    "module",
    "function",
    "builtin_function_or_method",
    "instance",
    "_Feature"
   ],
   "window_display": false
  }
 },
 "nbformat": 4,
 "nbformat_minor": 4
}
